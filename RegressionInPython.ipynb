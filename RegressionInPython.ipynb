{
  "nbformat": 4,
  "nbformat_minor": 0,
  "metadata": {
    "colab": {
      "name": "RegressionInPython.ipynb",
      "version": "0.3.2",
      "provenance": [],
      "collapsed_sections": [],
      "include_colab_link": true
    },
    "kernelspec": {
      "name": "python3",
      "display_name": "Python 3"
    }
  },
  "cells": [
    {
      "cell_type": "markdown",
      "metadata": {
        "id": "view-in-github",
        "colab_type": "text"
      },
      "source": [
        "<a href=\"https://colab.research.google.com/github/ogut77/OLSinPython/blob/master/RegressionInPython.ipynb\" target=\"_parent\"><img src=\"https://colab.research.google.com/assets/colab-badge.svg\" alt=\"Open In Colab\"/></a>"
      ]
    },
    {
      "metadata": {
        "id": "Kz_ZEd1qWq5W",
        "colab_type": "code",
        "outputId": "4743cfd5-5e00-4e3f-860f-af380e9b9c78",
        "colab": {
          "base_uri": "https://localhost:8080/",
          "height": 118
        }
      },
      "cell_type": "code",
      "source": [
        "import matplotlib.pyplot as plt\n",
        "import matplotlib.pyplot as plt2\n",
        "import numpy as np\n",
        "from sklearn import datasets, linear_model\n",
        "from sklearn.metrics import mean_squared_error, r2_score\n",
        "import pandas as pd \n",
        "import statsmodels.formula.api as smf\n",
        "data1=pd.read_csv(\"https://hogut.weebly.com/uploads/1/8/1/6/18163409/cars.csv\",delimiter=';')\n",
        "#Let's see first five observation\n",
        "print(data1[:5])"
      ],
      "execution_count": 0,
      "outputs": [
        {
          "output_type": "stream",
          "text": [
            "   speed  dist\n",
            "0      4     2\n",
            "1      4    10\n",
            "2      7     4\n",
            "3      7    22\n",
            "4      8    16\n"
          ],
          "name": "stdout"
        }
      ]
    },
    {
      "metadata": {
        "id": "kitKMfTBXHAl",
        "colab_type": "code",
        "outputId": "0c1d6bb5-8f88-4e85-960d-26b7532c6be0",
        "colab": {
          "base_uri": "https://localhost:8080/",
          "height": 118
        }
      },
      "cell_type": "code",
      "source": [
        "#We will take logarithmic transformation of variables and print 5 observation \n",
        "lndata1=np.log(data1)\n",
        "print(lndata1[:5])"
      ],
      "execution_count": 0,
      "outputs": [
        {
          "output_type": "stream",
          "text": [
            "      speed      dist\n",
            "0  1.386294  0.693147\n",
            "1  1.386294  2.302585\n",
            "2  1.945910  1.386294\n",
            "3  1.945910  3.091042\n",
            "4  2.079442  2.772589\n"
          ],
          "name": "stdout"
        }
      ]
    },
    {
      "metadata": {
        "id": "pp29cN1pXI5_",
        "colab_type": "code",
        "outputId": "9f521ab7-089a-4c5d-d02e-6c13c5a537cf",
        "colab": {
          "base_uri": "https://localhost:8080/",
          "height": 319
        }
      },
      "cell_type": "code",
      "source": [
        "#Let's see descriptive statistics \n",
        "print(data1.describe())\n",
        "print(lndata1.describe())"
      ],
      "execution_count": 0,
      "outputs": [
        {
          "output_type": "stream",
          "text": [
            "           speed        dist\n",
            "count  50.000000   50.000000\n",
            "mean   15.400000   42.980000\n",
            "std     5.287644   25.769377\n",
            "min     4.000000    2.000000\n",
            "25%    12.000000   26.000000\n",
            "50%    15.000000   36.000000\n",
            "75%    19.000000   56.000000\n",
            "max    25.000000  120.000000\n",
            "           speed       dist\n",
            "count  50.000000  50.000000\n",
            "mean    2.662007   3.535907\n",
            "std     0.414908   0.776472\n",
            "min     1.386294   0.693147\n",
            "25%     2.484907   3.258097\n",
            "50%     2.708050   3.583519\n",
            "75%     2.944439   4.025352\n",
            "max     3.218876   4.787492\n"
          ],
          "name": "stdout"
        }
      ]
    },
    {
      "metadata": {
        "id": "d8S2uksFXRAU",
        "colab_type": "code",
        "outputId": "4e3582f8-497a-42af-f833-3baa5009d2a7",
        "colab": {
          "base_uri": "https://localhost:8080/",
          "height": 364
        }
      },
      "cell_type": "code",
      "source": [
        "#plot \n",
        "plt.figure(1)\n",
        "plt.scatter(data1.speed, data1.dist,  color='black')"
      ],
      "execution_count": 0,
      "outputs": [
        {
          "output_type": "execute_result",
          "data": {
            "text/plain": [
              "<matplotlib.collections.PathCollection at 0x7f2e468318d0>"
            ]
          },
          "metadata": {
            "tags": []
          },
          "execution_count": 4
        },
        {
          "output_type": "display_data",
          "data": {
            "image/png": "[encoded data removed]",
            "text/plain": [
              "<Figure size 576x396 with 1 Axes>"
            ]
          },
          "metadata": {
            "tags": []
          }
        }
      ]
    },
    {
      "metadata": {
        "id": "5_98_a_jXhCc",
        "colab_type": "code",
        "outputId": "9235df2a-5cc0-4b26-ba6a-39dc978466fd",
        "colab": {
          "base_uri": "https://localhost:8080/",
          "height": 368
        }
      },
      "cell_type": "code",
      "source": [
        "\n",
        "plt.figure(2)\n",
        "plt.scatter(lndata1.speed, lndata1.dist,  color='red')"
      ],
      "execution_count": 0,
      "outputs": [
        {
          "output_type": "execute_result",
          "data": {
            "text/plain": [
              "<matplotlib.collections.PathCollection at 0x7f2e44742908>"
            ]
          },
          "metadata": {
            "tags": []
          },
          "execution_count": 5
        },
        {
          "output_type": "display_data",
          "data": {
            "image/png": "[encoded data removed]",
            "text/plain": [
              "<Figure size 576x396 with 1 Axes>"
            ]
          },
          "metadata": {
            "tags": []
          }
        }
      ]
    },
    {
      "metadata": {
        "id": "i3tgztCuXrrE",
        "colab_type": "code",
        "outputId": "85e53520-7541-46ad-bb74-c11e85d1187d",
        "colab": {
          "base_uri": "https://localhost:8080/",
          "height": 437
        }
      },
      "cell_type": "code",
      "source": [
        "#It seems 2nd graph is more suited for linear relation. \n",
        "#Let's see from regression results\n",
        "results = smf.ols('dist ~ speed', data=data1).fit()\n",
        "print(results.summary())\n"
      ],
      "execution_count": 0,
      "outputs": [
        {
          "output_type": "stream",
          "text": [
            "                            OLS Regression Results                            \n",
            "==============================================================================\n",
            "Dep. Variable:                   dist   R-squared:                       0.651\n",
            "Model:                            OLS   Adj. R-squared:                  0.644\n",
            "Method:                 Least Squares   F-statistic:                     89.57\n",
            "Date:                Mon, 04 Mar 2019   Prob (F-statistic):           1.49e-12\n",
            "Time:                        20:22:08   Log-Likelihood:                -206.58\n",
            "No. Observations:                  50   AIC:                             417.2\n",
            "Df Residuals:                      48   BIC:                             421.0\n",
            "Df Model:                           1                                         \n",
            "Covariance Type:            nonrobust                                         \n",
            "==============================================================================\n",
            "                 coef    std err          t      P>|t|      [0.025      0.975]\n",
            "------------------------------------------------------------------------------\n",
            "Intercept    -17.5791      6.758     -2.601      0.012     -31.168      -3.990\n",
            "speed          3.9324      0.416      9.464      0.000       3.097       4.768\n",
            "==============================================================================\n",
            "Omnibus:                        8.975   Durbin-Watson:                   1.676\n",
            "Prob(Omnibus):                  0.011   Jarque-Bera (JB):                8.189\n",
            "Skew:                           0.885   Prob(JB):                       0.0167\n",
            "Kurtosis:                       3.893   Cond. No.                         50.7\n",
            "==============================================================================\n",
            "\n",
            "Warnings:\n",
            "[1] Standard Errors assume that the covariance matrix of the errors is correctly specified.\n"
          ],
          "name": "stdout"
        }
      ]
    },
    {
      "metadata": {
        "id": "AOkKenOYXwUY",
        "colab_type": "code",
        "outputId": "ed3fe616-69f0-4394-9c02-b5e52fb5d80a",
        "colab": {
          "base_uri": "https://localhost:8080/",
          "height": 437
        }
      },
      "cell_type": "code",
      "source": [
        "\n",
        "lnresults= smf.ols('dist ~ speed', data=lndata1).fit()\n",
        "print(lnresults.summary())"
      ],
      "execution_count": 0,
      "outputs": [
        {
          "output_type": "stream",
          "text": [
            "                            OLS Regression Results                            \n",
            "==============================================================================\n",
            "Dep. Variable:                   dist   R-squared:                       0.733\n",
            "Model:                            OLS   Adj. R-squared:                  0.728\n",
            "Method:                 Least Squares   F-statistic:                     131.9\n",
            "Date:                Mon, 04 Mar 2019   Prob (F-statistic):           2.26e-15\n",
            "Time:                        20:22:26   Log-Likelihood:                -24.766\n",
            "No. Observations:                  50   AIC:                             53.53\n",
            "Df Residuals:                      48   BIC:                             57.36\n",
            "Df Model:                           1                                         \n",
            "Covariance Type:            nonrobust                                         \n",
            "==============================================================================\n",
            "                 coef    std err          t      P>|t|      [0.025      0.975]\n",
            "------------------------------------------------------------------------------\n",
            "Intercept     -0.7297      0.376     -1.941      0.058      -1.485       0.026\n",
            "speed          1.6024      0.140     11.484      0.000       1.322       1.883\n",
            "==============================================================================\n",
            "Omnibus:                        0.169   Durbin-Watson:                   2.411\n",
            "Prob(Omnibus):                  0.919   Jarque-Bera (JB):                0.010\n",
            "Skew:                          -0.033   Prob(JB):                        0.995\n",
            "Kurtosis:                       2.985   Cond. No.                         20.0\n",
            "==============================================================================\n",
            "\n",
            "Warnings:\n",
            "[1] Standard Errors assume that the covariance matrix of the errors is correctly specified.\n"
          ],
          "name": "stdout"
        }
      ]
    },
    {
      "metadata": {
        "id": "G_7Zuh0MX0rI",
        "colab_type": "code",
        "outputId": "f4603df3-3dbe-4d58-9994-f248e5326eb9",
        "colab": {
          "base_uri": "https://localhost:8080/",
          "height": 364
        }
      },
      "cell_type": "code",
      "source": [
        "#Log log model (2nd model) has higher R2, adj-R2 and F-stat. Thus, it is better\n",
        "#Data points are more concentrated around predicted line at the following second graph\n",
        "ypred = results.predict()\n",
        "plt.figure(3)\n",
        "plt.plot(data1.speed, ypred, color='blue', linewidth=3)\n",
        "plt.scatter(data1.speed, data1.dist,  color='black')"
      ],
      "execution_count": 0,
      "outputs": [
        {
          "output_type": "execute_result",
          "data": {
            "text/plain": [
              "<matplotlib.collections.PathCollection at 0x7f2e44690ba8>"
            ]
          },
          "metadata": {
            "tags": []
          },
          "execution_count": 8
        },
        {
          "output_type": "display_data",
          "data": {
            "image/png": "[encoded data removed]",
            "text/plain": [
              "<Figure size 576x396 with 1 Axes>"
            ]
          },
          "metadata": {
            "tags": []
          }
        }
      ]
    },
    {
      "metadata": {
        "id": "rN8PvAr7X98p",
        "colab_type": "code",
        "outputId": "d00b7f33-2983-4d08-8d30-08add3714c53",
        "colab": {
          "base_uri": "https://localhost:8080/",
          "height": 368
        }
      },
      "cell_type": "code",
      "source": [
        "lnypred = lnresults.predict()\n",
        "plt.figure(4)\n",
        "plt.scatter(lndata1.speed, lndata1.dist,  color='red')\n",
        "plt.plot(lndata1.speed, lnypred, color='blue', linewidth=3)"
      ],
      "execution_count": 0,
      "outputs": [
        {
          "output_type": "execute_result",
          "data": {
            "text/plain": [
              "[<matplotlib.lines.Line2D at 0x7f2e4479c320>]"
            ]
          },
          "metadata": {
            "tags": []
          },
          "execution_count": 9
        },
        {
          "output_type": "display_data",
          "data": {
            "image/png": "[encoded data removed]",
            "text/plain": [
              "<Figure size 576x396 with 1 Axes>"
            ]
          },
          "metadata": {
            "tags": []
          }
        }
      ]
    }
  ]
}