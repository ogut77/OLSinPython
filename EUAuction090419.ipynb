{
  "nbformat": 4,
  "nbformat_minor": 0,
  "metadata": {
    "colab": {
      "name": "EUAuction090419.ipynb",
      "version": "0.3.2",
      "provenance": [],
      "collapsed_sections": [],
      "include_colab_link": true
    },
    "kernelspec": {
      "name": "python3",
      "display_name": "Python 3"
    }
  },
  "cells": [
    {
      "cell_type": "markdown",
      "metadata": {
        "id": "view-in-github",
        "colab_type": "text"
      },
      "source": [
        "<a href=\"https://colab.research.google.com/github/ogut77/OLSinPython/blob/master/EUAuction090419.ipynb\" target=\"_parent\"><img src=\"https://colab.research.google.com/assets/colab-badge.svg\" alt=\"Open In Colab\"/></a>"
      ]
    },
    {
      "metadata": {
        "id": "5Oy-FBOFe7K1",
        "colab_type": "code",
        "outputId": "615022cb-5573-462b-ec82-b1ae98c70d1a",
        "colab": {
          "base_uri": "https://localhost:8080/",
          "height": 34
        }
      },
      "cell_type": "code",
      "source": [
        "import pandas as pd\n",
        "from google.colab import drive\n",
        "\n",
        "# This will prompt for authorization.\n",
        "drive.mount('/content/drive')\n",
        "   "
      ],
      "execution_count": 53,
      "outputs": [
        {
          "output_type": "stream",
          "text": [
            "Drive already mounted at /content/drive; to attempt to forcibly remount, call drive.mount(\"/content/drive\", force_remount=True).\n"
          ],
          "name": "stdout"
        }
      ]
    },
    {
      "metadata": {
        "id": "MSyUmxzm4vZW",
        "colab_type": "code",
        "outputId": "e588804d-30c4-45a7-b4d7-b4b0e6066fb4",
        "colab": {
          "base_uri": "https://localhost:8080/",
          "height": 67
        }
      },
      "cell_type": "code",
      "source": [
        "!ls '/content/drive/My Drive/'\n"
      ],
      "execution_count": 2,
      "outputs": [
        {
          "output_type": "stream",
          "text": [
            " 2009.csv   2012.csv   2015.csv   Bulldozer\t     ml-latest-smalla\n",
            " 2010.csv   2013.csv   2016.csv  'Colab Notebooks'   Santander\n",
            " 2011.csv   2014.csv   2017.csv   ml-latesta\t     shakespeare.txt\n"
          ],
          "name": "stdout"
        }
      ]
    },
    {
      "metadata": {
        "id": "2h6Qc1znLFkF",
        "colab_type": "code",
        "outputId": "876684b5-b971-4ac3-f098-056a7119d510",
        "colab": {
          "base_uri": "https://localhost:8080/",
          "height": 205
        }
      },
      "cell_type": "code",
      "source": [
        "d2013=pd.read_csv('/content/drive/My Drive/2013.csv')\n",
        "d2014=pd.read_csv('/content/drive/My Drive/2014.csv')\n",
        "d2015=pd.read_csv('/content/drive/My Drive/2015.csv')\n",
        "d2016=pd.read_csv('/content/drive/My Drive/2016.csv')\n",
        "d2017=pd.read_csv('/content/drive/My Drive/2017.csv')\n",
        "\n",
        "\n",
        "\n"
      ],
      "execution_count": 3,
      "outputs": [
        {
          "output_type": "stream",
          "text": [
            "/usr/local/lib/python3.6/dist-packages/IPython/core/interactiveshell.py:2718: DtypeWarning: Columns (18,28,39) have mixed types. Specify dtype option on import or set low_memory=False.\n",
            "  interactivity=interactivity, compiler=compiler, result=result)\n",
            "/usr/local/lib/python3.6/dist-packages/IPython/core/interactiveshell.py:2718: DtypeWarning: Columns (27,48) have mixed types. Specify dtype option on import or set low_memory=False.\n",
            "  interactivity=interactivity, compiler=compiler, result=result)\n",
            "/usr/local/lib/python3.6/dist-packages/IPython/core/interactiveshell.py:2718: DtypeWarning: Columns (8,15,21,22,27,30,42,49,51,53,58) have mixed types. Specify dtype option on import or set low_memory=False.\n",
            "  interactivity=interactivity, compiler=compiler, result=result)\n",
            "/usr/local/lib/python3.6/dist-packages/IPython/core/interactiveshell.py:2718: DtypeWarning: Columns (16) have mixed types. Specify dtype option on import or set low_memory=False.\n",
            "  interactivity=interactivity, compiler=compiler, result=result)\n",
            "/usr/local/lib/python3.6/dist-packages/IPython/core/interactiveshell.py:2718: DtypeWarning: Columns (16,18) have mixed types. Specify dtype option on import or set low_memory=False.\n",
            "  interactivity=interactivity, compiler=compiler, result=result)\n"
          ],
          "name": "stderr"
        }
      ]
    },
    {
      "metadata": {
        "id": "d7o194foA53x",
        "colab_type": "code",
        "outputId": "96b5a048-d1e7-4700-d42f-9a6169d7458b",
        "colab": {
          "base_uri": "https://localhost:8080/",
          "height": 118
        }
      },
      "cell_type": "code",
      "source": [
        "print(len(d2013))\n",
        "print(len(d2014))\n",
        "print(len(d2015))\n",
        "print(len(d2016))\n",
        "print(len(d2017))\n",
        "frames = [d2013, d2014,d2015, d2016,d2017]\n",
        "\n",
        "dt = pd.concat(frames)\n",
        "print(len(dt))"
      ],
      "execution_count": 54,
      "outputs": [
        {
          "output_type": "stream",
          "text": [
            "500221\n",
            "522344\n",
            "542597\n",
            "538181\n",
            "708840\n",
            "2812183\n"
          ],
          "name": "stdout"
        }
      ]
    },
    {
      "metadata": {
        "id": "F_3pyH6dLkzr",
        "colab_type": "code",
        "outputId": "7999a7ae-b248-4e94-ee68-7006745e02fd",
        "colab": {
          "base_uri": "https://localhost:8080/",
          "height": 353
        }
      },
      "cell_type": "code",
      "source": [
        "\n",
        "dt['WIN_COUNTRY_CODE'].unique()\n",
        "# new data frame with split value columns \n",
        "new = dt[\"WIN_COUNTRY_CODE\"].str.split(\"---\", n = 1, expand = True) \n",
        "dt[\"WIN_COUNTRY_CODE\"]= new[0]\n",
        "dt['WIN_COUNTRY_CODE'].unique()\n"
      ],
      "execution_count": 55,
      "outputs": [
        {
          "output_type": "execute_result",
          "data": {
            "text/plain": [
              "array([nan, 'CZ', 'BE', 'FR', 'DE', 'AT', 'LT', 'ES', 'PT', 'CY', 'BG',\n",
              "       'PL', 'UK', 'US', 'GR', 'FI', 'DK', 'AW', 'IE', 'HR', 'IT', 'NL',\n",
              "       'SK', 'EE', 'HU', 'SE', 'NO', 'CH', 'LU', 'LV', 'RO', 'JP', 'BY',\n",
              "       'AE', 'SI', 'MQ', 'MT', 'GP', 'UA', 'IS', 'GF', 'GI', 'RS', 'PA',\n",
              "       'CA', 'RE', 'IL', 'CN', 'IN', 'TR', 'KE', 'SG', 'LI', 'PK', 'KP',\n",
              "       'ZA', 'RU', 'TW', 'KR', 'AD', 'CX', 'AO', 'AZ', 'VG', 'MU', 'KZ',\n",
              "       'UM', 'AF', 'MA', 'SH', 'NG', 'MK', 'NC', 'AU', 'BI', 'KN', 'LK',\n",
              "       'AL', 'JE', 'VU', 'TN', 'EG', 'BJ', 'TJ', 'FO', 'ZW', 'AN', 'CU',\n",
              "       'CF', 'ML', 'TV', 'UY', 'SM', 'NZ', 'MC', 'SR', 'DZ', 'GE', 'MY',\n",
              "       'HK', 'LB', 'BF', 'VA', 'UZ', 'PF', 'YT', 'MH', 'SA', 'CO', 'GS',\n",
              "       'KG', 'DO', 'CD', 'CI', 'BR', 'SZ', 'CR', 'BA', 'LY', 'VI', 'DJ',\n",
              "       'IR', 'CL', 'EC', 'AM', 'NE', 'ID', 'AI', 'NR', 'TC', 'AX', 'JO',\n",
              "       'MX', 'FJ', 'PM', 'BS', 'SD', 'TL', '1A', 'SV', 'JM', 'TH', 'GH',\n",
              "       'ZM', 'BD', 'SC', 'PR', 'MD', 'KH', 'BM', 'VN', 'LS', 'ET', 'CV',\n",
              "       'ME', 'PH', 'MM', 'QA', 'ER', 'GT', 'TM', 'FK', 'LA', 'WF', 'BQ',\n",
              "       'FM', 'GU', 'GM', 'OM', 'SY', 'NP', 'IM', 'UG', 'BO', 'BH', 'GL',\n",
              "       'MZ', 'TZ', 'SL', 'LR', 'VE', 'NF', 'AR', 'PS', 'IO', 'MN', 'AG',\n",
              "       'DM', 'MF', 'TO', 'GA', 'SO', 'RW', 'MW', 'CM', 'KW', 'BT', 'PG',\n",
              "       'WS', 'BW', 'TD', 'CW', 'IQ', 'BZ', 'TT', 'NA', 'HT', 'GG', 'AS'],\n",
              "      dtype=object)"
            ]
          },
          "metadata": {
            "tags": []
          },
          "execution_count": 55
        }
      ]
    },
    {
      "metadata": {
        "id": "eJeoyeNYSMD6",
        "colab_type": "code",
        "colab": {}
      },
      "cell_type": "code",
      "source": [
        "dt=dt[['ID_NOTICE_CAN','YEAR','CANCELLED','CAE_TOWN','ISO_COUNTRY_CODE' ,'CAE_TYPE', 'TYPE_OF_CONTRACT'  ,'CPV', 'B_GPA',\n",
        "              'VALUE_EURO', 'VALUE_EURO_FIN_1', 'VALUE_EURO_FIN_2', 'B_EU_FUNDS', 'TOP_TYPE', 'B_ACCELERATED' ,'CRIT_CODE',\n",
        "              'B_ELECTRONIC_AUCTION', 'ID_AWARD', 'WIN_TOWN', 'WIN_COUNTRY_CODE' ,'NUMBER_OFFERS','AWARD_EST_VALUE_EURO', 'AWARD_VALUE_EURO',\n",
        "              'AWARD_VALUE_EURO_FIN_1', 'B_SUBCONTRACTED', 'DT_AWARD']]\n",
        "dt = dt.drop(columns=['CANCELLED','B_EU_FUNDS','B_ACCELERATED','CRIT_CODE','B_ELECTRONIC_AUCTION'])"
      ],
      "execution_count": 0,
      "outputs": []
    },
    {
      "metadata": {
        "id": "1UT3h1CEXJBJ",
        "colab_type": "code",
        "outputId": "ce3b9d06-5baa-4c03-fc0a-0a0678a2a641",
        "colab": {
          "base_uri": "https://localhost:8080/",
          "height": 50
        }
      },
      "cell_type": "code",
      "source": [
        "dt.rename(columns={'TOP_TYPE': 'PROCEDURE'}, inplace=True)\n",
        "print(dt['PROCEDURE'].unique())\n",
        "import numpy as np\n",
        "\n",
        "dt['PROCEDURE']=np.where(dt['PROCEDURE']==\"NOP\",\"NOC\",dt['PROCEDURE'])\n",
        "dt['PROCEDURE']=np.where(dt['PROCEDURE']==\"NIP\",\"NIC\",dt['PROCEDURE'])\n",
        "print(dt['PROCEDURE'].unique())"
      ],
      "execution_count": 57,
      "outputs": [
        {
          "output_type": "stream",
          "text": [
            "['OPE' 'NOC' 'RES' nan 'NIC' 'AWP' 'COD' 'NOP' 'NIP' 'INP']\n",
            "['OPE' 'NOC' 'RES' nan 'NIC' 'AWP' 'COD' 'INP']\n"
          ],
          "name": "stdout"
        }
      ]
    },
    {
      "metadata": {
        "id": "Qr46PFSieePo",
        "colab_type": "code",
        "outputId": "5cc15fe6-6640-44d8-f0f2-60157d9f1f92",
        "colab": {
          "base_uri": "https://localhost:8080/",
          "height": 101
        }
      },
      "cell_type": "code",
      "source": [
        "new=dt['CPV'].astype(str)\n",
        "# make the new columns using string indexing\n",
        "dt['CPV'] = new.str[0:2]\n",
        "dt['CPV'].unique()"
      ],
      "execution_count": 58,
      "outputs": [
        {
          "output_type": "execute_result",
          "data": {
            "text/plain": [
              "array(['45', '34', '39', '44', '50', '31', '33', '24', '38', '93', '91',\n",
              "       '48', '35', '55', '22', '80', '66', '72', '92', '79', '77', '90',\n",
              "       '85', '64', '71', '60', '65', '51', '63', '15', '42', '70', '76',\n",
              "       '18', '37', '75', '73', '30', '32', '43', '14', '98', '41', '16',\n",
              "       '19', 'na'], dtype=object)"
            ]
          },
          "metadata": {
            "tags": []
          },
          "execution_count": 58
        }
      ]
    },
    {
      "metadata": {
        "id": "DWUmKsy-X4Vt",
        "colab_type": "code",
        "outputId": "5b7877ca-f226-4369-a45e-82a5a88c46f2",
        "colab": {
          "base_uri": "https://localhost:8080/",
          "height": 252
        }
      },
      "cell_type": "code",
      "source": [
        "dt.rename(columns={'CPV': 'SECTOR'}, inplace=True)\n",
        "print(dt.columns)\n",
        "dt.rename(columns={'ISO_COUNTRY_CODE': 'AUTHORITY_COUNTRY', 'WIN_COUNTRY_CODE': 'WINNER_COUNTRY'}, inplace=True)\n",
        "dt['FOREIGN_WINNER']=np.where((dt['AUTHORITY_COUNTRY']!=dt['WINNER_COUNTRY']),1,0)\n",
        "print(dt.columns)"
      ],
      "execution_count": 59,
      "outputs": [
        {
          "output_type": "stream",
          "text": [
            "Index(['ID_NOTICE_CAN', 'YEAR', 'CAE_TOWN', 'ISO_COUNTRY_CODE', 'CAE_TYPE',\n",
            "       'TYPE_OF_CONTRACT', 'SECTOR', 'B_GPA', 'VALUE_EURO', 'VALUE_EURO_FIN_1',\n",
            "       'VALUE_EURO_FIN_2', 'PROCEDURE', 'ID_AWARD', 'WIN_TOWN',\n",
            "       'WIN_COUNTRY_CODE', 'NUMBER_OFFERS', 'AWARD_EST_VALUE_EURO',\n",
            "       'AWARD_VALUE_EURO', 'AWARD_VALUE_EURO_FIN_1', 'B_SUBCONTRACTED',\n",
            "       'DT_AWARD'],\n",
            "      dtype='object')\n",
            "Index(['ID_NOTICE_CAN', 'YEAR', 'CAE_TOWN', 'AUTHORITY_COUNTRY', 'CAE_TYPE',\n",
            "       'TYPE_OF_CONTRACT', 'SECTOR', 'B_GPA', 'VALUE_EURO', 'VALUE_EURO_FIN_1',\n",
            "       'VALUE_EURO_FIN_2', 'PROCEDURE', 'ID_AWARD', 'WIN_TOWN',\n",
            "       'WINNER_COUNTRY', 'NUMBER_OFFERS', 'AWARD_EST_VALUE_EURO',\n",
            "       'AWARD_VALUE_EURO', 'AWARD_VALUE_EURO_FIN_1', 'B_SUBCONTRACTED',\n",
            "       'DT_AWARD', 'FOREIGN_WINNER'],\n",
            "      dtype='object')\n"
          ],
          "name": "stdout"
        }
      ]
    },
    {
      "metadata": {
        "id": "sow1pRukvfIn",
        "colab_type": "code",
        "outputId": "8c363dbb-5649-493a-a0c6-563e26732397",
        "colab": {
          "base_uri": "https://localhost:8080/",
          "height": 118
        }
      },
      "cell_type": "code",
      "source": [
        "dt['EU_COUNTRY']=np.where(dt['WINNER_COUNTRY']=='AT',1,0)\n",
        "dt['EU_COUNTRY']=np.where(dt['WINNER_COUNTRY']=='BE',1,dt['EU_COUNTRY'])\n",
        "dt['EU_COUNTRY']=np.where(((dt['WINNER_COUNTRY']=='BG')&(dt['YEAR']>2007)) ,1,dt['EU_COUNTRY'])\n",
        "dt['EU_COUNTRY']=np.where(dt['WINNER_COUNTRY']=='HR',1,dt['EU_COUNTRY'])\n",
        "dt['EU_COUNTRY']=np.where(dt['WINNER_COUNTRY']=='CY',1,dt['EU_COUNTRY'])\n",
        "dt['EU_COUNTRY']=np.where(((dt['WINNER_COUNTRY']=='CZ')&(dt['YEAR']>2007)) ,1,dt['EU_COUNTRY'])\n",
        "dt['EU_COUNTRY']=np.where(dt['WINNER_COUNTRY']=='DK',1,dt['EU_COUNTRY'])\n",
        "dt['EU_COUNTRY']=np.where(dt['WINNER_COUNTRY']=='EE',1,dt['EU_COUNTRY'])\n",
        "dt['EU_COUNTRY']=np.where(dt['WINNER_COUNTRY']=='FI',1,dt['EU_COUNTRY'])\n",
        "dt['EU_COUNTRY']=np.where(dt['WINNER_COUNTRY']=='FR',1,dt['EU_COUNTRY'])\n",
        "dt['EU_COUNTRY']=np.where(dt['WINNER_COUNTRY']=='DE',1,dt['EU_COUNTRY'])\n",
        "dt['EU_COUNTRY']=np.where(dt['WINNER_COUNTRY']=='GR',1,dt['EU_COUNTRY'])\n",
        "dt['EU_COUNTRY']=np.where(dt['WINNER_COUNTRY']=='HU',1,dt['EU_COUNTRY'])\n",
        "dt['EU_COUNTRY']=np.where(dt['WINNER_COUNTRY']=='IE',1,dt['EU_COUNTRY'])\n",
        "dt['EU_COUNTRY']=np.where(dt['WINNER_COUNTRY']=='IT',1,dt['EU_COUNTRY'])\n",
        "dt['EU_COUNTRY']=np.where(dt['WINNER_COUNTRY']=='LV',1,dt['EU_COUNTRY'])\n",
        "dt['EU_COUNTRY']=np.where(dt['WINNER_COUNTRY']=='LT',1,dt['EU_COUNTRY'])\n",
        "dt['EU_COUNTRY']=np.where(dt['WINNER_COUNTRY']=='LU',1,dt['EU_COUNTRY'])\n",
        "dt['EU_COUNTRY']=np.where(dt['WINNER_COUNTRY']=='MT',1,dt['EU_COUNTRY'])\n",
        "dt['EU_COUNTRY']=np.where(dt['WINNER_COUNTRY']=='NL',1,dt['EU_COUNTRY'])\n",
        "dt['EU_COUNTRY']=np.where(dt['WINNER_COUNTRY']=='PL',1,dt['EU_COUNTRY'])\n",
        "dt['EU_COUNTRY']=np.where(dt['WINNER_COUNTRY']=='PT',1,dt['EU_COUNTRY'])\n",
        "dt['EU_COUNTRY']=np.where(((dt['WINNER_COUNTRY']=='RO')&(dt['YEAR']>2007)) ,1,dt['EU_COUNTRY'])\n",
        "dt['EU_COUNTRY']=np.where(dt['WINNER_COUNTRY']=='SK',1,dt['EU_COUNTRY'])\n",
        "dt['EU_COUNTRY']=np.where(dt['WINNER_COUNTRY']=='SI',1,dt['EU_COUNTRY'])\n",
        "dt['EU_COUNTRY']=np.where(dt['WINNER_COUNTRY']=='ES',1,dt['EU_COUNTRY'])\n",
        "dt['EU_COUNTRY']=np.where(dt['WINNER_COUNTRY']=='SE',1,dt['EU_COUNTRY'])\n",
        "dt['EU_COUNTRY']=np.where(dt['WINNER_COUNTRY']=='GB',1,dt['EU_COUNTRY'])\n",
        "dt['EU_COUNTRY'].head()"
      ],
      "execution_count": 60,
      "outputs": [
        {
          "output_type": "execute_result",
          "data": {
            "text/plain": [
              "0    0\n",
              "1    1\n",
              "2    1\n",
              "3    1\n",
              "4    0\n",
              "Name: EU_COUNTRY, dtype: int64"
            ]
          },
          "metadata": {
            "tags": []
          },
          "execution_count": 60
        }
      ]
    },
    {
      "metadata": {
        "id": "nkU8cwNwvqIy",
        "colab_type": "code",
        "colab": {}
      },
      "cell_type": "code",
      "source": [
        "#g eu_foreign_winner = foreign_winner*eu_country\n",
        "#g non_eu_winner = (foreign_winner ==1 & eu_country ==0\n",
        "dt['EU_FOREIGN_WINNER']=dt['FOREIGN_WINNER']*dt['EU_COUNTRY']\n",
        "dt['NON_WINNER']=np.where((dt['FOREIGN_WINNER']==1)&(dt['EU_COUNTRY']==0),1,0)"
      ],
      "execution_count": 0,
      "outputs": []
    },
    {
      "metadata": {
        "id": "nTixkRz6uaXp",
        "colab_type": "code",
        "outputId": "b3eb679c-0160-4fda-b25e-08eb90b20de2",
        "colab": {
          "base_uri": "https://localhost:8080/",
          "height": 67
        }
      },
      "cell_type": "code",
      "source": [
        "print(dt.PROCEDURE.unique())\n",
        "print(len(dt.PROCEDURE.unique()))\n",
        "D_PROCEDURE=pd.get_dummies(dt.PROCEDURE, prefix='PROCEDURE').iloc[:, 1:]\n",
        "D_PROCEDURE.head()\n",
        "print(len(D_PROCEDURE.columns))\n",
        "\n",
        "\n"
      ],
      "execution_count": 62,
      "outputs": [
        {
          "output_type": "stream",
          "text": [
            "['OPE' 'NOC' 'RES' nan 'NIC' 'AWP' 'COD' 'INP']\n",
            "8\n",
            "6\n"
          ],
          "name": "stdout"
        }
      ]
    },
    {
      "metadata": {
        "id": "Hc84SZxHu6l2",
        "colab_type": "code",
        "outputId": "0bd0b317-8d1f-42b6-898e-07435aa95bf2",
        "colab": {
          "base_uri": "https://localhost:8080/",
          "height": 101
        }
      },
      "cell_type": "code",
      "source": [
        "print(dt.AUTHORITY_COUNTRY.unique())\n",
        "print(len(dt.AUTHORITY_COUNTRY.unique()))\n",
        "D_AUTHORITY_COUNTRY=pd.get_dummies(dt.AUTHORITY_COUNTRY, prefix='COUNTRY').iloc[:, 1:]\n",
        "print(len(D_AUTHORITY_COUNTRY.columns))\n"
      ],
      "execution_count": 63,
      "outputs": [
        {
          "output_type": "stream",
          "text": [
            "['FR' 'CZ' 'BE' 'DE' 'AT' 'FI' 'LT' 'ES' 'PT' 'CY' 'BG' 'SE' 'PL' 'UK'\n",
            " 'GR' 'DK' 'HR' 'IT' 'NL' 'SK' 'LV' 'EE' 'RO' 'HU' 'IE' 'MK' 'NO' 'CH'\n",
            " 'SI' 'LU' 'MT' 'IS' 'LI']\n",
            "33\n",
            "32\n"
          ],
          "name": "stdout"
        }
      ]
    },
    {
      "metadata": {
        "id": "6Upcb4v6xZiQ",
        "colab_type": "code",
        "outputId": "840517a8-5ef2-4a3d-a06c-f4fd2de6751c",
        "colab": {
          "base_uri": "https://localhost:8080/",
          "height": 67
        }
      },
      "cell_type": "code",
      "source": [
        "print(dt.B_GPA.unique())\n",
        "print(len(dt.B_GPA.unique()))\n",
        "D_B_GPA=pd.get_dummies(dt.B_GPA, prefix='B_GPA').iloc[:, 1:]\n",
        "print(len(D_B_GPA.columns))\n",
        "\n"
      ],
      "execution_count": 64,
      "outputs": [
        {
          "output_type": "stream",
          "text": [
            "['N' 'Y' nan]\n",
            "3\n",
            "1\n"
          ],
          "name": "stdout"
        }
      ]
    },
    {
      "metadata": {
        "id": "A63E_oAIxs2p",
        "colab_type": "code",
        "outputId": "b7c78e1f-b39b-4d89-8018-94e2d2c85737",
        "colab": {
          "base_uri": "https://localhost:8080/",
          "height": 67
        }
      },
      "cell_type": "code",
      "source": [
        "#Dummy variable for authority type. tab cae_type, g(aut_type_dum)\n",
        "print(dt.CAE_TYPE.unique())\n",
        "print(len(dt.CAE_TYPE.unique()))\n",
        "D_CAE_TYPE=pd.get_dummies(dt.CAE_TYPE, prefix='CAE_TYPE').iloc[:, 1:]\n",
        "print(len(D_CAE_TYPE.columns))\n",
        "\n",
        " "
      ],
      "execution_count": 65,
      "outputs": [
        {
          "output_type": "stream",
          "text": [
            "['3' '8' 'R' '6' 'Z' '1' 'N' '4' '5' '5A']\n",
            "10\n",
            "9\n"
          ],
          "name": "stdout"
        }
      ]
    },
    {
      "metadata": {
        "id": "S594nY5A290q",
        "colab_type": "code",
        "outputId": "0407dac8-d791-4b66-f629-d6584de7c97a",
        "colab": {
          "base_uri": "https://localhost:8080/",
          "height": 118
        }
      },
      "cell_type": "code",
      "source": [
        "print(dt.SECTOR.unique())\n",
        "print(len(dt.SECTOR.unique()))\n",
        "D_SECTOR=pd.get_dummies(dt.SECTOR, prefix='SECTOR').iloc[:, 1:]\n",
        "print(len(D_SECTOR.columns))\n"
      ],
      "execution_count": 66,
      "outputs": [
        {
          "output_type": "stream",
          "text": [
            "['45' '34' '39' '44' '50' '31' '33' '24' '38' '93' '91' '48' '35' '55'\n",
            " '22' '80' '66' '72' '92' '79' '77' '90' '85' '64' '71' '60' '65' '51'\n",
            " '63' '15' '42' '70' '76' '18' '37' '75' '73' '30' '32' '43' '14' '98'\n",
            " '41' '16' '19' 'na']\n",
            "46\n",
            "45\n"
          ],
          "name": "stdout"
        }
      ]
    },
    {
      "metadata": {
        "id": "LnmDBotg7MPC",
        "colab_type": "code",
        "outputId": "4ea72441-724e-4b60-9587-74d4cd74ead7",
        "colab": {
          "base_uri": "https://localhost:8080/",
          "height": 151
        }
      },
      "cell_type": "code",
      "source": [
        "# drop if award_est_value ==.. drop if award_value_euro ==.\n",
        "dt.columns"
      ],
      "execution_count": 0,
      "outputs": [
        {
          "output_type": "execute_result",
          "data": {
            "text/plain": [
              "Index(['ID_NOTICE_CAN', 'YEAR', 'CAE_TOWN', 'AUTHORITY_COUNTRY', 'CAE_TYPE',\n",
              "       'TYPE_OF_CONTRACT', 'SECTOR', 'B_GPA', 'VALUE_EURO', 'VALUE_EURO_FIN_1',\n",
              "       'VALUE_EURO_FIN_2', 'PROCEDURE', 'ID_AWARD', 'WIN_TOWN',\n",
              "       'WINNER_COUNTRY', 'NUMBER_OFFERS', 'AWARD_EST_VALUE_EURO',\n",
              "       'AWARD_VALUE_EURO', 'AWARD_VALUE_EURO_FIN_1', 'B_SUBCONTRACTED',\n",
              "       'DT_AWARD', 'FOREIGN_WINNER', 'EU_COUNTRY', 'EU_FOREIGN_WINNER',\n",
              "       'NON_WINNER'],\n",
              "      dtype='object')"
            ]
          },
          "metadata": {
            "tags": []
          },
          "execution_count": 79
        }
      ]
    },
    {
      "metadata": {
        "id": "T61XseY5WQFd",
        "colab_type": "code",
        "outputId": "28e937ec-642a-4893-8e4b-9418bc383d1b",
        "colab": {
          "base_uri": "https://localhost:8080/",
          "height": 67
        }
      },
      "cell_type": "code",
      "source": [
        "print(dt.YEAR.unique())\n",
        "print(len(dt.YEAR.unique()))\n",
        "D_YEAR=pd.get_dummies(dt.YEAR, prefix='YEAR').iloc[:, 1:]\n",
        "print(len(D_YEAR.columns))\n"
      ],
      "execution_count": 67,
      "outputs": [
        {
          "output_type": "stream",
          "text": [
            "[2013 2014 2015 2016 2017]\n",
            "5\n",
            "4\n"
          ],
          "name": "stdout"
        }
      ]
    },
    {
      "metadata": {
        "id": "ExoX1kkpZrbX",
        "colab_type": "code",
        "colab": {}
      },
      "cell_type": "code",
      "source": [
        "yX = pd.concat([dt['AWARD_VALUE_EURO'],dt['AWARD_EST_VALUE_EURO'],dt['NUMBER_OFFERS'],dt.YEAR,D_YEAR,D_SECTOR,D_B_GPA,D_PROCEDURE,D_CAE_TYPE], axis=1)\n"
      ],
      "execution_count": 0,
      "outputs": []
    },
    {
      "metadata": {
        "id": "qBCKCDd619e0",
        "colab_type": "code",
        "outputId": "929f7a60-27fb-484c-d0e9-eff645d88d32",
        "colab": {
          "base_uri": "https://localhost:8080/",
          "height": 302
        }
      },
      "cell_type": "code",
      "source": [
        "print(yX.columns)\n",
        "len(yX)"
      ],
      "execution_count": 69,
      "outputs": [
        {
          "output_type": "stream",
          "text": [
            "Index(['AWARD_VALUE_EURO', 'AWARD_EST_VALUE_EURO', 'NUMBER_OFFERS', 'YEAR',\n",
            "       'YEAR_2014', 'YEAR_2015', 'YEAR_2016', 'YEAR_2017', 'SECTOR_15',\n",
            "       'SECTOR_16', 'SECTOR_18', 'SECTOR_19', 'SECTOR_22', 'SECTOR_24',\n",
            "       'SECTOR_30', 'SECTOR_31', 'SECTOR_32', 'SECTOR_33', 'SECTOR_34',\n",
            "       'SECTOR_35', 'SECTOR_37', 'SECTOR_38', 'SECTOR_39', 'SECTOR_41',\n",
            "       'SECTOR_42', 'SECTOR_43', 'SECTOR_44', 'SECTOR_45', 'SECTOR_48',\n",
            "       'SECTOR_50', 'SECTOR_51', 'SECTOR_55', 'SECTOR_60', 'SECTOR_63',\n",
            "       'SECTOR_64', 'SECTOR_65', 'SECTOR_66', 'SECTOR_70', 'SECTOR_71',\n",
            "       'SECTOR_72', 'SECTOR_73', 'SECTOR_75', 'SECTOR_76', 'SECTOR_77',\n",
            "       'SECTOR_79', 'SECTOR_80', 'SECTOR_85', 'SECTOR_90', 'SECTOR_91',\n",
            "       'SECTOR_92', 'SECTOR_93', 'SECTOR_98', 'SECTOR_na', 'B_GPA_Y',\n",
            "       'PROCEDURE_COD', 'PROCEDURE_INP', 'PROCEDURE_NIC', 'PROCEDURE_NOC',\n",
            "       'PROCEDURE_OPE', 'PROCEDURE_RES', 'CAE_TYPE_3', 'CAE_TYPE_4',\n",
            "       'CAE_TYPE_5', 'CAE_TYPE_5A', 'CAE_TYPE_6', 'CAE_TYPE_8', 'CAE_TYPE_N',\n",
            "       'CAE_TYPE_R', 'CAE_TYPE_Z'],\n",
            "      dtype='object')\n"
          ],
          "name": "stdout"
        },
        {
          "output_type": "execute_result",
          "data": {
            "text/plain": [
              "2812183"
            ]
          },
          "metadata": {
            "tags": []
          },
          "execution_count": 69
        }
      ]
    },
    {
      "metadata": {
        "id": "56FUVhiTaq4t",
        "colab_type": "code",
        "outputId": "86140b4f-f76e-4eef-d6eb-ea318a43b005",
        "colab": {
          "base_uri": "https://localhost:8080/",
          "height": 34
        }
      },
      "cell_type": "code",
      "source": [
        "yX = yX[pd.notnull(yX['AWARD_VALUE_EURO'])]\n",
        "yX = yX[yX['AWARD_VALUE_EURO'] != 0]\n",
        "len(yX)\n",
        "\n"
      ],
      "execution_count": 70,
      "outputs": [
        {
          "output_type": "execute_result",
          "data": {
            "text/plain": [
              "1945620"
            ]
          },
          "metadata": {
            "tags": []
          },
          "execution_count": 70
        }
      ]
    },
    {
      "metadata": {
        "id": "y983RQy_2OiQ",
        "colab_type": "code",
        "outputId": "c54f8d13-74e2-45a8-fc45-450bad803f6c",
        "colab": {
          "base_uri": "https://localhost:8080/",
          "height": 34
        }
      },
      "cell_type": "code",
      "source": [
        "yX = yX[pd.notnull(yX['AWARD_EST_VALUE_EURO'])]\n",
        "yX = yX[yX['AWARD_EST_VALUE_EURO'] != 0]\n",
        "len(yX)\n",
        "\n"
      ],
      "execution_count": 71,
      "outputs": [
        {
          "output_type": "execute_result",
          "data": {
            "text/plain": [
              "991010"
            ]
          },
          "metadata": {
            "tags": []
          },
          "execution_count": 71
        }
      ]
    },
    {
      "metadata": {
        "id": "tvW0BfKb2Wc6",
        "colab_type": "code",
        "outputId": "0516295e-6498-4618-d3fa-1a91297772ce",
        "colab": {
          "base_uri": "https://localhost:8080/",
          "height": 34
        }
      },
      "cell_type": "code",
      "source": [
        "yX = yX[pd.notnull(yX['NUMBER_OFFERS'])]\n",
        "yX = yX[yX['NUMBER_OFFERS'] != 0]\n",
        "len(yX)"
      ],
      "execution_count": 72,
      "outputs": [
        {
          "output_type": "execute_result",
          "data": {
            "text/plain": [
              "965116"
            ]
          },
          "metadata": {
            "tags": []
          },
          "execution_count": 72
        }
      ]
    },
    {
      "metadata": {
        "id": "URwhUOth2e0v",
        "colab_type": "code",
        "outputId": "0e48e03f-058c-482f-e784-84435b744816",
        "colab": {
          "base_uri": "https://localhost:8080/",
          "height": 34
        }
      },
      "cell_type": "code",
      "source": [
        "\n",
        "yX['RATIO']=yX['AWARD_VALUE_EURO']/yX['AWARD_EST_VALUE_EURO']\n",
        "yX = yX[pd.notnull(yX['RATIO'])]\n",
        "len(yX)\n"
      ],
      "execution_count": 73,
      "outputs": [
        {
          "output_type": "execute_result",
          "data": {
            "text/plain": [
              "965116"
            ]
          },
          "metadata": {
            "tags": []
          },
          "execution_count": 73
        }
      ]
    },
    {
      "metadata": {
        "id": "lWmCx0iO3xmt",
        "colab_type": "code",
        "colab": {}
      },
      "cell_type": "code",
      "source": [
        "#log of 'df_train['month'] = pd.to_datetime(df_train.Date).dt.month\n",
        "yX['LN_AWARD_VALUE_EURO'] = np.log(yX['AWARD_VALUE_EURO'])\n",
        "yX['LN_AWARD_EST_VALUE_EURO'] = np.log(yX['AWARD_EST_VALUE_EURO'])"
      ],
      "execution_count": 0,
      "outputs": []
    },
    {
      "metadata": {
        "id": "Nnb5AfWgcZTF",
        "colab_type": "code",
        "colab": {}
      },
      "cell_type": "code",
      "source": [
        "#Ratıo 5 ten küçük ve 0.2 den büyğk\n",
        "yX = yX[(yX.RATIO<5) & (yX.RATIO>0.2)]\n"
      ],
      "execution_count": 0,
      "outputs": []
    },
    {
      "metadata": {
        "id": "SUHNKCankbZ_",
        "colab_type": "code",
        "colab": {
          "base_uri": "https://localhost:8080/",
          "height": 302
        },
        "outputId": "1d39bc29-b1c2-4008-893f-5e20571a9949"
      },
      "cell_type": "code",
      "source": [
        "yX.columns"
      ],
      "execution_count": 76,
      "outputs": [
        {
          "output_type": "execute_result",
          "data": {
            "text/plain": [
              "Index(['AWARD_VALUE_EURO', 'AWARD_EST_VALUE_EURO', 'NUMBER_OFFERS', 'YEAR',\n",
              "       'YEAR_2014', 'YEAR_2015', 'YEAR_2016', 'YEAR_2017', 'SECTOR_15',\n",
              "       'SECTOR_16', 'SECTOR_18', 'SECTOR_19', 'SECTOR_22', 'SECTOR_24',\n",
              "       'SECTOR_30', 'SECTOR_31', 'SECTOR_32', 'SECTOR_33', 'SECTOR_34',\n",
              "       'SECTOR_35', 'SECTOR_37', 'SECTOR_38', 'SECTOR_39', 'SECTOR_41',\n",
              "       'SECTOR_42', 'SECTOR_43', 'SECTOR_44', 'SECTOR_45', 'SECTOR_48',\n",
              "       'SECTOR_50', 'SECTOR_51', 'SECTOR_55', 'SECTOR_60', 'SECTOR_63',\n",
              "       'SECTOR_64', 'SECTOR_65', 'SECTOR_66', 'SECTOR_70', 'SECTOR_71',\n",
              "       'SECTOR_72', 'SECTOR_73', 'SECTOR_75', 'SECTOR_76', 'SECTOR_77',\n",
              "       'SECTOR_79', 'SECTOR_80', 'SECTOR_85', 'SECTOR_90', 'SECTOR_91',\n",
              "       'SECTOR_92', 'SECTOR_93', 'SECTOR_98', 'SECTOR_na', 'B_GPA_Y',\n",
              "       'PROCEDURE_COD', 'PROCEDURE_INP', 'PROCEDURE_NIC', 'PROCEDURE_NOC',\n",
              "       'PROCEDURE_OPE', 'PROCEDURE_RES', 'CAE_TYPE_3', 'CAE_TYPE_4',\n",
              "       'CAE_TYPE_5', 'CAE_TYPE_5A', 'CAE_TYPE_6', 'CAE_TYPE_8', 'CAE_TYPE_N',\n",
              "       'CAE_TYPE_R', 'CAE_TYPE_Z', 'RATIO', 'LN_AWARD_VALUE_EURO',\n",
              "       'LN_AWARD_EST_VALUE_EURO'],\n",
              "      dtype='object')"
            ]
          },
          "metadata": {
            "tags": []
          },
          "execution_count": 76
        }
      ]
    },
    {
      "metadata": {
        "id": "i-GP06HGl_lG",
        "colab_type": "code",
        "colab": {}
      },
      "cell_type": "code",
      "source": [
        "train=yX[(yX.YEAR<2016)]\n",
        "valid=yX[(yX.YEAR==2016)]\n",
        "test=yX[(yX.YEAR==2017)]"
      ],
      "execution_count": 0,
      "outputs": []
    },
    {
      "metadata": {
        "id": "4Bm9jfr_l_1N",
        "colab_type": "code",
        "colab": {}
      },
      "cell_type": "code",
      "source": [
        "#drop YEAR\n",
        "X_train = train.drop(['AWARD_VALUE_EURO', 'AWARD_EST_VALUE_EURO','YEAR_2014', 'YEAR_2015', 'YEAR_2016', 'YEAR_2017','RATIO','LN_AWARD_VALUE_EURO'], axis=1)\n",
        "y_train = train.RATIO\n",
        "X_valid = valid.drop(['AWARD_VALUE_EURO', 'AWARD_EST_VALUE_EURO','YEAR_2014', 'YEAR_2015', 'YEAR_2016', 'YEAR_2017','RATIO','LN_AWARD_VALUE_EURO'], axis=1)\n",
        "y_valid = valid.RATIO\n",
        "X_test = test.drop(['AWARD_VALUE_EURO', 'AWARD_EST_VALUE_EURO', 'YEAR_2014', 'YEAR_2015', 'YEAR_2016', 'YEAR_2017','RATIO','LN_AWARD_VALUE_EURO'], axis=1)\n",
        "y_test = test.RATIO"
      ],
      "execution_count": 0,
      "outputs": []
    },
    {
      "metadata": {
        "id": "8Rqcg7Q6clku",
        "colab_type": "code",
        "colab": {
          "base_uri": "https://localhost:8080/",
          "height": 269
        },
        "outputId": "dcdd8267-6e4c-4e9a-874d-7e70ff4e9c58"
      },
      "cell_type": "code",
      "source": [
        "X_train.columns"
      ],
      "execution_count": 136,
      "outputs": [
        {
          "output_type": "execute_result",
          "data": {
            "text/plain": [
              "Index(['NUMBER_OFFERS', 'YEAR', 'SECTOR_15', 'SECTOR_16', 'SECTOR_18',\n",
              "       'SECTOR_19', 'SECTOR_22', 'SECTOR_24', 'SECTOR_30', 'SECTOR_31',\n",
              "       'SECTOR_32', 'SECTOR_33', 'SECTOR_34', 'SECTOR_35', 'SECTOR_37',\n",
              "       'SECTOR_38', 'SECTOR_39', 'SECTOR_41', 'SECTOR_42', 'SECTOR_43',\n",
              "       'SECTOR_44', 'SECTOR_45', 'SECTOR_48', 'SECTOR_50', 'SECTOR_51',\n",
              "       'SECTOR_55', 'SECTOR_60', 'SECTOR_63', 'SECTOR_64', 'SECTOR_65',\n",
              "       'SECTOR_66', 'SECTOR_70', 'SECTOR_71', 'SECTOR_72', 'SECTOR_73',\n",
              "       'SECTOR_75', 'SECTOR_76', 'SECTOR_77', 'SECTOR_79', 'SECTOR_80',\n",
              "       'SECTOR_85', 'SECTOR_90', 'SECTOR_91', 'SECTOR_92', 'SECTOR_93',\n",
              "       'SECTOR_98', 'SECTOR_na', 'B_GPA_Y', 'PROCEDURE_COD', 'PROCEDURE_INP',\n",
              "       'PROCEDURE_NIC', 'PROCEDURE_NOC', 'PROCEDURE_OPE', 'PROCEDURE_RES',\n",
              "       'CAE_TYPE_3', 'CAE_TYPE_4', 'CAE_TYPE_5', 'CAE_TYPE_5A', 'CAE_TYPE_6',\n",
              "       'CAE_TYPE_8', 'CAE_TYPE_N', 'CAE_TYPE_R', 'CAE_TYPE_Z',\n",
              "       'LN_AWARD_EST_VALUE_EURO'],\n",
              "      dtype='object')"
            ]
          },
          "metadata": {
            "tags": []
          },
          "execution_count": 136
        }
      ]
    },
    {
      "metadata": {
        "id": "x2FKI7wmbauS",
        "colab_type": "code",
        "outputId": "6bd8f834-70da-428d-d31c-35d8f4988f5d",
        "colab": {
          "base_uri": "https://localhost:8080/",
          "height": 1529
        }
      },
      "cell_type": "code",
      "source": [
        "from sklearn import datasets, linear_model\n",
        "from sklearn.metrics import mean_squared_error, r2_score\n",
        "import statsmodels.api as sm\n",
        "model = sm.OLS(y_train, X_train).fit()\n",
        "print(model.summary())\n",
        "y_predOLS = model.predict(X_valid)\n",
        "\n",
        "spearmanr(y_valid, y_predOLS)\n",
        "\n",
        "# Print out the statistics\n",
        "\n",
        "# Fit and make the predictions by the model\n"
      ],
      "execution_count": 137,
      "outputs": [
        {
          "output_type": "stream",
          "text": [
            "                            OLS Regression Results                            \n",
            "==============================================================================\n",
            "Dep. Variable:                  RATIO   R-squared:                       0.872\n",
            "Model:                            OLS   Adj. R-squared:                  0.872\n",
            "Method:                 Least Squares   F-statistic:                 5.735e+04\n",
            "Date:                Tue, 09 Apr 2019   Prob (F-statistic):               0.00\n",
            "Time:                        12:48:29   Log-Likelihood:            -1.9610e+05\n",
            "No. Observations:              528491   AIC:                         3.923e+05\n",
            "Df Residuals:                  528428   BIC:                         3.930e+05\n",
            "Df Model:                          63                                         \n",
            "Covariance Type:            nonrobust                                         \n",
            "===========================================================================================\n",
            "                              coef    std err          t      P>|t|      [0.025      0.975]\n",
            "-------------------------------------------------------------------------------------------\n",
            "NUMBER_OFFERS            6.394e-05   7.71e-06      8.296      0.000    4.88e-05     7.9e-05\n",
            "YEAR                        0.0006   5.46e-06    103.573      0.000       0.001       0.001\n",
            "SECTOR_15                  -0.0534      0.010     -5.123      0.000      -0.074      -0.033\n",
            "SECTOR_16                  -0.0163      0.017     -0.945      0.345      -0.050       0.018\n",
            "SECTOR_18                  -0.0187      0.012     -1.546      0.122      -0.042       0.005\n",
            "SECTOR_19                  -0.0855      0.019     -4.469      0.000      -0.123      -0.048\n",
            "SECTOR_22                  -0.0287      0.013     -2.194      0.028      -0.054      -0.003\n",
            "SECTOR_24                  -0.0683      0.012     -5.719      0.000      -0.092      -0.045\n",
            "SECTOR_30                  -0.0425      0.010     -4.070      0.000      -0.063      -0.022\n",
            "SECTOR_31                  -0.0471      0.011     -4.152      0.000      -0.069      -0.025\n",
            "SECTOR_32                  -0.0238      0.011     -2.068      0.039      -0.046      -0.001\n",
            "SECTOR_33                  -0.0914      0.010     -9.086      0.000      -0.111      -0.072\n",
            "SECTOR_34                   0.0086      0.010      0.828      0.408      -0.012       0.029\n",
            "SECTOR_35                  -0.0320      0.012     -2.625      0.009      -0.056      -0.008\n",
            "SECTOR_37                   0.0204      0.018      1.136      0.256      -0.015       0.056\n",
            "SECTOR_38                  -0.0407      0.010     -3.889      0.000      -0.061      -0.020\n",
            "SECTOR_39                  -0.0770      0.011     -7.040      0.000      -0.098      -0.056\n",
            "SECTOR_41                  -0.0504      0.046     -1.086      0.277      -0.141       0.041\n",
            "SECTOR_42                  -0.0406      0.011     -3.649      0.000      -0.062      -0.019\n",
            "SECTOR_43                  -0.0385      0.012     -3.083      0.002      -0.063      -0.014\n",
            "SECTOR_44                  -0.0351      0.011     -3.165      0.002      -0.057      -0.013\n",
            "SECTOR_45                  -0.0895      0.010     -8.695      0.000      -0.110      -0.069\n",
            "SECTOR_48                  -0.0212      0.011     -1.892      0.059      -0.043       0.001\n",
            "SECTOR_50                  -0.0748      0.010     -7.167      0.000      -0.095      -0.054\n",
            "SECTOR_51                  -0.0252      0.020     -1.275      0.202      -0.064       0.014\n",
            "SECTOR_55                  -0.0599      0.012     -5.206      0.000      -0.083      -0.037\n",
            "SECTOR_60                  -0.0073      0.011     -0.667      0.504      -0.029       0.014\n",
            "SECTOR_63                  -0.0362      0.013     -2.689      0.007      -0.063      -0.010\n",
            "SECTOR_64                  -0.0905      0.011     -7.942      0.000      -0.113      -0.068\n",
            "SECTOR_65                  -0.0726      0.014     -5.309      0.000      -0.099      -0.046\n",
            "SECTOR_66                  -0.1141      0.011    -10.572      0.000      -0.135      -0.093\n",
            "SECTOR_70                  -0.2290      0.013    -17.651      0.000      -0.254      -0.204\n",
            "SECTOR_71                  -0.1683      0.010    -16.057      0.000      -0.189      -0.148\n",
            "SECTOR_72                  -0.1044      0.011     -9.573      0.000      -0.126      -0.083\n",
            "SECTOR_73                  -0.0653      0.014     -4.723      0.000      -0.092      -0.038\n",
            "SECTOR_75                  -0.0564      0.016     -3.504      0.000      -0.088      -0.025\n",
            "SECTOR_76                  -0.1027      0.017     -5.872      0.000      -0.137      -0.068\n",
            "SECTOR_77                  -0.0448      0.010     -4.348      0.000      -0.065      -0.025\n",
            "SECTOR_79                  -0.1062      0.011    -10.046      0.000      -0.127      -0.085\n",
            "SECTOR_80                  -0.0973      0.010     -9.319      0.000      -0.118      -0.077\n",
            "SECTOR_85                  -0.0458      0.011     -4.196      0.000      -0.067      -0.024\n",
            "SECTOR_90                  -0.1019      0.010     -9.858      0.000      -0.122      -0.082\n",
            "SECTOR_91                  -0.0278      0.011     -2.511      0.012      -0.050      -0.006\n",
            "SECTOR_92                  -0.0449      0.012     -3.602      0.000      -0.069      -0.020\n",
            "SECTOR_93                  -0.0783      0.012     -6.732      0.000      -0.101      -0.056\n",
            "SECTOR_98                  -0.0707      0.013     -5.310      0.000      -0.097      -0.045\n",
            "SECTOR_na                  -0.1586      0.157     -1.009      0.313      -0.467       0.149\n",
            "B_GPA_Y                    -0.0029      0.001     -2.685      0.007      -0.005      -0.001\n",
            "PROCEDURE_COD              -0.0065      0.019     -0.348      0.728      -0.043       0.030\n",
            "PROCEDURE_INP            1.236e-15   2.02e-16      6.122      0.000    8.41e-16    1.63e-15\n",
            "PROCEDURE_NIC              -0.0362      0.005     -6.889      0.000      -0.047      -0.026\n",
            "PROCEDURE_NOC              -0.0169      0.005     -3.644      0.000      -0.026      -0.008\n",
            "PROCEDURE_OPE              -0.0961      0.004    -27.369      0.000      -0.103      -0.089\n",
            "PROCEDURE_RES              -0.0154      0.005     -3.285      0.001      -0.025      -0.006\n",
            "CAE_TYPE_3                  0.0032      0.002      1.436      0.151      -0.001       0.008\n",
            "CAE_TYPE_4                  0.0140      0.003      5.046      0.000       0.009       0.020\n",
            "CAE_TYPE_5                  0.1020      0.008     13.536      0.000       0.087       0.117\n",
            "CAE_TYPE_5A                 0.0401      0.037      1.076      0.282      -0.033       0.113\n",
            "CAE_TYPE_6                  0.0492      0.002     25.028      0.000       0.045       0.053\n",
            "CAE_TYPE_8                  0.0268      0.002     13.430      0.000       0.023       0.031\n",
            "CAE_TYPE_N                  0.0271      0.004      6.266      0.000       0.019       0.036\n",
            "CAE_TYPE_R                 -0.0060      0.004     -1.510      0.131      -0.014       0.002\n",
            "CAE_TYPE_Z                  0.1334      0.004     30.059      0.000       0.125       0.142\n",
            "LN_AWARD_EST_VALUE_EURO    -0.0087      0.000    -42.264      0.000      -0.009      -0.008\n",
            "==============================================================================\n",
            "Omnibus:                   499338.869   Durbin-Watson:                   1.624\n",
            "Prob(Omnibus):                  0.000   Jarque-Bera (JB):         33481877.495\n",
            "Skew:                           4.462   Prob(JB):                         0.00\n",
            "Kurtosis:                      40.958   Cond. No.                     1.01e+16\n",
            "==============================================================================\n",
            "\n",
            "Warnings:\n",
            "[1] Standard Errors assume that the covariance matrix of the errors is correctly specified.\n",
            "[2] The smallest eigenvalue is 2.1e-20. This might indicate that there are\n",
            "strong multicollinearity problems or that the design matrix is singular.\n"
          ],
          "name": "stdout"
        },
        {
          "output_type": "execute_result",
          "data": {
            "text/plain": [
              "SpearmanrResult(correlation=0.10806570959845782, pvalue=0.0)"
            ]
          },
          "metadata": {
            "tags": []
          },
          "execution_count": 137
        }
      ]
    },
    {
      "metadata": {
        "id": "9ombA_r-D0Fj",
        "colab_type": "code",
        "colab": {}
      },
      "cell_type": "code",
      "source": [
        ""
      ],
      "execution_count": 0,
      "outputs": []
    },
    {
      "metadata": {
        "id": "Onbg9Twq1rf2",
        "colab_type": "code",
        "colab": {
          "base_uri": "https://localhost:8080/",
          "height": 34
        },
        "outputId": "ee3a93b3-292f-45f9-b4b9-f549c566fea6"
      },
      "cell_type": "code",
      "source": [
        "import lightgbm as lgb\n",
        "import pandas as pd\n",
        "import numpy as np\n",
        "from scipy.stats import spearmanr\n",
        "from sklearn.preprocessing import QuantileTransformer\n",
        "import matplotlib.pyplot as plt\n",
        "d_train = lgb.Dataset(X_train, label=y_train)\n",
        "\n",
        "params = {}\n",
        "params['learning_rate'] = 0.1 # 0.004 # shrinkage_rate\n",
        "params['sub_feature'] = 0.35    # feature_fraction (small values => use very different submodels)\n",
        "params['min_data'] = 500        # min_data_in_leaf\n",
        "params['max_depth'] = 2\n",
        "\n",
        "nboost=130\n",
        "\n",
        "reg = lgb.train(params, d_train, nboost)\n",
        "y_pred = reg.predict(X_valid)\n",
        "\n",
        "\n",
        "spearmanr(y_valid, y_pred)"
      ],
      "execution_count": 143,
      "outputs": [
        {
          "output_type": "execute_result",
          "data": {
            "text/plain": [
              "SpearmanrResult(correlation=0.2313282868078856, pvalue=0.0)"
            ]
          },
          "metadata": {
            "tags": []
          },
          "execution_count": 143
        }
      ]
    },
    {
      "metadata": {
        "id": "bmDYV3TR8LT2",
        "colab_type": "code",
        "colab": {
          "base_uri": "https://localhost:8080/",
          "height": 34
        },
        "outputId": "4927c033-3995-4d2a-aae4-8faad7fb9ba5"
      },
      "cell_type": "code",
      "source": [
        "d_train = lgb.Dataset(X_train, label=y_train)\n",
        "\n",
        "params = {}\n",
        "params['learning_rate'] = 0.1 # 0.004 # shrinkage_rate\n",
        "params['sub_feature'] = 0.35    # feature_fraction (small values => use very different submodels)\n",
        "params['min_data'] = 500        # min_data_in_leaf\n",
        "params['max_depth'] = 3\n",
        "\n",
        "nboost=130\n",
        "\n",
        "reg = lgb.train(params, d_train, nboost)\n",
        "y_pred = reg.predict(X_valid)\n",
        "\n",
        "\n",
        "spearmanr(y_valid, y_pred)"
      ],
      "execution_count": 147,
      "outputs": [
        {
          "output_type": "execute_result",
          "data": {
            "text/plain": [
              "SpearmanrResult(correlation=0.24077719391585803, pvalue=0.0)"
            ]
          },
          "metadata": {
            "tags": []
          },
          "execution_count": 147
        }
      ]
    },
    {
      "metadata": {
        "id": "Q_bNur2gGLxi",
        "colab_type": "code",
        "colab": {
          "base_uri": "https://localhost:8080/",
          "height": 34
        },
        "outputId": "a0dac3a2-6df8-497a-9302-a65ca2ed48b3"
      },
      "cell_type": "code",
      "source": [
        "d_train = lgb.Dataset(X_train, label=y_train)\n",
        "\n",
        "params = {}\n",
        "params['learning_rate'] = 0.1 # 0.004 # shrinkage_rate\n",
        "params['sub_feature'] = 0.35    # feature_fraction (small values => use very different submodels)\n",
        "params['min_data'] = 500        # min_data_in_leaf\n",
        "params['max_depth'] = 3\n",
        "\n",
        "nboost=130\n",
        "\n",
        "reg = lgb.train(params, d_train, nboost)\n",
        "pred = reg.predict(X_valid)\n",
        "\n",
        "n_minus = 30\n",
        "params['max_depth'] = 2\n",
        "reg = lgb.train(params, d_train, nboost-n_minus)\n",
        "alpha = 0.5\n",
        "pred = alpha*pred + (1-alpha)*reg.predict(X_valid)\n",
        "\n",
        "n_plus = 40\n",
        "params['max_depth'] = 2\n",
        "params['bagging_freq'] = 5\n",
        "params['bagging_fraction'] = 0.78\n",
        "params['learning_rate'] = .1\n",
        "reg = lgb.train(params, d_train, nboost+n_plus)\n",
        "\n",
        "alpha = 0.78\n",
        "y_predLGB2 = alpha*pred + (1-alpha)*reg.predict(X_valid)\n",
        "\n",
        "\n",
        "spearmanr(y_valid, y_predLGB2)"
      ],
      "execution_count": 150,
      "outputs": [
        {
          "output_type": "execute_result",
          "data": {
            "text/plain": [
              "SpearmanrResult(correlation=0.23562372748577165, pvalue=0.0)"
            ]
          },
          "metadata": {
            "tags": []
          },
          "execution_count": 150
        }
      ]
    },
    {
      "metadata": {
        "id": "SzIz2NJnG7JT",
        "colab_type": "code",
        "colab": {
          "base_uri": "https://localhost:8080/",
          "height": 34
        },
        "outputId": "d49f1917-03bf-49b2-cd27-e3a1d379bd79"
      },
      "cell_type": "code",
      "source": [
        "import math\n",
        "import re\n",
        "\n",
        "from sklearn import metrics\n",
        "from sklearn.ensemble import RandomForestRegressor\n",
        "from pandas.api.types import is_numeric_dtype\n",
        "\n",
        "import matplotlib.pyplot as plt\n",
        "m = RandomForestRegressor(n_estimators=1, max_depth=3, bootstrap=False, n_jobs=-1)\n",
        "m.fit(X_train, y_train)\n",
        "y_predRF=m.predict(X_valid)\n",
        "spearmanr(y_valid, y_predRF)"
      ],
      "execution_count": 151,
      "outputs": [
        {
          "output_type": "execute_result",
          "data": {
            "text/plain": [
              "SpearmanrResult(correlation=0.19328733938801743, pvalue=0.0)"
            ]
          },
          "metadata": {
            "tags": []
          },
          "execution_count": 151
        }
      ]
    },
    {
      "metadata": {
        "id": "hHbTzwZhI1JR",
        "colab_type": "code",
        "colab": {
          "base_uri": "https://localhost:8080/",
          "height": 34
        },
        "outputId": "bca77582-7dc8-47e6-e53c-e6098ba47268"
      },
      "cell_type": "code",
      "source": [
        "m = RandomForestRegressor(n_estimators=1, bootstrap=False, n_jobs=-1)\n",
        "m.fit(X_train, y_train)\n",
        "y_predRF=m.predict(X_valid)\n",
        "spearmanr(y_valid, y_predRF)"
      ],
      "execution_count": 153,
      "outputs": [
        {
          "output_type": "execute_result",
          "data": {
            "text/plain": [
              "SpearmanrResult(correlation=0.11037773457947923, pvalue=0.0)"
            ]
          },
          "metadata": {
            "tags": []
          },
          "execution_count": 153
        }
      ]
    }
  ]
}