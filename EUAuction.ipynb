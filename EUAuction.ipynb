{
  "nbformat": 4,
  "nbformat_minor": 0,
  "metadata": {
    "colab": {
      "name": "EUAuction.ipynb",
      "version": "0.3.2",
      "provenance": [],
      "collapsed_sections": [],
      "include_colab_link": true
    },
    "kernelspec": {
      "name": "python3",
      "display_name": "Python 3"
    }
  },
  "cells": [
    {
      "cell_type": "markdown",
      "metadata": {
        "id": "view-in-github",
        "colab_type": "text"
      },
      "source": [
        "<a href=\"https://colab.research.google.com/github/ogut77/OLSinPython/blob/master/EUAuction.ipynb\" target=\"_parent\"><img src=\"https://colab.research.google.com/assets/colab-badge.svg\" alt=\"Open In Colab\"/></a>"
      ]
    },
    {
      "metadata": {
        "id": "5Oy-FBOFe7K1",
        "colab_type": "code",
        "outputId": "f41ffcb1-421c-4f2f-ad6d-91ff02bf57b2",
        "colab": {
          "base_uri": "https://localhost:8080/",
          "height": 34
        }
      },
      "cell_type": "code",
      "source": [
        "import pandas as pd\n",
        "from google.colab import drive\n",
        "\n",
        "# This will prompt for authorization.\n",
        "drive.mount('/content/drive')\n",
        "   "
      ],
      "execution_count": 65,
      "outputs": [
        {
          "output_type": "stream",
          "text": [
            "Drive already mounted at /content/drive; to attempt to forcibly remount, call drive.mount(\"/content/drive\", force_remount=True).\n"
          ],
          "name": "stdout"
        }
      ]
    },
    {
      "metadata": {
        "id": "MSyUmxzm4vZW",
        "colab_type": "code",
        "outputId": "da005d24-05b9-41cf-a7e2-ffd0b273e48c",
        "colab": {
          "base_uri": "https://localhost:8080/",
          "height": 67
        }
      },
      "cell_type": "code",
      "source": [
        "!ls '/content/drive/My Drive/'\n"
      ],
      "execution_count": 23,
      "outputs": [
        {
          "output_type": "stream",
          "text": [
            " 2009.csv   2012.csv   2015.csv   Bulldozer\t     ml-latest-smalla\n",
            " 2010.csv   2013.csv   2016.csv  'Colab Notebooks'   Santander\n",
            " 2011.csv   2014.csv   2017.csv   ml-latesta\t     shakespeare.txt\n"
          ],
          "name": "stdout"
        }
      ]
    },
    {
      "metadata": {
        "id": "2h6Qc1znLFkF",
        "colab_type": "code",
        "outputId": "61a177aa-57d2-461a-ed65-880c35274778",
        "colab": {
          "base_uri": "https://localhost:8080/",
          "height": 154
        }
      },
      "cell_type": "code",
      "source": [
        "d2011=pd.read_csv('/content/drive/My Drive/2011.csv')\n",
        "d2012=pd.read_csv('/content/drive/My Drive/2012.csv')\n",
        "print(len(d2011))\n",
        "print(len(d2012))\n",
        "frames = [d2011, d2012]\n",
        "\n",
        "d2009 = pd.concat(frames)\n",
        "print(len(d2009))\n",
        "\n"
      ],
      "execution_count": 66,
      "outputs": [
        {
          "output_type": "stream",
          "text": [
            "/usr/local/lib/python3.6/dist-packages/IPython/core/interactiveshell.py:2718: DtypeWarning: Columns (10,27) have mixed types. Specify dtype option on import or set low_memory=False.\n",
            "  interactivity=interactivity, compiler=compiler, result=result)\n",
            "/usr/local/lib/python3.6/dist-packages/IPython/core/interactiveshell.py:2718: DtypeWarning: Columns (27) have mixed types. Specify dtype option on import or set low_memory=False.\n",
            "  interactivity=interactivity, compiler=compiler, result=result)\n"
          ],
          "name": "stderr"
        },
        {
          "output_type": "stream",
          "text": [
            "476733\n",
            "499032\n",
            "975765\n"
          ],
          "name": "stdout"
        }
      ]
    },
    {
      "metadata": {
        "id": "F_3pyH6dLkzr",
        "colab_type": "code",
        "outputId": "2d4991a4-381c-4fff-93b4-1a18d75cb40c",
        "colab": {
          "base_uri": "https://localhost:8080/",
          "height": 235
        }
      },
      "cell_type": "code",
      "source": [
        "d2009.head(2)\n",
        "d2009['WIN_COUNTRY_CODE'].unique()\n",
        "# new data frame with split value columns \n",
        "new = d2009[\"WIN_COUNTRY_CODE\"].str.split(\"---\", n = 1, expand = True) \n",
        "d2009[\"WIN_COUNTRY_CODE\"]= new[0]\n",
        "d2009['WIN_COUNTRY_CODE'].unique()\n"
      ],
      "execution_count": 67,
      "outputs": [
        {
          "output_type": "execute_result",
          "data": {
            "text/plain": [
              "array(['PL', 'ES', 'FR', 'DE', 'NL', nan, 'EE', 'LV', 'IT', 'GR', 'DK',\n",
              "       'SE', 'BG', 'UK', 'HU', 'AT', 'LT', 'SI', 'PT', 'BE', 'RO', 'IE',\n",
              "       'CZ', 'SK', 'NO', 'CH', 'LK', 'FI', 'US', 'LU', 'CA', 'RS', 'AU',\n",
              "       'CY', 'AW', 'CN', 'JP', 'IL', 'LI', 'AF', 'SZ', 'CR', 'SG', 'RU',\n",
              "       'MT', 'IN', 'TR', 'SM', 'AN', 'HR', 'IS', 'OM', 'GI', 'GE', 'VI',\n",
              "       'NZ', 'UZ', 'MY', 'BR', 'HK', 'MU', 'BH', 'KE', 'SL', 'KR', 'ZA',\n",
              "       'NG', 'TH', 'IQ', 'TN', 'MC', 'VN', 'BA', 'BY', 'AE', 'MK', 'TW',\n",
              "       'AD', 'PA', 'TV', 'EG', 'PK', 'DZ', 'SV', 'PE', 'UY', 'VU', 'IR',\n",
              "       'AM', 'TC', 'MA', 'SN', 'BF', 'BD', 'TK', 'GL', 'UA', 'CI', 'MZ',\n",
              "       'KG', 'KZ', 'FK', 'MD', 'JO', 'TD', 'GA', 'DJ', 'AR', 'CL', 'AL',\n",
              "       'CD', 'BJ', 'SB', 'UG', 'GS', 'SR', 'IO', 'ID', 'MR', 'UM', 'NC',\n",
              "       'AI', 'NE', 'FM', 'RE', 'LB', 'GP', 'MQ', 'BI', 'AO', 'JE', 'TJ',\n",
              "       'ME', 'AG', 'ET', 'GM', 'BW', 'BB'], dtype=object)"
            ]
          },
          "metadata": {
            "tags": []
          },
          "execution_count": 67
        }
      ]
    },
    {
      "metadata": {
        "id": "eJeoyeNYSMD6",
        "colab_type": "code",
        "colab": {}
      },
      "cell_type": "code",
      "source": [
        "d2009=d2009[['ID_NOTICE_CAN','YEAR','CANCELLED','CAE_TOWN','ISO_COUNTRY_CODE' ,'CAE_TYPE', 'TYPE_OF_CONTRACT'  ,'CPV', 'B_GPA',\n",
        "              'VALUE_EURO', 'VALUE_EURO_FIN_1', 'VALUE_EURO_FIN_2', 'B_EU_FUNDS', 'TOP_TYPE', 'B_ACCELERATED' ,'CRIT_CODE',\n",
        "              'B_ELECTRONIC_AUCTION', 'ID_AWARD', 'WIN_TOWN', 'WIN_COUNTRY_CODE' ,'NUMBER_OFFERS','AWARD_EST_VALUE_EURO', 'AWARD_VALUE_EURO',\n",
        "              'AWARD_VALUE_EURO_FIN_1', 'B_SUBCONTRACTED', 'DT_AWARD']]\n",
        "d2009 = d2009.drop(columns=['CANCELLED','B_EU_FUNDS','B_ACCELERATED','CRIT_CODE','B_ELECTRONIC_AUCTION'])"
      ],
      "execution_count": 0,
      "outputs": []
    },
    {
      "metadata": {
        "id": "1UT3h1CEXJBJ",
        "colab_type": "code",
        "outputId": "a784d026-89d4-4114-a3c6-4db42221582a",
        "colab": {
          "base_uri": "https://localhost:8080/",
          "height": 50
        }
      },
      "cell_type": "code",
      "source": [
        "d2009.rename(columns={'TOP_TYPE': 'PROCEDURE'}, inplace=True)\n",
        "print(d2009['PROCEDURE'].unique())\n",
        "import numpy as np\n",
        "\n",
        "d2009['PROCEDURE']=np.where(d2009['PROCEDURE']==\"NOP\",\"NOC\",d2009['PROCEDURE'])\n",
        "d2009['PROCEDURE']=np.where(d2009['PROCEDURE']==\"NIP\",\"NIC\",d2009['PROCEDURE'])\n",
        "print(d2009['PROCEDURE'].unique())"
      ],
      "execution_count": 69,
      "outputs": [
        {
          "output_type": "stream",
          "text": [
            "['OPE' 'AWP' 'NOC' 'RES' 'NIC' 'COD' nan 'NOP' 'NIP']\n",
            "['OPE' 'AWP' 'NOC' 'RES' 'NIC' 'COD' nan]\n"
          ],
          "name": "stdout"
        }
      ]
    },
    {
      "metadata": {
        "id": "Qr46PFSieePo",
        "colab_type": "code",
        "outputId": "0674cd6c-84dc-42cb-f32b-8b58deb08433",
        "colab": {
          "base_uri": "https://localhost:8080/",
          "height": 202
        }
      },
      "cell_type": "code",
      "source": [
        "new=d2009['CPV'].astype(str)\n",
        "# make the new columns using string indexing\n",
        "d2009['CPV'] = new.str[0:2]\n",
        "d2009['CPV'].head(10)"
      ],
      "execution_count": 70,
      "outputs": [
        {
          "output_type": "execute_result",
          "data": {
            "text/plain": [
              "0    33\n",
              "1    33\n",
              "2    33\n",
              "3    35\n",
              "4    93\n",
              "5    33\n",
              "6    34\n",
              "7    34\n",
              "8    63\n",
              "9    30\n",
              "Name: CPV, dtype: object"
            ]
          },
          "metadata": {
            "tags": []
          },
          "execution_count": 70
        }
      ]
    },
    {
      "metadata": {
        "id": "DWUmKsy-X4Vt",
        "colab_type": "code",
        "outputId": "056575cd-da97-4137-f118-5ff2db4ee0ed",
        "colab": {
          "base_uri": "https://localhost:8080/",
          "height": 252
        }
      },
      "cell_type": "code",
      "source": [
        "d2009.rename(columns={'CPV': 'SECTOR'}, inplace=True)\n",
        "print(d2009.columns)\n",
        "d2009.rename(columns={'ISO_COUNTRY_CODE': 'AUTHORITY_COUNTRY', 'WIN_COUNTRY_CODE': 'WINNER_COUNTRY'}, inplace=True)\n",
        "d2009['FOREIGN_WINNER']=np.where((d2009['AUTHORITY_COUNTRY']!=d2009['WINNER_COUNTRY']),1,0)\n",
        "print(d2009.columns)"
      ],
      "execution_count": 71,
      "outputs": [
        {
          "output_type": "stream",
          "text": [
            "Index(['ID_NOTICE_CAN', 'YEAR', 'CAE_TOWN', 'ISO_COUNTRY_CODE', 'CAE_TYPE',\n",
            "       'TYPE_OF_CONTRACT', 'SECTOR', 'B_GPA', 'VALUE_EURO', 'VALUE_EURO_FIN_1',\n",
            "       'VALUE_EURO_FIN_2', 'PROCEDURE', 'ID_AWARD', 'WIN_TOWN',\n",
            "       'WIN_COUNTRY_CODE', 'NUMBER_OFFERS', 'AWARD_EST_VALUE_EURO',\n",
            "       'AWARD_VALUE_EURO', 'AWARD_VALUE_EURO_FIN_1', 'B_SUBCONTRACTED',\n",
            "       'DT_AWARD'],\n",
            "      dtype='object')\n",
            "Index(['ID_NOTICE_CAN', 'YEAR', 'CAE_TOWN', 'AUTHORITY_COUNTRY', 'CAE_TYPE',\n",
            "       'TYPE_OF_CONTRACT', 'SECTOR', 'B_GPA', 'VALUE_EURO', 'VALUE_EURO_FIN_1',\n",
            "       'VALUE_EURO_FIN_2', 'PROCEDURE', 'ID_AWARD', 'WIN_TOWN',\n",
            "       'WINNER_COUNTRY', 'NUMBER_OFFERS', 'AWARD_EST_VALUE_EURO',\n",
            "       'AWARD_VALUE_EURO', 'AWARD_VALUE_EURO_FIN_1', 'B_SUBCONTRACTED',\n",
            "       'DT_AWARD', 'FOREIGN_WINNER'],\n",
            "      dtype='object')\n"
          ],
          "name": "stdout"
        }
      ]
    },
    {
      "metadata": {
        "id": "sow1pRukvfIn",
        "colab_type": "code",
        "outputId": "2c3983fd-ac73-4e97-b900-9185038d8afd",
        "colab": {
          "base_uri": "https://localhost:8080/",
          "height": 118
        }
      },
      "cell_type": "code",
      "source": [
        "d2009['EU_COUNTRY']=np.where(d2009['WINNER_COUNTRY']=='AT',1,0)\n",
        "d2009['EU_COUNTRY']=np.where(d2009['WINNER_COUNTRY']=='BE',1,d2009['EU_COUNTRY'])\n",
        "d2009['EU_COUNTRY']=np.where(((d2009['WINNER_COUNTRY']=='BG')&(d2009['YEAR']>2007)) ,1,d2009['EU_COUNTRY'])\n",
        "d2009['EU_COUNTRY']=np.where(d2009['WINNER_COUNTRY']=='HR',1,d2009['EU_COUNTRY'])\n",
        "d2009['EU_COUNTRY']=np.where(d2009['WINNER_COUNTRY']=='CY',1,d2009['EU_COUNTRY'])\n",
        "d2009['EU_COUNTRY']=np.where(((d2009['WINNER_COUNTRY']=='CZ')&(d2009['YEAR']>2007)) ,1,d2009['EU_COUNTRY'])\n",
        "d2009['EU_COUNTRY']=np.where(d2009['WINNER_COUNTRY']=='DK',1,d2009['EU_COUNTRY'])\n",
        "d2009['EU_COUNTRY']=np.where(d2009['WINNER_COUNTRY']=='EE',1,d2009['EU_COUNTRY'])\n",
        "d2009['EU_COUNTRY']=np.where(d2009['WINNER_COUNTRY']=='FI',1,d2009['EU_COUNTRY'])\n",
        "d2009['EU_COUNTRY']=np.where(d2009['WINNER_COUNTRY']=='FR',1,d2009['EU_COUNTRY'])\n",
        "d2009['EU_COUNTRY']=np.where(d2009['WINNER_COUNTRY']=='DE',1,d2009['EU_COUNTRY'])\n",
        "d2009['EU_COUNTRY']=np.where(d2009['WINNER_COUNTRY']=='GR',1,d2009['EU_COUNTRY'])\n",
        "d2009['EU_COUNTRY']=np.where(d2009['WINNER_COUNTRY']=='HU',1,d2009['EU_COUNTRY'])\n",
        "d2009['EU_COUNTRY']=np.where(d2009['WINNER_COUNTRY']=='IE',1,d2009['EU_COUNTRY'])\n",
        "d2009['EU_COUNTRY']=np.where(d2009['WINNER_COUNTRY']=='IT',1,d2009['EU_COUNTRY'])\n",
        "d2009['EU_COUNTRY']=np.where(d2009['WINNER_COUNTRY']=='LV',1,d2009['EU_COUNTRY'])\n",
        "d2009['EU_COUNTRY']=np.where(d2009['WINNER_COUNTRY']=='LT',1,d2009['EU_COUNTRY'])\n",
        "d2009['EU_COUNTRY']=np.where(d2009['WINNER_COUNTRY']=='LU',1,d2009['EU_COUNTRY'])\n",
        "d2009['EU_COUNTRY']=np.where(d2009['WINNER_COUNTRY']=='MT',1,d2009['EU_COUNTRY'])\n",
        "d2009['EU_COUNTRY']=np.where(d2009['WINNER_COUNTRY']=='NL',1,d2009['EU_COUNTRY'])\n",
        "d2009['EU_COUNTRY']=np.where(d2009['WINNER_COUNTRY']=='PL',1,d2009['EU_COUNTRY'])\n",
        "d2009['EU_COUNTRY']=np.where(d2009['WINNER_COUNTRY']=='PT',1,d2009['EU_COUNTRY'])\n",
        "d2009['EU_COUNTRY']=np.where(((d2009['WINNER_COUNTRY']=='RO')&(d2009['YEAR']>2007)) ,1,d2009['EU_COUNTRY'])\n",
        "d2009['EU_COUNTRY']=np.where(d2009['WINNER_COUNTRY']=='SK',1,d2009['EU_COUNTRY'])\n",
        "d2009['EU_COUNTRY']=np.where(d2009['WINNER_COUNTRY']=='SI',1,d2009['EU_COUNTRY'])\n",
        "d2009['EU_COUNTRY']=np.where(d2009['WINNER_COUNTRY']=='ES',1,d2009['EU_COUNTRY'])\n",
        "d2009['EU_COUNTRY']=np.where(d2009['WINNER_COUNTRY']=='SE',1,d2009['EU_COUNTRY'])\n",
        "d2009['EU_COUNTRY']=np.where(d2009['WINNER_COUNTRY']=='GB',1,d2009['EU_COUNTRY'])\n",
        "d2009['EU_COUNTRY'].head()"
      ],
      "execution_count": 72,
      "outputs": [
        {
          "output_type": "execute_result",
          "data": {
            "text/plain": [
              "0    1\n",
              "1    1\n",
              "2    1\n",
              "3    1\n",
              "4    1\n",
              "Name: EU_COUNTRY, dtype: int64"
            ]
          },
          "metadata": {
            "tags": []
          },
          "execution_count": 72
        }
      ]
    },
    {
      "metadata": {
        "id": "nkU8cwNwvqIy",
        "colab_type": "code",
        "colab": {}
      },
      "cell_type": "code",
      "source": [
        "#g eu_foreign_winner = foreign_winner*eu_country\n",
        "#g non_eu_winner = (foreign_winner ==1 & eu_country ==0\n",
        "d2009['EU_FOREIGN_WINNER']=d2009['FOREIGN_WINNER']*d2009['EU_COUNTRY']\n",
        "d2009['NON_WINNER']=np.where((d2009['FOREIGN_WINNER']==1)&(d2009['EU_COUNTRY']==0),1,0)"
      ],
      "execution_count": 0,
      "outputs": []
    },
    {
      "metadata": {
        "id": "nTixkRz6uaXp",
        "colab_type": "code",
        "outputId": "d6ca6585-0c61-46e8-b127-64bb0df2d9c9",
        "colab": {
          "base_uri": "https://localhost:8080/",
          "height": 67
        }
      },
      "cell_type": "code",
      "source": [
        "print(d2009.PROCEDURE.unique())\n",
        "print(len(d2009.PROCEDURE.unique()))\n",
        "D_PROCEDURE=pd.get_dummies(d2009.PROCEDURE, prefix='PROCEDURE').iloc[:, 1:]\n",
        "D_PROCEDURE.head()\n",
        "print(len(D_PROCEDURE.columns))\n",
        "\n",
        "\n"
      ],
      "execution_count": 74,
      "outputs": [
        {
          "output_type": "stream",
          "text": [
            "['OPE' 'AWP' 'NOC' 'RES' 'NIC' 'COD' nan]\n",
            "7\n",
            "5\n"
          ],
          "name": "stdout"
        }
      ]
    },
    {
      "metadata": {
        "id": "Hc84SZxHu6l2",
        "colab_type": "code",
        "outputId": "f3390113-c1e4-4ccf-b3c8-612f9b8cc2aa",
        "colab": {
          "base_uri": "https://localhost:8080/",
          "height": 101
        }
      },
      "cell_type": "code",
      "source": [
        "print(d2009.AUTHORITY_COUNTRY.unique())\n",
        "print(len(d2009.AUTHORITY_COUNTRY.unique()))\n",
        "D_AUTHORITY_COUNTRY=pd.get_dummies(d2009.AUTHORITY_COUNTRY, prefix='COUNTRY').iloc[:, 1:]\n",
        "print(len(D_AUTHORITY_COUNTRY.columns))\n"
      ],
      "execution_count": 75,
      "outputs": [
        {
          "output_type": "stream",
          "text": [
            "['PL' 'ES' 'FR' 'DE' 'NL' 'EE' 'LV' 'IT' 'MT' 'GR' 'DK' 'BG' 'UK' 'SE'\n",
            " 'HU' 'AT' 'LT' 'SK' 'SI' 'PT' 'BE' 'RO' 'IE' 'CZ' 'FI' 'NO' 'CH' 'LU'\n",
            " 'CY' 'MK' 'IS' 'LI' 'HR']\n",
            "33\n",
            "32\n"
          ],
          "name": "stdout"
        }
      ]
    },
    {
      "metadata": {
        "id": "6Upcb4v6xZiQ",
        "colab_type": "code",
        "outputId": "be5679ce-a974-4467-8eb0-1f4ad78d5372",
        "colab": {
          "base_uri": "https://localhost:8080/",
          "height": 67
        }
      },
      "cell_type": "code",
      "source": [
        "print(d2009.B_GPA.unique())\n",
        "print(len(d2009.B_GPA.unique()))\n",
        "D_B_GPA=pd.get_dummies(d2009.B_GPA, prefix='B_GPA').iloc[:, 1:]\n",
        "print(len(D_B_GPA.columns))\n",
        "\n"
      ],
      "execution_count": 76,
      "outputs": [
        {
          "output_type": "stream",
          "text": [
            "['N' 'Y' nan]\n",
            "3\n",
            "1\n"
          ],
          "name": "stdout"
        }
      ]
    },
    {
      "metadata": {
        "id": "A63E_oAIxs2p",
        "colab_type": "code",
        "outputId": "0e739f51-49bd-4f16-fd23-8f376c0a67aa",
        "colab": {
          "base_uri": "https://localhost:8080/",
          "height": 67
        }
      },
      "cell_type": "code",
      "source": [
        "#Dummy variable for authority type. tab cae_type, g(aut_type_dum)\n",
        "print(d2009.CAE_TYPE.unique())\n",
        "print(len(d2009.CAE_TYPE.unique()))\n",
        "D_CAE_TYPE=pd.get_dummies(d2009.CAE_TYPE, prefix='CAE_TYPE').iloc[:, 1:]\n",
        "print(len(D_CAE_TYPE.columns))\n",
        "\n",
        " "
      ],
      "execution_count": 77,
      "outputs": [
        {
          "output_type": "stream",
          "text": [
            "['8' '3' '6' '1' 'R' 'N' 'Z' '4' '5' '5A']\n",
            "10\n",
            "9\n"
          ],
          "name": "stdout"
        }
      ]
    },
    {
      "metadata": {
        "id": "S594nY5A290q",
        "colab_type": "code",
        "outputId": "365869f7-bafc-445c-ca74-1cfc8fc6cc75",
        "colab": {
          "base_uri": "https://localhost:8080/",
          "height": 118
        }
      },
      "cell_type": "code",
      "source": [
        "print(d2009.SECTOR.unique())\n",
        "print(len(d2009.SECTOR.unique()))\n",
        "D_SECTOR=pd.get_dummies(d2009.SECTOR, prefix='SECTOR').iloc[:, 1:]\n",
        "print(len(D_SECTOR.columns))\n"
      ],
      "execution_count": 78,
      "outputs": [
        {
          "output_type": "stream",
          "text": [
            "['33' '35' '93' '34' '63' '30' '39' '32' '42' '38' '71' '90' '85' '92'\n",
            " '80' '65' '66' '72' '15' '18' 'na' '48' '50' '60' '79' '55' '75' '44'\n",
            " '31' '91' '64' '45' '22' '98' '77' '70' '19' '14' '73' '76' '43' '37'\n",
            " '24' '41' '16' '51']\n",
            "46\n",
            "45\n"
          ],
          "name": "stdout"
        }
      ]
    },
    {
      "metadata": {
        "id": "LnmDBotg7MPC",
        "colab_type": "code",
        "outputId": "4ea72441-724e-4b60-9587-74d4cd74ead7",
        "colab": {
          "base_uri": "https://localhost:8080/",
          "height": 151
        }
      },
      "cell_type": "code",
      "source": [
        "# drop if award_est_value ==.. drop if award_value_euro ==.\n",
        "d2009.columns"
      ],
      "execution_count": 79,
      "outputs": [
        {
          "output_type": "execute_result",
          "data": {
            "text/plain": [
              "Index(['ID_NOTICE_CAN', 'YEAR', 'CAE_TOWN', 'AUTHORITY_COUNTRY', 'CAE_TYPE',\n",
              "       'TYPE_OF_CONTRACT', 'SECTOR', 'B_GPA', 'VALUE_EURO', 'VALUE_EURO_FIN_1',\n",
              "       'VALUE_EURO_FIN_2', 'PROCEDURE', 'ID_AWARD', 'WIN_TOWN',\n",
              "       'WINNER_COUNTRY', 'NUMBER_OFFERS', 'AWARD_EST_VALUE_EURO',\n",
              "       'AWARD_VALUE_EURO', 'AWARD_VALUE_EURO_FIN_1', 'B_SUBCONTRACTED',\n",
              "       'DT_AWARD', 'FOREIGN_WINNER', 'EU_COUNTRY', 'EU_FOREIGN_WINNER',\n",
              "       'NON_WINNER'],\n",
              "      dtype='object')"
            ]
          },
          "metadata": {
            "tags": []
          },
          "execution_count": 79
        }
      ]
    },
    {
      "metadata": {
        "id": "T61XseY5WQFd",
        "colab_type": "code",
        "outputId": "bdb66791-7bec-407e-8141-503a2955985e",
        "colab": {
          "base_uri": "https://localhost:8080/",
          "height": 67
        }
      },
      "cell_type": "code",
      "source": [
        "print(d2009.YEAR.unique())\n",
        "print(len(d2009.YEAR.unique()))\n",
        "D_YEAR=pd.get_dummies(d2009.YEAR, prefix='YEAR').iloc[:, 1:]\n",
        "print(len(D_YEAR.columns))\n"
      ],
      "execution_count": 80,
      "outputs": [
        {
          "output_type": "stream",
          "text": [
            "[2011 2012]\n",
            "2\n",
            "1\n"
          ],
          "name": "stdout"
        }
      ]
    },
    {
      "metadata": {
        "id": "ExoX1kkpZrbX",
        "colab_type": "code",
        "colab": {}
      },
      "cell_type": "code",
      "source": [
        "yX = pd.concat([d2009['AWARD_VALUE_EURO'],d2009['AWARD_EST_VALUE_EURO'],d2009['NUMBER_OFFERS'],D_YEAR,D_SECTOR,D_B_GPA,D_PROCEDURE,D_CAE_TYPE], axis=1)\n"
      ],
      "execution_count": 0,
      "outputs": []
    },
    {
      "metadata": {
        "id": "qBCKCDd619e0",
        "colab_type": "code",
        "colab": {
          "base_uri": "https://localhost:8080/",
          "height": 286
        },
        "outputId": "eafb7817-a69b-4fb3-a940-4d3db66fe0c6"
      },
      "cell_type": "code",
      "source": [
        "print(yX.columns)\n",
        "len(yX)"
      ],
      "execution_count": 83,
      "outputs": [
        {
          "output_type": "stream",
          "text": [
            "Index(['AWARD_VALUE_EURO', 'AWARD_EST_VALUE_EURO', 'NUMBER_OFFERS',\n",
            "       'YEAR_2012', 'SECTOR_15', 'SECTOR_16', 'SECTOR_18', 'SECTOR_19',\n",
            "       'SECTOR_22', 'SECTOR_24', 'SECTOR_30', 'SECTOR_31', 'SECTOR_32',\n",
            "       'SECTOR_33', 'SECTOR_34', 'SECTOR_35', 'SECTOR_37', 'SECTOR_38',\n",
            "       'SECTOR_39', 'SECTOR_41', 'SECTOR_42', 'SECTOR_43', 'SECTOR_44',\n",
            "       'SECTOR_45', 'SECTOR_48', 'SECTOR_50', 'SECTOR_51', 'SECTOR_55',\n",
            "       'SECTOR_60', 'SECTOR_63', 'SECTOR_64', 'SECTOR_65', 'SECTOR_66',\n",
            "       'SECTOR_70', 'SECTOR_71', 'SECTOR_72', 'SECTOR_73', 'SECTOR_75',\n",
            "       'SECTOR_76', 'SECTOR_77', 'SECTOR_79', 'SECTOR_80', 'SECTOR_85',\n",
            "       'SECTOR_90', 'SECTOR_91', 'SECTOR_92', 'SECTOR_93', 'SECTOR_98',\n",
            "       'SECTOR_na', 'B_GPA_Y', 'PROCEDURE_COD', 'PROCEDURE_NIC',\n",
            "       'PROCEDURE_NOC', 'PROCEDURE_OPE', 'PROCEDURE_RES', 'CAE_TYPE_3',\n",
            "       'CAE_TYPE_4', 'CAE_TYPE_5', 'CAE_TYPE_5A', 'CAE_TYPE_6', 'CAE_TYPE_8',\n",
            "       'CAE_TYPE_N', 'CAE_TYPE_R', 'CAE_TYPE_Z'],\n",
            "      dtype='object')\n"
          ],
          "name": "stdout"
        },
        {
          "output_type": "execute_result",
          "data": {
            "text/plain": [
              "975765"
            ]
          },
          "metadata": {
            "tags": []
          },
          "execution_count": 83
        }
      ]
    },
    {
      "metadata": {
        "id": "56FUVhiTaq4t",
        "colab_type": "code",
        "colab": {
          "base_uri": "https://localhost:8080/",
          "height": 34
        },
        "outputId": "f0238e25-baed-4eeb-de59-0605df6f2118"
      },
      "cell_type": "code",
      "source": [
        "yX = yX[pd.notnull(yX['AWARD_VALUE_EURO'])]\n",
        "yX = yX[yX['AWARD_VALUE_EURO'] != 0]\n",
        "len(yX)\n",
        "\n"
      ],
      "execution_count": 92,
      "outputs": [
        {
          "output_type": "execute_result",
          "data": {
            "text/plain": [
              "332046"
            ]
          },
          "metadata": {
            "tags": []
          },
          "execution_count": 92
        }
      ]
    },
    {
      "metadata": {
        "id": "y983RQy_2OiQ",
        "colab_type": "code",
        "colab": {
          "base_uri": "https://localhost:8080/",
          "height": 34
        },
        "outputId": "0c07b780-4d38-40b3-98ce-0db6d1d98170"
      },
      "cell_type": "code",
      "source": [
        "yX = yX[pd.notnull(yX['AWARD_EST_VALUE_EURO'])]\n",
        "yX = yX[yX['AWARD_EST_VALUE_EURO'] != 0]\n",
        "len(yX)\n",
        "\n"
      ],
      "execution_count": 93,
      "outputs": [
        {
          "output_type": "execute_result",
          "data": {
            "text/plain": [
              "332045"
            ]
          },
          "metadata": {
            "tags": []
          },
          "execution_count": 93
        }
      ]
    },
    {
      "metadata": {
        "id": "tvW0BfKb2Wc6",
        "colab_type": "code",
        "colab": {
          "base_uri": "https://localhost:8080/",
          "height": 34
        },
        "outputId": "e6ffbe75-6507-4d74-b658-447e33466d5a"
      },
      "cell_type": "code",
      "source": [
        "yX = yX[pd.notnull(yX['NUMBER_OFFERS'])]\n",
        "yX = yX[yX['NUMBER_OFFERS'] != 0]\n",
        "len(yX)"
      ],
      "execution_count": 94,
      "outputs": [
        {
          "output_type": "execute_result",
          "data": {
            "text/plain": [
              "331921"
            ]
          },
          "metadata": {
            "tags": []
          },
          "execution_count": 94
        }
      ]
    },
    {
      "metadata": {
        "id": "URwhUOth2e0v",
        "colab_type": "code",
        "colab": {
          "base_uri": "https://localhost:8080/",
          "height": 34
        },
        "outputId": "23dc7c85-b0c9-4185-ebf8-099b1a03c0c5"
      },
      "cell_type": "code",
      "source": [
        "\n",
        "yX['RATIO']=yX['AWARD_VALUE_EURO']/yX['AWARD_EST_VALUE_EURO']\n",
        "yX = yX[pd.notnull(yX['RATIO'])]\n",
        "len(yX)\n"
      ],
      "execution_count": 95,
      "outputs": [
        {
          "output_type": "execute_result",
          "data": {
            "text/plain": [
              "331921"
            ]
          },
          "metadata": {
            "tags": []
          },
          "execution_count": 95
        }
      ]
    },
    {
      "metadata": {
        "id": "lWmCx0iO3xmt",
        "colab_type": "code",
        "colab": {
          "base_uri": "https://localhost:8080/",
          "height": 168
        },
        "outputId": "9ce3b804-a461-45a2-9e1b-0676b915e86b"
      },
      "cell_type": "code",
      "source": [
        "yX['RATIO'].describe()"
      ],
      "execution_count": 97,
      "outputs": [
        {
          "output_type": "execute_result",
          "data": {
            "text/plain": [
              "count    3.319210e+05\n",
              "mean     7.139255e+08\n",
              "std      4.113109e+11\n",
              "min      4.503584e-10\n",
              "25%      7.283985e-01\n",
              "50%      9.349163e-01\n",
              "75%      1.000000e+00\n",
              "max      2.369668e+14\n",
              "Name: RATIO, dtype: float64"
            ]
          },
          "metadata": {
            "tags": []
          },
          "execution_count": 97
        }
      ]
    },
    {
      "metadata": {
        "id": "Nnb5AfWgcZTF",
        "colab_type": "code",
        "colab": {
          "base_uri": "https://localhost:8080/",
          "height": 1882
        },
        "outputId": "76252c4e-b77b-449e-ba22-aaf556098b60"
      },
      "cell_type": "code",
      "source": [
        "yX.describe().T"
      ],
      "execution_count": 98,
      "outputs": [
        {
          "output_type": "execute_result",
          "data": {
            "text/html": [
              "<div>\n",
              "<style scoped>\n",
              "    .dataframe tbody tr th:only-of-type {\n",
              "        vertical-align: middle;\n",
              "    }\n",
              "\n",
              "    .dataframe tbody tr th {\n",
              "        vertical-align: top;\n",
              "    }\n",
              "\n",
              "    .dataframe thead th {\n",
              "        text-align: right;\n",
              "    }\n",
              "</style>\n",
              "<table border=\"1\" class=\"dataframe\">\n",
              "  <thead>\n",
              "    <tr style=\"text-align: right;\">\n",
              "      <th></th>\n",
              "      <th>count</th>\n",
              "      <th>mean</th>\n",
              "      <th>std</th>\n",
              "      <th>min</th>\n",
              "      <th>25%</th>\n",
              "      <th>50%</th>\n",
              "      <th>75%</th>\n",
              "      <th>max</th>\n",
              "    </tr>\n",
              "  </thead>\n",
              "  <tbody>\n",
              "    <tr>\n",
              "      <th>AWARD_VALUE_EURO</th>\n",
              "      <td>331921.0</td>\n",
              "      <td>3.012817e+14</td>\n",
              "      <td>1.735732e+17</td>\n",
              "      <td>1.000000e-02</td>\n",
              "      <td>3273.700000</td>\n",
              "      <td>25629.570000</td>\n",
              "      <td>190551.0</td>\n",
              "      <td>1.000000e+20</td>\n",
              "    </tr>\n",
              "    <tr>\n",
              "      <th>AWARD_EST_VALUE_EURO</th>\n",
              "      <td>331921.0</td>\n",
              "      <td>5.401968e+09</td>\n",
              "      <td>3.000887e+12</td>\n",
              "      <td>1.000000e-02</td>\n",
              "      <td>4435.070000</td>\n",
              "      <td>34752.220000</td>\n",
              "      <td>255580.0</td>\n",
              "      <td>1.728608e+15</td>\n",
              "    </tr>\n",
              "    <tr>\n",
              "      <th>NUMBER_OFFERS</th>\n",
              "      <td>331921.0</td>\n",
              "      <td>4.170417e+00</td>\n",
              "      <td>9.412019e+00</td>\n",
              "      <td>1.000000e+00</td>\n",
              "      <td>1.000000</td>\n",
              "      <td>2.000000</td>\n",
              "      <td>4.0</td>\n",
              "      <td>1.357000e+03</td>\n",
              "    </tr>\n",
              "    <tr>\n",
              "      <th>YEAR_2012</th>\n",
              "      <td>331921.0</td>\n",
              "      <td>5.181414e-01</td>\n",
              "      <td>4.996715e-01</td>\n",
              "      <td>0.000000e+00</td>\n",
              "      <td>0.000000</td>\n",
              "      <td>1.000000</td>\n",
              "      <td>1.0</td>\n",
              "      <td>1.000000e+00</td>\n",
              "    </tr>\n",
              "    <tr>\n",
              "      <th>SECTOR_15</th>\n",
              "      <td>331921.0</td>\n",
              "      <td>2.842544e-02</td>\n",
              "      <td>1.661852e-01</td>\n",
              "      <td>0.000000e+00</td>\n",
              "      <td>0.000000</td>\n",
              "      <td>0.000000</td>\n",
              "      <td>0.0</td>\n",
              "      <td>1.000000e+00</td>\n",
              "    </tr>\n",
              "    <tr>\n",
              "      <th>SECTOR_16</th>\n",
              "      <td>331921.0</td>\n",
              "      <td>9.460082e-04</td>\n",
              "      <td>3.074274e-02</td>\n",
              "      <td>0.000000e+00</td>\n",
              "      <td>0.000000</td>\n",
              "      <td>0.000000</td>\n",
              "      <td>0.0</td>\n",
              "      <td>1.000000e+00</td>\n",
              "    </tr>\n",
              "    <tr>\n",
              "      <th>SECTOR_18</th>\n",
              "      <td>331921.0</td>\n",
              "      <td>5.651947e-03</td>\n",
              "      <td>7.496679e-02</td>\n",
              "      <td>0.000000e+00</td>\n",
              "      <td>0.000000</td>\n",
              "      <td>0.000000</td>\n",
              "      <td>0.0</td>\n",
              "      <td>1.000000e+00</td>\n",
              "    </tr>\n",
              "    <tr>\n",
              "      <th>SECTOR_19</th>\n",
              "      <td>331921.0</td>\n",
              "      <td>7.471657e-04</td>\n",
              "      <td>2.732416e-02</td>\n",
              "      <td>0.000000e+00</td>\n",
              "      <td>0.000000</td>\n",
              "      <td>0.000000</td>\n",
              "      <td>0.0</td>\n",
              "      <td>1.000000e+00</td>\n",
              "    </tr>\n",
              "    <tr>\n",
              "      <th>SECTOR_22</th>\n",
              "      <td>331921.0</td>\n",
              "      <td>4.187743e-03</td>\n",
              "      <td>6.457723e-02</td>\n",
              "      <td>0.000000e+00</td>\n",
              "      <td>0.000000</td>\n",
              "      <td>0.000000</td>\n",
              "      <td>0.0</td>\n",
              "      <td>1.000000e+00</td>\n",
              "    </tr>\n",
              "    <tr>\n",
              "      <th>SECTOR_24</th>\n",
              "      <td>331921.0</td>\n",
              "      <td>6.260526e-03</td>\n",
              "      <td>7.887554e-02</td>\n",
              "      <td>0.000000e+00</td>\n",
              "      <td>0.000000</td>\n",
              "      <td>0.000000</td>\n",
              "      <td>0.0</td>\n",
              "      <td>1.000000e+00</td>\n",
              "    </tr>\n",
              "    <tr>\n",
              "      <th>SECTOR_30</th>\n",
              "      <td>331921.0</td>\n",
              "      <td>2.944074e-02</td>\n",
              "      <td>1.690387e-01</td>\n",
              "      <td>0.000000e+00</td>\n",
              "      <td>0.000000</td>\n",
              "      <td>0.000000</td>\n",
              "      <td>0.0</td>\n",
              "      <td>1.000000e+00</td>\n",
              "    </tr>\n",
              "    <tr>\n",
              "      <th>SECTOR_31</th>\n",
              "      <td>331921.0</td>\n",
              "      <td>8.188696e-03</td>\n",
              "      <td>9.012028e-02</td>\n",
              "      <td>0.000000e+00</td>\n",
              "      <td>0.000000</td>\n",
              "      <td>0.000000</td>\n",
              "      <td>0.0</td>\n",
              "      <td>1.000000e+00</td>\n",
              "    </tr>\n",
              "    <tr>\n",
              "      <th>SECTOR_32</th>\n",
              "      <td>331921.0</td>\n",
              "      <td>8.288117e-03</td>\n",
              "      <td>9.066117e-02</td>\n",
              "      <td>0.000000e+00</td>\n",
              "      <td>0.000000</td>\n",
              "      <td>0.000000</td>\n",
              "      <td>0.0</td>\n",
              "      <td>1.000000e+00</td>\n",
              "    </tr>\n",
              "    <tr>\n",
              "      <th>SECTOR_33</th>\n",
              "      <td>331921.0</td>\n",
              "      <td>4.174307e-01</td>\n",
              "      <td>4.931359e-01</td>\n",
              "      <td>0.000000e+00</td>\n",
              "      <td>0.000000</td>\n",
              "      <td>0.000000</td>\n",
              "      <td>1.0</td>\n",
              "      <td>1.000000e+00</td>\n",
              "    </tr>\n",
              "    <tr>\n",
              "      <th>SECTOR_34</th>\n",
              "      <td>331921.0</td>\n",
              "      <td>2.161358e-02</td>\n",
              "      <td>1.454183e-01</td>\n",
              "      <td>0.000000e+00</td>\n",
              "      <td>0.000000</td>\n",
              "      <td>0.000000</td>\n",
              "      <td>0.0</td>\n",
              "      <td>1.000000e+00</td>\n",
              "    </tr>\n",
              "    <tr>\n",
              "      <th>SECTOR_35</th>\n",
              "      <td>331921.0</td>\n",
              "      <td>3.169429e-03</td>\n",
              "      <td>5.620848e-02</td>\n",
              "      <td>0.000000e+00</td>\n",
              "      <td>0.000000</td>\n",
              "      <td>0.000000</td>\n",
              "      <td>0.0</td>\n",
              "      <td>1.000000e+00</td>\n",
              "    </tr>\n",
              "    <tr>\n",
              "      <th>SECTOR_37</th>\n",
              "      <td>331921.0</td>\n",
              "      <td>1.018315e-03</td>\n",
              "      <td>3.189484e-02</td>\n",
              "      <td>0.000000e+00</td>\n",
              "      <td>0.000000</td>\n",
              "      <td>0.000000</td>\n",
              "      <td>0.0</td>\n",
              "      <td>1.000000e+00</td>\n",
              "    </tr>\n",
              "    <tr>\n",
              "      <th>SECTOR_38</th>\n",
              "      <td>331921.0</td>\n",
              "      <td>2.784397e-02</td>\n",
              "      <td>1.645259e-01</td>\n",
              "      <td>0.000000e+00</td>\n",
              "      <td>0.000000</td>\n",
              "      <td>0.000000</td>\n",
              "      <td>0.0</td>\n",
              "      <td>1.000000e+00</td>\n",
              "    </tr>\n",
              "    <tr>\n",
              "      <th>SECTOR_39</th>\n",
              "      <td>331921.0</td>\n",
              "      <td>1.281028e-02</td>\n",
              "      <td>1.124554e-01</td>\n",
              "      <td>0.000000e+00</td>\n",
              "      <td>0.000000</td>\n",
              "      <td>0.000000</td>\n",
              "      <td>0.0</td>\n",
              "      <td>1.000000e+00</td>\n",
              "    </tr>\n",
              "    <tr>\n",
              "      <th>SECTOR_41</th>\n",
              "      <td>331921.0</td>\n",
              "      <td>2.349957e-04</td>\n",
              "      <td>1.532779e-02</td>\n",
              "      <td>0.000000e+00</td>\n",
              "      <td>0.000000</td>\n",
              "      <td>0.000000</td>\n",
              "      <td>0.0</td>\n",
              "      <td>1.000000e+00</td>\n",
              "    </tr>\n",
              "    <tr>\n",
              "      <th>SECTOR_42</th>\n",
              "      <td>331921.0</td>\n",
              "      <td>9.469121e-03</td>\n",
              "      <td>9.684774e-02</td>\n",
              "      <td>0.000000e+00</td>\n",
              "      <td>0.000000</td>\n",
              "      <td>0.000000</td>\n",
              "      <td>0.0</td>\n",
              "      <td>1.000000e+00</td>\n",
              "    </tr>\n",
              "    <tr>\n",
              "      <th>SECTOR_43</th>\n",
              "      <td>331921.0</td>\n",
              "      <td>5.055420e-03</td>\n",
              "      <td>7.092163e-02</td>\n",
              "      <td>0.000000e+00</td>\n",
              "      <td>0.000000</td>\n",
              "      <td>0.000000</td>\n",
              "      <td>0.0</td>\n",
              "      <td>1.000000e+00</td>\n",
              "    </tr>\n",
              "    <tr>\n",
              "      <th>SECTOR_44</th>\n",
              "      <td>331921.0</td>\n",
              "      <td>1.151479e-02</td>\n",
              "      <td>1.066875e-01</td>\n",
              "      <td>0.000000e+00</td>\n",
              "      <td>0.000000</td>\n",
              "      <td>0.000000</td>\n",
              "      <td>0.0</td>\n",
              "      <td>1.000000e+00</td>\n",
              "    </tr>\n",
              "    <tr>\n",
              "      <th>SECTOR_45</th>\n",
              "      <td>331921.0</td>\n",
              "      <td>5.248839e-02</td>\n",
              "      <td>2.230101e-01</td>\n",
              "      <td>0.000000e+00</td>\n",
              "      <td>0.000000</td>\n",
              "      <td>0.000000</td>\n",
              "      <td>0.0</td>\n",
              "      <td>1.000000e+00</td>\n",
              "    </tr>\n",
              "    <tr>\n",
              "      <th>SECTOR_48</th>\n",
              "      <td>331921.0</td>\n",
              "      <td>7.501785e-03</td>\n",
              "      <td>8.628749e-02</td>\n",
              "      <td>0.000000e+00</td>\n",
              "      <td>0.000000</td>\n",
              "      <td>0.000000</td>\n",
              "      <td>0.0</td>\n",
              "      <td>1.000000e+00</td>\n",
              "    </tr>\n",
              "    <tr>\n",
              "      <th>SECTOR_50</th>\n",
              "      <td>331921.0</td>\n",
              "      <td>2.185761e-02</td>\n",
              "      <td>1.462187e-01</td>\n",
              "      <td>0.000000e+00</td>\n",
              "      <td>0.000000</td>\n",
              "      <td>0.000000</td>\n",
              "      <td>0.0</td>\n",
              "      <td>1.000000e+00</td>\n",
              "    </tr>\n",
              "    <tr>\n",
              "      <th>SECTOR_51</th>\n",
              "      <td>331921.0</td>\n",
              "      <td>8.556253e-04</td>\n",
              "      <td>2.923860e-02</td>\n",
              "      <td>0.000000e+00</td>\n",
              "      <td>0.000000</td>\n",
              "      <td>0.000000</td>\n",
              "      <td>0.0</td>\n",
              "      <td>1.000000e+00</td>\n",
              "    </tr>\n",
              "    <tr>\n",
              "      <th>SECTOR_55</th>\n",
              "      <td>331921.0</td>\n",
              "      <td>7.628321e-03</td>\n",
              "      <td>8.700662e-02</td>\n",
              "      <td>0.000000e+00</td>\n",
              "      <td>0.000000</td>\n",
              "      <td>0.000000</td>\n",
              "      <td>0.0</td>\n",
              "      <td>1.000000e+00</td>\n",
              "    </tr>\n",
              "    <tr>\n",
              "      <th>SECTOR_60</th>\n",
              "      <td>331921.0</td>\n",
              "      <td>9.987316e-03</td>\n",
              "      <td>9.943641e-02</td>\n",
              "      <td>0.000000e+00</td>\n",
              "      <td>0.000000</td>\n",
              "      <td>0.000000</td>\n",
              "      <td>0.0</td>\n",
              "      <td>1.000000e+00</td>\n",
              "    </tr>\n",
              "    <tr>\n",
              "      <th>SECTOR_63</th>\n",
              "      <td>331921.0</td>\n",
              "      <td>3.036867e-03</td>\n",
              "      <td>5.502412e-02</td>\n",
              "      <td>0.000000e+00</td>\n",
              "      <td>0.000000</td>\n",
              "      <td>0.000000</td>\n",
              "      <td>0.0</td>\n",
              "      <td>1.000000e+00</td>\n",
              "    </tr>\n",
              "    <tr>\n",
              "      <th>...</th>\n",
              "      <td>...</td>\n",
              "      <td>...</td>\n",
              "      <td>...</td>\n",
              "      <td>...</td>\n",
              "      <td>...</td>\n",
              "      <td>...</td>\n",
              "      <td>...</td>\n",
              "      <td>...</td>\n",
              "    </tr>\n",
              "    <tr>\n",
              "      <th>SECTOR_72</th>\n",
              "      <td>331921.0</td>\n",
              "      <td>1.302117e-02</td>\n",
              "      <td>1.133652e-01</td>\n",
              "      <td>0.000000e+00</td>\n",
              "      <td>0.000000</td>\n",
              "      <td>0.000000</td>\n",
              "      <td>0.0</td>\n",
              "      <td>1.000000e+00</td>\n",
              "    </tr>\n",
              "    <tr>\n",
              "      <th>SECTOR_73</th>\n",
              "      <td>331921.0</td>\n",
              "      <td>4.003965e-03</td>\n",
              "      <td>6.315018e-02</td>\n",
              "      <td>0.000000e+00</td>\n",
              "      <td>0.000000</td>\n",
              "      <td>0.000000</td>\n",
              "      <td>0.0</td>\n",
              "      <td>1.000000e+00</td>\n",
              "    </tr>\n",
              "    <tr>\n",
              "      <th>SECTOR_75</th>\n",
              "      <td>331921.0</td>\n",
              "      <td>1.560612e-03</td>\n",
              "      <td>3.947381e-02</td>\n",
              "      <td>0.000000e+00</td>\n",
              "      <td>0.000000</td>\n",
              "      <td>0.000000</td>\n",
              "      <td>0.0</td>\n",
              "      <td>1.000000e+00</td>\n",
              "    </tr>\n",
              "    <tr>\n",
              "      <th>SECTOR_76</th>\n",
              "      <td>331921.0</td>\n",
              "      <td>8.435742e-04</td>\n",
              "      <td>2.903214e-02</td>\n",
              "      <td>0.000000e+00</td>\n",
              "      <td>0.000000</td>\n",
              "      <td>0.000000</td>\n",
              "      <td>0.0</td>\n",
              "      <td>1.000000e+00</td>\n",
              "    </tr>\n",
              "    <tr>\n",
              "      <th>SECTOR_77</th>\n",
              "      <td>331921.0</td>\n",
              "      <td>4.391708e-02</td>\n",
              "      <td>2.049109e-01</td>\n",
              "      <td>0.000000e+00</td>\n",
              "      <td>0.000000</td>\n",
              "      <td>0.000000</td>\n",
              "      <td>0.0</td>\n",
              "      <td>1.000000e+00</td>\n",
              "    </tr>\n",
              "    <tr>\n",
              "      <th>SECTOR_79</th>\n",
              "      <td>331921.0</td>\n",
              "      <td>2.428891e-02</td>\n",
              "      <td>1.539449e-01</td>\n",
              "      <td>0.000000e+00</td>\n",
              "      <td>0.000000</td>\n",
              "      <td>0.000000</td>\n",
              "      <td>0.0</td>\n",
              "      <td>1.000000e+00</td>\n",
              "    </tr>\n",
              "    <tr>\n",
              "      <th>SECTOR_80</th>\n",
              "      <td>331921.0</td>\n",
              "      <td>4.899660e-02</td>\n",
              "      <td>2.158612e-01</td>\n",
              "      <td>0.000000e+00</td>\n",
              "      <td>0.000000</td>\n",
              "      <td>0.000000</td>\n",
              "      <td>0.0</td>\n",
              "      <td>1.000000e+00</td>\n",
              "    </tr>\n",
              "    <tr>\n",
              "      <th>SECTOR_85</th>\n",
              "      <td>331921.0</td>\n",
              "      <td>3.508064e-02</td>\n",
              "      <td>1.839839e-01</td>\n",
              "      <td>0.000000e+00</td>\n",
              "      <td>0.000000</td>\n",
              "      <td>0.000000</td>\n",
              "      <td>0.0</td>\n",
              "      <td>1.000000e+00</td>\n",
              "    </tr>\n",
              "    <tr>\n",
              "      <th>SECTOR_90</th>\n",
              "      <td>331921.0</td>\n",
              "      <td>3.608991e-02</td>\n",
              "      <td>1.865142e-01</td>\n",
              "      <td>0.000000e+00</td>\n",
              "      <td>0.000000</td>\n",
              "      <td>0.000000</td>\n",
              "      <td>0.0</td>\n",
              "      <td>1.000000e+00</td>\n",
              "    </tr>\n",
              "    <tr>\n",
              "      <th>SECTOR_91</th>\n",
              "      <td>331921.0</td>\n",
              "      <td>9.146755e-03</td>\n",
              "      <td>9.520041e-02</td>\n",
              "      <td>0.000000e+00</td>\n",
              "      <td>0.000000</td>\n",
              "      <td>0.000000</td>\n",
              "      <td>0.0</td>\n",
              "      <td>1.000000e+00</td>\n",
              "    </tr>\n",
              "    <tr>\n",
              "      <th>SECTOR_92</th>\n",
              "      <td>331921.0</td>\n",
              "      <td>4.510109e-03</td>\n",
              "      <td>6.700583e-02</td>\n",
              "      <td>0.000000e+00</td>\n",
              "      <td>0.000000</td>\n",
              "      <td>0.000000</td>\n",
              "      <td>0.0</td>\n",
              "      <td>1.000000e+00</td>\n",
              "    </tr>\n",
              "    <tr>\n",
              "      <th>SECTOR_93</th>\n",
              "      <td>331921.0</td>\n",
              "      <td>6.423215e-03</td>\n",
              "      <td>7.988727e-02</td>\n",
              "      <td>0.000000e+00</td>\n",
              "      <td>0.000000</td>\n",
              "      <td>0.000000</td>\n",
              "      <td>0.0</td>\n",
              "      <td>1.000000e+00</td>\n",
              "    </tr>\n",
              "    <tr>\n",
              "      <th>SECTOR_98</th>\n",
              "      <td>331921.0</td>\n",
              "      <td>3.808135e-03</td>\n",
              "      <td>6.159257e-02</td>\n",
              "      <td>0.000000e+00</td>\n",
              "      <td>0.000000</td>\n",
              "      <td>0.000000</td>\n",
              "      <td>0.0</td>\n",
              "      <td>1.000000e+00</td>\n",
              "    </tr>\n",
              "    <tr>\n",
              "      <th>SECTOR_na</th>\n",
              "      <td>331921.0</td>\n",
              "      <td>1.382859e-03</td>\n",
              "      <td>3.716115e-02</td>\n",
              "      <td>0.000000e+00</td>\n",
              "      <td>0.000000</td>\n",
              "      <td>0.000000</td>\n",
              "      <td>0.0</td>\n",
              "      <td>1.000000e+00</td>\n",
              "    </tr>\n",
              "    <tr>\n",
              "      <th>B_GPA_Y</th>\n",
              "      <td>331921.0</td>\n",
              "      <td>2.768882e-01</td>\n",
              "      <td>4.474614e-01</td>\n",
              "      <td>0.000000e+00</td>\n",
              "      <td>0.000000</td>\n",
              "      <td>0.000000</td>\n",
              "      <td>1.0</td>\n",
              "      <td>1.000000e+00</td>\n",
              "    </tr>\n",
              "    <tr>\n",
              "      <th>PROCEDURE_COD</th>\n",
              "      <td>331921.0</td>\n",
              "      <td>8.767146e-04</td>\n",
              "      <td>2.959643e-02</td>\n",
              "      <td>0.000000e+00</td>\n",
              "      <td>0.000000</td>\n",
              "      <td>0.000000</td>\n",
              "      <td>0.0</td>\n",
              "      <td>1.000000e+00</td>\n",
              "    </tr>\n",
              "    <tr>\n",
              "      <th>PROCEDURE_NIC</th>\n",
              "      <td>331921.0</td>\n",
              "      <td>2.067359e-02</td>\n",
              "      <td>1.422893e-01</td>\n",
              "      <td>0.000000e+00</td>\n",
              "      <td>0.000000</td>\n",
              "      <td>0.000000</td>\n",
              "      <td>0.0</td>\n",
              "      <td>1.000000e+00</td>\n",
              "    </tr>\n",
              "    <tr>\n",
              "      <th>PROCEDURE_NOC</th>\n",
              "      <td>331921.0</td>\n",
              "      <td>2.617490e-02</td>\n",
              "      <td>1.596554e-01</td>\n",
              "      <td>0.000000e+00</td>\n",
              "      <td>0.000000</td>\n",
              "      <td>0.000000</td>\n",
              "      <td>0.0</td>\n",
              "      <td>1.000000e+00</td>\n",
              "    </tr>\n",
              "    <tr>\n",
              "      <th>PROCEDURE_OPE</th>\n",
              "      <td>331921.0</td>\n",
              "      <td>8.900039e-01</td>\n",
              "      <td>3.128853e-01</td>\n",
              "      <td>0.000000e+00</td>\n",
              "      <td>1.000000</td>\n",
              "      <td>1.000000</td>\n",
              "      <td>1.0</td>\n",
              "      <td>1.000000e+00</td>\n",
              "    </tr>\n",
              "    <tr>\n",
              "      <th>PROCEDURE_RES</th>\n",
              "      <td>331921.0</td>\n",
              "      <td>3.145628e-02</td>\n",
              "      <td>1.745476e-01</td>\n",
              "      <td>0.000000e+00</td>\n",
              "      <td>0.000000</td>\n",
              "      <td>0.000000</td>\n",
              "      <td>0.0</td>\n",
              "      <td>1.000000e+00</td>\n",
              "    </tr>\n",
              "    <tr>\n",
              "      <th>CAE_TYPE_3</th>\n",
              "      <td>331921.0</td>\n",
              "      <td>1.415668e-01</td>\n",
              "      <td>3.486058e-01</td>\n",
              "      <td>0.000000e+00</td>\n",
              "      <td>0.000000</td>\n",
              "      <td>0.000000</td>\n",
              "      <td>0.0</td>\n",
              "      <td>1.000000e+00</td>\n",
              "    </tr>\n",
              "    <tr>\n",
              "      <th>CAE_TYPE_4</th>\n",
              "      <td>331921.0</td>\n",
              "      <td>5.924904e-02</td>\n",
              "      <td>2.360906e-01</td>\n",
              "      <td>0.000000e+00</td>\n",
              "      <td>0.000000</td>\n",
              "      <td>0.000000</td>\n",
              "      <td>0.0</td>\n",
              "      <td>1.000000e+00</td>\n",
              "    </tr>\n",
              "    <tr>\n",
              "      <th>CAE_TYPE_5</th>\n",
              "      <td>331921.0</td>\n",
              "      <td>5.344645e-03</td>\n",
              "      <td>7.291156e-02</td>\n",
              "      <td>0.000000e+00</td>\n",
              "      <td>0.000000</td>\n",
              "      <td>0.000000</td>\n",
              "      <td>0.0</td>\n",
              "      <td>1.000000e+00</td>\n",
              "    </tr>\n",
              "    <tr>\n",
              "      <th>CAE_TYPE_5A</th>\n",
              "      <td>331921.0</td>\n",
              "      <td>1.928170e-04</td>\n",
              "      <td>1.388454e-02</td>\n",
              "      <td>0.000000e+00</td>\n",
              "      <td>0.000000</td>\n",
              "      <td>0.000000</td>\n",
              "      <td>0.0</td>\n",
              "      <td>1.000000e+00</td>\n",
              "    </tr>\n",
              "    <tr>\n",
              "      <th>CAE_TYPE_6</th>\n",
              "      <td>331921.0</td>\n",
              "      <td>3.579195e-01</td>\n",
              "      <td>4.793890e-01</td>\n",
              "      <td>0.000000e+00</td>\n",
              "      <td>0.000000</td>\n",
              "      <td>0.000000</td>\n",
              "      <td>1.0</td>\n",
              "      <td>1.000000e+00</td>\n",
              "    </tr>\n",
              "    <tr>\n",
              "      <th>CAE_TYPE_8</th>\n",
              "      <td>331921.0</td>\n",
              "      <td>2.924401e-01</td>\n",
              "      <td>4.548840e-01</td>\n",
              "      <td>0.000000e+00</td>\n",
              "      <td>0.000000</td>\n",
              "      <td>0.000000</td>\n",
              "      <td>1.0</td>\n",
              "      <td>1.000000e+00</td>\n",
              "    </tr>\n",
              "    <tr>\n",
              "      <th>CAE_TYPE_N</th>\n",
              "      <td>331921.0</td>\n",
              "      <td>2.137858e-02</td>\n",
              "      <td>1.446430e-01</td>\n",
              "      <td>0.000000e+00</td>\n",
              "      <td>0.000000</td>\n",
              "      <td>0.000000</td>\n",
              "      <td>0.0</td>\n",
              "      <td>1.000000e+00</td>\n",
              "    </tr>\n",
              "    <tr>\n",
              "      <th>CAE_TYPE_R</th>\n",
              "      <td>331921.0</td>\n",
              "      <td>2.245715e-02</td>\n",
              "      <td>1.481651e-01</td>\n",
              "      <td>0.000000e+00</td>\n",
              "      <td>0.000000</td>\n",
              "      <td>0.000000</td>\n",
              "      <td>0.0</td>\n",
              "      <td>1.000000e+00</td>\n",
              "    </tr>\n",
              "    <tr>\n",
              "      <th>CAE_TYPE_Z</th>\n",
              "      <td>331921.0</td>\n",
              "      <td>9.619759e-03</td>\n",
              "      <td>9.760762e-02</td>\n",
              "      <td>0.000000e+00</td>\n",
              "      <td>0.000000</td>\n",
              "      <td>0.000000</td>\n",
              "      <td>0.0</td>\n",
              "      <td>1.000000e+00</td>\n",
              "    </tr>\n",
              "    <tr>\n",
              "      <th>RATIO</th>\n",
              "      <td>331921.0</td>\n",
              "      <td>7.139255e+08</td>\n",
              "      <td>4.113109e+11</td>\n",
              "      <td>4.503584e-10</td>\n",
              "      <td>0.728398</td>\n",
              "      <td>0.934916</td>\n",
              "      <td>1.0</td>\n",
              "      <td>2.369668e+14</td>\n",
              "    </tr>\n",
              "  </tbody>\n",
              "</table>\n",
              "<p>65 rows × 8 columns</p>\n",
              "</div>"
            ],
            "text/plain": [
              "                         count          mean           std           min  \\\n",
              "AWARD_VALUE_EURO      331921.0  3.012817e+14  1.735732e+17  1.000000e-02   \n",
              "AWARD_EST_VALUE_EURO  331921.0  5.401968e+09  3.000887e+12  1.000000e-02   \n",
              "NUMBER_OFFERS         331921.0  4.170417e+00  9.412019e+00  1.000000e+00   \n",
              "YEAR_2012             331921.0  5.181414e-01  4.996715e-01  0.000000e+00   \n",
              "SECTOR_15             331921.0  2.842544e-02  1.661852e-01  0.000000e+00   \n",
              "SECTOR_16             331921.0  9.460082e-04  3.074274e-02  0.000000e+00   \n",
              "SECTOR_18             331921.0  5.651947e-03  7.496679e-02  0.000000e+00   \n",
              "SECTOR_19             331921.0  7.471657e-04  2.732416e-02  0.000000e+00   \n",
              "SECTOR_22             331921.0  4.187743e-03  6.457723e-02  0.000000e+00   \n",
              "SECTOR_24             331921.0  6.260526e-03  7.887554e-02  0.000000e+00   \n",
              "SECTOR_30             331921.0  2.944074e-02  1.690387e-01  0.000000e+00   \n",
              "SECTOR_31             331921.0  8.188696e-03  9.012028e-02  0.000000e+00   \n",
              "SECTOR_32             331921.0  8.288117e-03  9.066117e-02  0.000000e+00   \n",
              "SECTOR_33             331921.0  4.174307e-01  4.931359e-01  0.000000e+00   \n",
              "SECTOR_34             331921.0  2.161358e-02  1.454183e-01  0.000000e+00   \n",
              "SECTOR_35             331921.0  3.169429e-03  5.620848e-02  0.000000e+00   \n",
              "SECTOR_37             331921.0  1.018315e-03  3.189484e-02  0.000000e+00   \n",
              "SECTOR_38             331921.0  2.784397e-02  1.645259e-01  0.000000e+00   \n",
              "SECTOR_39             331921.0  1.281028e-02  1.124554e-01  0.000000e+00   \n",
              "SECTOR_41             331921.0  2.349957e-04  1.532779e-02  0.000000e+00   \n",
              "SECTOR_42             331921.0  9.469121e-03  9.684774e-02  0.000000e+00   \n",
              "SECTOR_43             331921.0  5.055420e-03  7.092163e-02  0.000000e+00   \n",
              "SECTOR_44             331921.0  1.151479e-02  1.066875e-01  0.000000e+00   \n",
              "SECTOR_45             331921.0  5.248839e-02  2.230101e-01  0.000000e+00   \n",
              "SECTOR_48             331921.0  7.501785e-03  8.628749e-02  0.000000e+00   \n",
              "SECTOR_50             331921.0  2.185761e-02  1.462187e-01  0.000000e+00   \n",
              "SECTOR_51             331921.0  8.556253e-04  2.923860e-02  0.000000e+00   \n",
              "SECTOR_55             331921.0  7.628321e-03  8.700662e-02  0.000000e+00   \n",
              "SECTOR_60             331921.0  9.987316e-03  9.943641e-02  0.000000e+00   \n",
              "SECTOR_63             331921.0  3.036867e-03  5.502412e-02  0.000000e+00   \n",
              "...                        ...           ...           ...           ...   \n",
              "SECTOR_72             331921.0  1.302117e-02  1.133652e-01  0.000000e+00   \n",
              "SECTOR_73             331921.0  4.003965e-03  6.315018e-02  0.000000e+00   \n",
              "SECTOR_75             331921.0  1.560612e-03  3.947381e-02  0.000000e+00   \n",
              "SECTOR_76             331921.0  8.435742e-04  2.903214e-02  0.000000e+00   \n",
              "SECTOR_77             331921.0  4.391708e-02  2.049109e-01  0.000000e+00   \n",
              "SECTOR_79             331921.0  2.428891e-02  1.539449e-01  0.000000e+00   \n",
              "SECTOR_80             331921.0  4.899660e-02  2.158612e-01  0.000000e+00   \n",
              "SECTOR_85             331921.0  3.508064e-02  1.839839e-01  0.000000e+00   \n",
              "SECTOR_90             331921.0  3.608991e-02  1.865142e-01  0.000000e+00   \n",
              "SECTOR_91             331921.0  9.146755e-03  9.520041e-02  0.000000e+00   \n",
              "SECTOR_92             331921.0  4.510109e-03  6.700583e-02  0.000000e+00   \n",
              "SECTOR_93             331921.0  6.423215e-03  7.988727e-02  0.000000e+00   \n",
              "SECTOR_98             331921.0  3.808135e-03  6.159257e-02  0.000000e+00   \n",
              "SECTOR_na             331921.0  1.382859e-03  3.716115e-02  0.000000e+00   \n",
              "B_GPA_Y               331921.0  2.768882e-01  4.474614e-01  0.000000e+00   \n",
              "PROCEDURE_COD         331921.0  8.767146e-04  2.959643e-02  0.000000e+00   \n",
              "PROCEDURE_NIC         331921.0  2.067359e-02  1.422893e-01  0.000000e+00   \n",
              "PROCEDURE_NOC         331921.0  2.617490e-02  1.596554e-01  0.000000e+00   \n",
              "PROCEDURE_OPE         331921.0  8.900039e-01  3.128853e-01  0.000000e+00   \n",
              "PROCEDURE_RES         331921.0  3.145628e-02  1.745476e-01  0.000000e+00   \n",
              "CAE_TYPE_3            331921.0  1.415668e-01  3.486058e-01  0.000000e+00   \n",
              "CAE_TYPE_4            331921.0  5.924904e-02  2.360906e-01  0.000000e+00   \n",
              "CAE_TYPE_5            331921.0  5.344645e-03  7.291156e-02  0.000000e+00   \n",
              "CAE_TYPE_5A           331921.0  1.928170e-04  1.388454e-02  0.000000e+00   \n",
              "CAE_TYPE_6            331921.0  3.579195e-01  4.793890e-01  0.000000e+00   \n",
              "CAE_TYPE_8            331921.0  2.924401e-01  4.548840e-01  0.000000e+00   \n",
              "CAE_TYPE_N            331921.0  2.137858e-02  1.446430e-01  0.000000e+00   \n",
              "CAE_TYPE_R            331921.0  2.245715e-02  1.481651e-01  0.000000e+00   \n",
              "CAE_TYPE_Z            331921.0  9.619759e-03  9.760762e-02  0.000000e+00   \n",
              "RATIO                 331921.0  7.139255e+08  4.113109e+11  4.503584e-10   \n",
              "\n",
              "                              25%           50%       75%           max  \n",
              "AWARD_VALUE_EURO      3273.700000  25629.570000  190551.0  1.000000e+20  \n",
              "AWARD_EST_VALUE_EURO  4435.070000  34752.220000  255580.0  1.728608e+15  \n",
              "NUMBER_OFFERS            1.000000      2.000000       4.0  1.357000e+03  \n",
              "YEAR_2012                0.000000      1.000000       1.0  1.000000e+00  \n",
              "SECTOR_15                0.000000      0.000000       0.0  1.000000e+00  \n",
              "SECTOR_16                0.000000      0.000000       0.0  1.000000e+00  \n",
              "SECTOR_18                0.000000      0.000000       0.0  1.000000e+00  \n",
              "SECTOR_19                0.000000      0.000000       0.0  1.000000e+00  \n",
              "SECTOR_22                0.000000      0.000000       0.0  1.000000e+00  \n",
              "SECTOR_24                0.000000      0.000000       0.0  1.000000e+00  \n",
              "SECTOR_30                0.000000      0.000000       0.0  1.000000e+00  \n",
              "SECTOR_31                0.000000      0.000000       0.0  1.000000e+00  \n",
              "SECTOR_32                0.000000      0.000000       0.0  1.000000e+00  \n",
              "SECTOR_33                0.000000      0.000000       1.0  1.000000e+00  \n",
              "SECTOR_34                0.000000      0.000000       0.0  1.000000e+00  \n",
              "SECTOR_35                0.000000      0.000000       0.0  1.000000e+00  \n",
              "SECTOR_37                0.000000      0.000000       0.0  1.000000e+00  \n",
              "SECTOR_38                0.000000      0.000000       0.0  1.000000e+00  \n",
              "SECTOR_39                0.000000      0.000000       0.0  1.000000e+00  \n",
              "SECTOR_41                0.000000      0.000000       0.0  1.000000e+00  \n",
              "SECTOR_42                0.000000      0.000000       0.0  1.000000e+00  \n",
              "SECTOR_43                0.000000      0.000000       0.0  1.000000e+00  \n",
              "SECTOR_44                0.000000      0.000000       0.0  1.000000e+00  \n",
              "SECTOR_45                0.000000      0.000000       0.0  1.000000e+00  \n",
              "SECTOR_48                0.000000      0.000000       0.0  1.000000e+00  \n",
              "SECTOR_50                0.000000      0.000000       0.0  1.000000e+00  \n",
              "SECTOR_51                0.000000      0.000000       0.0  1.000000e+00  \n",
              "SECTOR_55                0.000000      0.000000       0.0  1.000000e+00  \n",
              "SECTOR_60                0.000000      0.000000       0.0  1.000000e+00  \n",
              "SECTOR_63                0.000000      0.000000       0.0  1.000000e+00  \n",
              "...                           ...           ...       ...           ...  \n",
              "SECTOR_72                0.000000      0.000000       0.0  1.000000e+00  \n",
              "SECTOR_73                0.000000      0.000000       0.0  1.000000e+00  \n",
              "SECTOR_75                0.000000      0.000000       0.0  1.000000e+00  \n",
              "SECTOR_76                0.000000      0.000000       0.0  1.000000e+00  \n",
              "SECTOR_77                0.000000      0.000000       0.0  1.000000e+00  \n",
              "SECTOR_79                0.000000      0.000000       0.0  1.000000e+00  \n",
              "SECTOR_80                0.000000      0.000000       0.0  1.000000e+00  \n",
              "SECTOR_85                0.000000      0.000000       0.0  1.000000e+00  \n",
              "SECTOR_90                0.000000      0.000000       0.0  1.000000e+00  \n",
              "SECTOR_91                0.000000      0.000000       0.0  1.000000e+00  \n",
              "SECTOR_92                0.000000      0.000000       0.0  1.000000e+00  \n",
              "SECTOR_93                0.000000      0.000000       0.0  1.000000e+00  \n",
              "SECTOR_98                0.000000      0.000000       0.0  1.000000e+00  \n",
              "SECTOR_na                0.000000      0.000000       0.0  1.000000e+00  \n",
              "B_GPA_Y                  0.000000      0.000000       1.0  1.000000e+00  \n",
              "PROCEDURE_COD            0.000000      0.000000       0.0  1.000000e+00  \n",
              "PROCEDURE_NIC            0.000000      0.000000       0.0  1.000000e+00  \n",
              "PROCEDURE_NOC            0.000000      0.000000       0.0  1.000000e+00  \n",
              "PROCEDURE_OPE            1.000000      1.000000       1.0  1.000000e+00  \n",
              "PROCEDURE_RES            0.000000      0.000000       0.0  1.000000e+00  \n",
              "CAE_TYPE_3               0.000000      0.000000       0.0  1.000000e+00  \n",
              "CAE_TYPE_4               0.000000      0.000000       0.0  1.000000e+00  \n",
              "CAE_TYPE_5               0.000000      0.000000       0.0  1.000000e+00  \n",
              "CAE_TYPE_5A              0.000000      0.000000       0.0  1.000000e+00  \n",
              "CAE_TYPE_6               0.000000      0.000000       1.0  1.000000e+00  \n",
              "CAE_TYPE_8               0.000000      0.000000       1.0  1.000000e+00  \n",
              "CAE_TYPE_N               0.000000      0.000000       0.0  1.000000e+00  \n",
              "CAE_TYPE_R               0.000000      0.000000       0.0  1.000000e+00  \n",
              "CAE_TYPE_Z               0.000000      0.000000       0.0  1.000000e+00  \n",
              "RATIO                    0.728398      0.934916       1.0  2.369668e+14  \n",
              "\n",
              "[65 rows x 8 columns]"
            ]
          },
          "metadata": {
            "tags": []
          },
          "execution_count": 98
        }
      ]
    },
    {
      "metadata": {
        "id": "8Rqcg7Q6clku",
        "colab_type": "code",
        "colab": {}
      },
      "cell_type": "code",
      "source": [
        "y = yX['RATIO']\n",
        "X=yX.drop(['RATIO'], axis=1)\n"
      ],
      "execution_count": 0,
      "outputs": []
    },
    {
      "metadata": {
        "id": "-1x2KL406OzT",
        "colab_type": "code",
        "colab": {}
      },
      "cell_type": "code",
      "source": [
        "X=X.drop(['AWARD_VALUE_EURO'], axis=1)"
      ],
      "execution_count": 0,
      "outputs": []
    },
    {
      "metadata": {
        "id": "x2FKI7wmbauS",
        "colab_type": "code",
        "outputId": "256cdee1-746a-4cf7-8e75-6dacbc827f93",
        "colab": {
          "base_uri": "https://localhost:8080/",
          "height": 1578
        }
      },
      "cell_type": "code",
      "source": [
        "from sklearn import datasets, linear_model\n",
        "from sklearn.metrics import mean_squared_error, r2_score\n",
        "import statsmodels.api as sm\n",
        "model = sm.OLS(y, X).fit()\n",
        "predictions = model.predict(X)\n",
        "\n",
        "# Print out the statistics\n",
        "model.summary()\n",
        "# Fit and make the predictions by the model\n"
      ],
      "execution_count": 103,
      "outputs": [
        {
          "output_type": "execute_result",
          "data": {
            "text/html": [
              "<table class=\"simpletable\">\n",
              "<caption>OLS Regression Results</caption>\n",
              "<tr>\n",
              "  <th>Dep. Variable:</th>          <td>RATIO</td>      <th>  R-squared:         </th>  <td>   0.001</td>  \n",
              "</tr>\n",
              "<tr>\n",
              "  <th>Model:</th>                   <td>OLS</td>       <th>  Adj. R-squared:    </th>  <td>   0.000</td>  \n",
              "</tr>\n",
              "<tr>\n",
              "  <th>Method:</th>             <td>Least Squares</td>  <th>  F-statistic:       </th>  <td>   3.988</td>  \n",
              "</tr>\n",
              "<tr>\n",
              "  <th>Date:</th>             <td>Wed, 03 Apr 2019</td> <th>  Prob (F-statistic):</th>  <td>1.01e-19</td>  \n",
              "</tr>\n",
              "<tr>\n",
              "  <th>Time:</th>                 <td>11:15:24</td>     <th>  Log-Likelihood:    </th> <td>-9.3473e+06</td>\n",
              "</tr>\n",
              "<tr>\n",
              "  <th>No. Observations:</th>      <td>331921</td>      <th>  AIC:               </th>  <td>1.869e+07</td> \n",
              "</tr>\n",
              "<tr>\n",
              "  <th>Df Residuals:</th>          <td>331870</td>      <th>  BIC:               </th>  <td>1.870e+07</td> \n",
              "</tr>\n",
              "<tr>\n",
              "  <th>Df Model:</th>              <td>    50</td>      <th>                     </th>      <td> </td>     \n",
              "</tr>\n",
              "<tr>\n",
              "  <th>Covariance Type:</th>      <td>nonrobust</td>    <th>                     </th>      <td> </td>     \n",
              "</tr>\n",
              "</table>\n",
              "<table class=\"simpletable\">\n",
              "<tr>\n",
              "            <td></td>              <th>coef</th>     <th>std err</th>      <th>t</th>      <th>P>|t|</th>  <th>[0.025</th>    <th>0.975]</th>  \n",
              "</tr>\n",
              "<tr>\n",
              "  <th>AWARD_EST_VALUE_EURO</th> <td> 3.488e-07</td> <td>    0.000</td> <td>    0.001</td> <td> 0.999</td> <td>   -0.000</td> <td>    0.000</td>\n",
              "</tr>\n",
              "<tr>\n",
              "  <th>NUMBER_OFFERS</th>        <td> 1.879e+06</td> <td> 7.85e+07</td> <td>    0.024</td> <td> 0.981</td> <td>-1.52e+08</td> <td> 1.56e+08</td>\n",
              "</tr>\n",
              "<tr>\n",
              "  <th>YEAR_2012</th>            <td>   4.5e+08</td> <td> 1.44e+09</td> <td>    0.313</td> <td> 0.754</td> <td>-2.37e+09</td> <td> 3.27e+09</td>\n",
              "</tr>\n",
              "<tr>\n",
              "  <th>SECTOR_15</th>            <td>-5.207e+09</td> <td>  6.4e+09</td> <td>   -0.814</td> <td> 0.416</td> <td>-1.77e+10</td> <td> 7.33e+09</td>\n",
              "</tr>\n",
              "<tr>\n",
              "  <th>SECTOR_16</th>            <td>-4.542e+09</td> <td> 2.47e+10</td> <td>   -0.184</td> <td> 0.854</td> <td>-5.29e+10</td> <td> 4.39e+10</td>\n",
              "</tr>\n",
              "<tr>\n",
              "  <th>SECTOR_18</th>            <td>-4.187e+09</td> <td> 1.06e+10</td> <td>   -0.396</td> <td> 0.692</td> <td>-2.49e+10</td> <td> 1.65e+10</td>\n",
              "</tr>\n",
              "<tr>\n",
              "  <th>SECTOR_19</th>            <td>-2.668e+09</td> <td> 2.54e+10</td> <td>   -0.105</td> <td> 0.916</td> <td>-5.24e+10</td> <td> 4.71e+10</td>\n",
              "</tr>\n",
              "<tr>\n",
              "  <th>SECTOR_22</th>            <td>-4.016e+09</td> <td> 1.21e+10</td> <td>   -0.331</td> <td> 0.740</td> <td>-2.78e+10</td> <td> 1.97e+10</td>\n",
              "</tr>\n",
              "<tr>\n",
              "  <th>SECTOR_24</th>            <td> -3.97e+09</td> <td> 1.03e+10</td> <td>   -0.385</td> <td> 0.700</td> <td>-2.42e+10</td> <td> 1.62e+10</td>\n",
              "</tr>\n",
              "<tr>\n",
              "  <th>SECTOR_30</th>            <td>-3.833e+09</td> <td> 6.44e+09</td> <td>   -0.595</td> <td> 0.552</td> <td>-1.65e+10</td> <td>  8.8e+09</td>\n",
              "</tr>\n",
              "<tr>\n",
              "  <th>SECTOR_31</th>            <td>-3.519e+09</td> <td> 9.46e+09</td> <td>   -0.372</td> <td> 0.710</td> <td>-2.21e+10</td> <td>  1.5e+10</td>\n",
              "</tr>\n",
              "<tr>\n",
              "  <th>SECTOR_32</th>            <td>-3.813e+09</td> <td> 9.23e+09</td> <td>   -0.413</td> <td> 0.680</td> <td>-2.19e+10</td> <td> 1.43e+10</td>\n",
              "</tr>\n",
              "<tr>\n",
              "  <th>SECTOR_33</th>            <td>-4.078e+09</td> <td> 5.04e+09</td> <td>   -0.810</td> <td> 0.418</td> <td> -1.4e+10</td> <td>  5.8e+09</td>\n",
              "</tr>\n",
              "<tr>\n",
              "  <th>SECTOR_34</th>            <td>-3.794e+09</td> <td> 6.84e+09</td> <td>   -0.555</td> <td> 0.579</td> <td>-1.72e+10</td> <td> 9.61e+09</td>\n",
              "</tr>\n",
              "<tr>\n",
              "  <th>SECTOR_35</th>            <td> -4.21e+09</td> <td> 1.35e+10</td> <td>   -0.312</td> <td> 0.755</td> <td>-3.06e+10</td> <td> 2.22e+10</td>\n",
              "</tr>\n",
              "<tr>\n",
              "  <th>SECTOR_37</th>            <td>-5.334e+09</td> <td> 2.33e+10</td> <td>   -0.229</td> <td> 0.819</td> <td> -5.1e+10</td> <td> 4.03e+10</td>\n",
              "</tr>\n",
              "<tr>\n",
              "  <th>SECTOR_38</th>            <td> -4.87e+09</td> <td> 6.56e+09</td> <td>   -0.743</td> <td> 0.458</td> <td>-1.77e+10</td> <td> 7.98e+09</td>\n",
              "</tr>\n",
              "<tr>\n",
              "  <th>SECTOR_39</th>            <td>-3.965e+09</td> <td> 7.93e+09</td> <td>   -0.500</td> <td> 0.617</td> <td>-1.95e+10</td> <td> 1.16e+10</td>\n",
              "</tr>\n",
              "<tr>\n",
              "  <th>SECTOR_41</th>            <td>-2.129e+09</td> <td> 4.65e+10</td> <td>   -0.046</td> <td> 0.963</td> <td>-9.32e+10</td> <td>  8.9e+10</td>\n",
              "</tr>\n",
              "<tr>\n",
              "  <th>SECTOR_42</th>            <td>-3.288e+09</td> <td> 8.86e+09</td> <td>   -0.371</td> <td> 0.711</td> <td>-2.07e+10</td> <td> 1.41e+10</td>\n",
              "</tr>\n",
              "<tr>\n",
              "  <th>SECTOR_43</th>            <td> -2.37e+09</td> <td> 1.14e+10</td> <td>   -0.209</td> <td> 0.835</td> <td>-2.46e+10</td> <td> 1.99e+10</td>\n",
              "</tr>\n",
              "<tr>\n",
              "  <th>SECTOR_44</th>            <td>-2.969e+09</td> <td> 8.36e+09</td> <td>   -0.355</td> <td> 0.722</td> <td>-1.93e+10</td> <td> 1.34e+10</td>\n",
              "</tr>\n",
              "<tr>\n",
              "  <th>SECTOR_45</th>            <td>-4.271e+09</td> <td> 5.74e+09</td> <td>   -0.744</td> <td> 0.457</td> <td>-1.55e+10</td> <td> 6.98e+09</td>\n",
              "</tr>\n",
              "<tr>\n",
              "  <th>SECTOR_48</th>            <td>-3.453e+09</td> <td> 9.54e+09</td> <td>   -0.362</td> <td> 0.717</td> <td>-2.21e+10</td> <td> 1.52e+10</td>\n",
              "</tr>\n",
              "<tr>\n",
              "  <th>SECTOR_50</th>            <td>-3.494e+09</td> <td> 6.83e+09</td> <td>   -0.512</td> <td> 0.609</td> <td>-1.69e+10</td> <td> 9.88e+09</td>\n",
              "</tr>\n",
              "<tr>\n",
              "  <th>SECTOR_51</th>            <td>-3.282e+09</td> <td> 2.49e+10</td> <td>   -0.132</td> <td> 0.895</td> <td> -5.2e+10</td> <td> 4.55e+10</td>\n",
              "</tr>\n",
              "<tr>\n",
              "  <th>SECTOR_55</th>            <td>-3.835e+09</td> <td> 9.34e+09</td> <td>   -0.411</td> <td> 0.681</td> <td>-2.21e+10</td> <td> 1.45e+10</td>\n",
              "</tr>\n",
              "<tr>\n",
              "  <th>SECTOR_60</th>            <td>   6.6e+10</td> <td> 8.62e+09</td> <td>    7.657</td> <td> 0.000</td> <td> 4.91e+10</td> <td> 8.29e+10</td>\n",
              "</tr>\n",
              "<tr>\n",
              "  <th>SECTOR_63</th>            <td> -2.34e+09</td> <td> 1.37e+10</td> <td>   -0.170</td> <td> 0.865</td> <td>-2.92e+10</td> <td> 2.46e+10</td>\n",
              "</tr>\n",
              "<tr>\n",
              "  <th>SECTOR_64</th>            <td>-3.521e+09</td> <td> 9.84e+09</td> <td>   -0.358</td> <td> 0.721</td> <td>-2.28e+10</td> <td> 1.58e+10</td>\n",
              "</tr>\n",
              "<tr>\n",
              "  <th>SECTOR_65</th>            <td>-2.443e+09</td> <td> 1.32e+10</td> <td>   -0.185</td> <td> 0.853</td> <td>-2.84e+10</td> <td> 2.35e+10</td>\n",
              "</tr>\n",
              "<tr>\n",
              "  <th>SECTOR_66</th>            <td>-3.045e+09</td> <td> 7.19e+09</td> <td>   -0.423</td> <td> 0.672</td> <td>-1.71e+10</td> <td> 1.11e+10</td>\n",
              "</tr>\n",
              "<tr>\n",
              "  <th>SECTOR_70</th>            <td>-3.166e+09</td> <td> 1.95e+10</td> <td>   -0.162</td> <td> 0.871</td> <td>-4.14e+10</td> <td> 3.51e+10</td>\n",
              "</tr>\n",
              "<tr>\n",
              "  <th>SECTOR_71</th>            <td>-3.752e+09</td> <td> 6.35e+09</td> <td>   -0.591</td> <td> 0.554</td> <td>-1.62e+10</td> <td> 8.69e+09</td>\n",
              "</tr>\n",
              "<tr>\n",
              "  <th>SECTOR_72</th>            <td>-3.825e+09</td> <td>  7.9e+09</td> <td>   -0.484</td> <td> 0.628</td> <td>-1.93e+10</td> <td> 1.17e+10</td>\n",
              "</tr>\n",
              "<tr>\n",
              "  <th>SECTOR_73</th>            <td>-3.594e+09</td> <td> 1.27e+10</td> <td>   -0.283</td> <td> 0.777</td> <td>-2.85e+10</td> <td> 2.13e+10</td>\n",
              "</tr>\n",
              "<tr>\n",
              "  <th>SECTOR_75</th>            <td>-3.099e+09</td> <td> 1.87e+10</td> <td>   -0.165</td> <td> 0.869</td> <td>-3.98e+10</td> <td> 3.36e+10</td>\n",
              "</tr>\n",
              "<tr>\n",
              "  <th>SECTOR_76</th>            <td>-5.928e+09</td> <td> 2.54e+10</td> <td>   -0.234</td> <td> 0.815</td> <td>-5.56e+10</td> <td> 4.38e+10</td>\n",
              "</tr>\n",
              "<tr>\n",
              "  <th>SECTOR_77</th>            <td>-3.602e+09</td> <td> 5.67e+09</td> <td>   -0.635</td> <td> 0.525</td> <td>-1.47e+10</td> <td> 7.51e+09</td>\n",
              "</tr>\n",
              "<tr>\n",
              "  <th>SECTOR_79</th>            <td>-3.805e+09</td> <td> 6.56e+09</td> <td>   -0.580</td> <td> 0.562</td> <td>-1.67e+10</td> <td> 9.06e+09</td>\n",
              "</tr>\n",
              "<tr>\n",
              "  <th>SECTOR_80</th>            <td>-2.506e+09</td> <td> 5.33e+09</td> <td>   -0.470</td> <td> 0.638</td> <td> -1.3e+10</td> <td> 7.95e+09</td>\n",
              "</tr>\n",
              "<tr>\n",
              "  <th>SECTOR_85</th>            <td>-2.567e+09</td> <td> 6.01e+09</td> <td>   -0.427</td> <td> 0.670</td> <td>-1.44e+10</td> <td> 9.22e+09</td>\n",
              "</tr>\n",
              "<tr>\n",
              "  <th>SECTOR_90</th>            <td>-3.534e+09</td> <td> 6.13e+09</td> <td>   -0.577</td> <td> 0.564</td> <td>-1.55e+10</td> <td> 8.47e+09</td>\n",
              "</tr>\n",
              "<tr>\n",
              "  <th>SECTOR_91</th>            <td>-4.108e+09</td> <td> 8.89e+09</td> <td>   -0.462</td> <td> 0.644</td> <td>-2.15e+10</td> <td> 1.33e+10</td>\n",
              "</tr>\n",
              "<tr>\n",
              "  <th>SECTOR_92</th>            <td>-2.773e+09</td> <td> 1.17e+10</td> <td>   -0.237</td> <td> 0.813</td> <td>-2.57e+10</td> <td> 2.02e+10</td>\n",
              "</tr>\n",
              "<tr>\n",
              "  <th>SECTOR_93</th>            <td>-3.808e+09</td> <td> 9.97e+09</td> <td>   -0.382</td> <td> 0.702</td> <td>-2.33e+10</td> <td> 1.57e+10</td>\n",
              "</tr>\n",
              "<tr>\n",
              "  <th>SECTOR_98</th>            <td>-3.227e+09</td> <td> 1.24e+10</td> <td>   -0.261</td> <td> 0.794</td> <td>-2.75e+10</td> <td>  2.1e+10</td>\n",
              "</tr>\n",
              "<tr>\n",
              "  <th>SECTOR_na</th>            <td>-2.114e+09</td> <td> 1.99e+10</td> <td>   -0.106</td> <td> 0.915</td> <td> -4.1e+10</td> <td> 3.68e+10</td>\n",
              "</tr>\n",
              "<tr>\n",
              "  <th>B_GPA_Y</th>              <td> 2.843e+09</td> <td>  1.7e+09</td> <td>    1.670</td> <td> 0.095</td> <td>-4.93e+08</td> <td> 6.18e+09</td>\n",
              "</tr>\n",
              "<tr>\n",
              "  <th>PROCEDURE_COD</th>        <td>-1.604e+08</td> <td> 2.43e+10</td> <td>   -0.007</td> <td> 0.995</td> <td>-4.77e+10</td> <td> 4.74e+10</td>\n",
              "</tr>\n",
              "<tr>\n",
              "  <th>PROCEDURE_NIC</th>        <td>  1.27e+09</td> <td> 6.64e+09</td> <td>    0.191</td> <td> 0.848</td> <td>-1.17e+10</td> <td> 1.43e+10</td>\n",
              "</tr>\n",
              "<tr>\n",
              "  <th>PROCEDURE_NOC</th>        <td> 1.602e+09</td> <td> 6.14e+09</td> <td>    0.261</td> <td> 0.794</td> <td>-1.04e+10</td> <td> 1.36e+10</td>\n",
              "</tr>\n",
              "<tr>\n",
              "  <th>PROCEDURE_OPE</th>        <td> 2.135e+09</td> <td> 4.26e+09</td> <td>    0.502</td> <td> 0.616</td> <td>-6.21e+09</td> <td> 1.05e+10</td>\n",
              "</tr>\n",
              "<tr>\n",
              "  <th>PROCEDURE_RES</th>        <td> 8.488e+08</td> <td> 5.78e+09</td> <td>    0.147</td> <td> 0.883</td> <td>-1.05e+10</td> <td> 1.22e+10</td>\n",
              "</tr>\n",
              "<tr>\n",
              "  <th>CAE_TYPE_3</th>           <td> -1.75e+09</td> <td> 3.08e+09</td> <td>   -0.568</td> <td> 0.570</td> <td>-7.79e+09</td> <td> 4.29e+09</td>\n",
              "</tr>\n",
              "<tr>\n",
              "  <th>CAE_TYPE_4</th>           <td>-8.524e+08</td> <td> 4.11e+09</td> <td>   -0.207</td> <td> 0.836</td> <td>-8.91e+09</td> <td> 7.21e+09</td>\n",
              "</tr>\n",
              "<tr>\n",
              "  <th>CAE_TYPE_5</th>           <td>-1.688e+09</td> <td> 1.03e+10</td> <td>   -0.164</td> <td> 0.870</td> <td>-2.19e+10</td> <td> 1.85e+10</td>\n",
              "</tr>\n",
              "<tr>\n",
              "  <th>CAE_TYPE_5A</th>          <td> 1.797e+09</td> <td> 5.15e+10</td> <td>    0.035</td> <td> 0.972</td> <td>-9.92e+10</td> <td> 1.03e+11</td>\n",
              "</tr>\n",
              "<tr>\n",
              "  <th>CAE_TYPE_6</th>           <td>  6.19e+08</td> <td> 2.73e+09</td> <td>    0.226</td> <td> 0.821</td> <td>-4.74e+09</td> <td> 5.98e+09</td>\n",
              "</tr>\n",
              "<tr>\n",
              "  <th>CAE_TYPE_8</th>           <td>  8.15e+08</td> <td> 2.79e+09</td> <td>    0.292</td> <td> 0.770</td> <td>-4.66e+09</td> <td> 6.29e+09</td>\n",
              "</tr>\n",
              "<tr>\n",
              "  <th>CAE_TYPE_N</th>           <td>-6.341e+08</td> <td> 5.62e+09</td> <td>   -0.113</td> <td> 0.910</td> <td>-1.16e+10</td> <td> 1.04e+10</td>\n",
              "</tr>\n",
              "<tr>\n",
              "  <th>CAE_TYPE_R</th>           <td>-3.005e+08</td> <td> 5.37e+09</td> <td>   -0.056</td> <td> 0.955</td> <td>-1.08e+10</td> <td> 1.02e+10</td>\n",
              "</tr>\n",
              "<tr>\n",
              "  <th>CAE_TYPE_Z</th>           <td> 7.146e+10</td> <td>  7.6e+09</td> <td>    9.398</td> <td> 0.000</td> <td> 5.66e+10</td> <td> 8.64e+10</td>\n",
              "</tr>\n",
              "</table>\n",
              "<table class=\"simpletable\">\n",
              "<tr>\n",
              "  <th>Omnibus:</th>       <td>2153758.356</td> <th>  Durbin-Watson:     </th>       <td>   1.999</td>      \n",
              "</tr>\n",
              "<tr>\n",
              "  <th>Prob(Omnibus):</th>   <td> 0.000</td>    <th>  Jarque-Bera (JB):  </th> <td>1519998884378967.500</td>\n",
              "</tr>\n",
              "<tr>\n",
              "  <th>Skew:</th>            <td>575.605</td>   <th>  Prob(JB):          </th>       <td>    0.00</td>      \n",
              "</tr>\n",
              "<tr>\n",
              "  <th>Kurtosis:</th>      <td>331521.121</td>  <th>  Cond. No.          </th>       <td>2.17e+14</td>      \n",
              "</tr>\n",
              "</table>"
            ],
            "text/plain": [
              "<class 'statsmodels.iolib.summary.Summary'>\n",
              "\"\"\"\n",
              "                            OLS Regression Results                            \n",
              "==============================================================================\n",
              "Dep. Variable:                  RATIO   R-squared:                       0.001\n",
              "Model:                            OLS   Adj. R-squared:                  0.000\n",
              "Method:                 Least Squares   F-statistic:                     3.988\n",
              "Date:                Wed, 03 Apr 2019   Prob (F-statistic):           1.01e-19\n",
              "Time:                        11:15:24   Log-Likelihood:            -9.3473e+06\n",
              "No. Observations:              331921   AIC:                         1.869e+07\n",
              "Df Residuals:                  331870   BIC:                         1.870e+07\n",
              "Df Model:                          50                                         \n",
              "Covariance Type:            nonrobust                                         \n",
              "========================================================================================\n",
              "                           coef    std err          t      P>|t|      [0.025      0.975]\n",
              "----------------------------------------------------------------------------------------\n",
              "AWARD_EST_VALUE_EURO  3.488e-07      0.000      0.001      0.999      -0.000       0.000\n",
              "NUMBER_OFFERS         1.879e+06   7.85e+07      0.024      0.981   -1.52e+08    1.56e+08\n",
              "YEAR_2012               4.5e+08   1.44e+09      0.313      0.754   -2.37e+09    3.27e+09\n",
              "SECTOR_15            -5.207e+09    6.4e+09     -0.814      0.416   -1.77e+10    7.33e+09\n",
              "SECTOR_16            -4.542e+09   2.47e+10     -0.184      0.854   -5.29e+10    4.39e+10\n",
              "SECTOR_18            -4.187e+09   1.06e+10     -0.396      0.692   -2.49e+10    1.65e+10\n",
              "SECTOR_19            -2.668e+09   2.54e+10     -0.105      0.916   -5.24e+10    4.71e+10\n",
              "SECTOR_22            -4.016e+09   1.21e+10     -0.331      0.740   -2.78e+10    1.97e+10\n",
              "SECTOR_24             -3.97e+09   1.03e+10     -0.385      0.700   -2.42e+10    1.62e+10\n",
              "SECTOR_30            -3.833e+09   6.44e+09     -0.595      0.552   -1.65e+10     8.8e+09\n",
              "SECTOR_31            -3.519e+09   9.46e+09     -0.372      0.710   -2.21e+10     1.5e+10\n",
              "SECTOR_32            -3.813e+09   9.23e+09     -0.413      0.680   -2.19e+10    1.43e+10\n",
              "SECTOR_33            -4.078e+09   5.04e+09     -0.810      0.418    -1.4e+10     5.8e+09\n",
              "SECTOR_34            -3.794e+09   6.84e+09     -0.555      0.579   -1.72e+10    9.61e+09\n",
              "SECTOR_35             -4.21e+09   1.35e+10     -0.312      0.755   -3.06e+10    2.22e+10\n",
              "SECTOR_37            -5.334e+09   2.33e+10     -0.229      0.819    -5.1e+10    4.03e+10\n",
              "SECTOR_38             -4.87e+09   6.56e+09     -0.743      0.458   -1.77e+10    7.98e+09\n",
              "SECTOR_39            -3.965e+09   7.93e+09     -0.500      0.617   -1.95e+10    1.16e+10\n",
              "SECTOR_41            -2.129e+09   4.65e+10     -0.046      0.963   -9.32e+10     8.9e+10\n",
              "SECTOR_42            -3.288e+09   8.86e+09     -0.371      0.711   -2.07e+10    1.41e+10\n",
              "SECTOR_43             -2.37e+09   1.14e+10     -0.209      0.835   -2.46e+10    1.99e+10\n",
              "SECTOR_44            -2.969e+09   8.36e+09     -0.355      0.722   -1.93e+10    1.34e+10\n",
              "SECTOR_45            -4.271e+09   5.74e+09     -0.744      0.457   -1.55e+10    6.98e+09\n",
              "SECTOR_48            -3.453e+09   9.54e+09     -0.362      0.717   -2.21e+10    1.52e+10\n",
              "SECTOR_50            -3.494e+09   6.83e+09     -0.512      0.609   -1.69e+10    9.88e+09\n",
              "SECTOR_51            -3.282e+09   2.49e+10     -0.132      0.895    -5.2e+10    4.55e+10\n",
              "SECTOR_55            -3.835e+09   9.34e+09     -0.411      0.681   -2.21e+10    1.45e+10\n",
              "SECTOR_60               6.6e+10   8.62e+09      7.657      0.000    4.91e+10    8.29e+10\n",
              "SECTOR_63             -2.34e+09   1.37e+10     -0.170      0.865   -2.92e+10    2.46e+10\n",
              "SECTOR_64            -3.521e+09   9.84e+09     -0.358      0.721   -2.28e+10    1.58e+10\n",
              "SECTOR_65            -2.443e+09   1.32e+10     -0.185      0.853   -2.84e+10    2.35e+10\n",
              "SECTOR_66            -3.045e+09   7.19e+09     -0.423      0.672   -1.71e+10    1.11e+10\n",
              "SECTOR_70            -3.166e+09   1.95e+10     -0.162      0.871   -4.14e+10    3.51e+10\n",
              "SECTOR_71            -3.752e+09   6.35e+09     -0.591      0.554   -1.62e+10    8.69e+09\n",
              "SECTOR_72            -3.825e+09    7.9e+09     -0.484      0.628   -1.93e+10    1.17e+10\n",
              "SECTOR_73            -3.594e+09   1.27e+10     -0.283      0.777   -2.85e+10    2.13e+10\n",
              "SECTOR_75            -3.099e+09   1.87e+10     -0.165      0.869   -3.98e+10    3.36e+10\n",
              "SECTOR_76            -5.928e+09   2.54e+10     -0.234      0.815   -5.56e+10    4.38e+10\n",
              "SECTOR_77            -3.602e+09   5.67e+09     -0.635      0.525   -1.47e+10    7.51e+09\n",
              "SECTOR_79            -3.805e+09   6.56e+09     -0.580      0.562   -1.67e+10    9.06e+09\n",
              "SECTOR_80            -2.506e+09   5.33e+09     -0.470      0.638    -1.3e+10    7.95e+09\n",
              "SECTOR_85            -2.567e+09   6.01e+09     -0.427      0.670   -1.44e+10    9.22e+09\n",
              "SECTOR_90            -3.534e+09   6.13e+09     -0.577      0.564   -1.55e+10    8.47e+09\n",
              "SECTOR_91            -4.108e+09   8.89e+09     -0.462      0.644   -2.15e+10    1.33e+10\n",
              "SECTOR_92            -2.773e+09   1.17e+10     -0.237      0.813   -2.57e+10    2.02e+10\n",
              "SECTOR_93            -3.808e+09   9.97e+09     -0.382      0.702   -2.33e+10    1.57e+10\n",
              "SECTOR_98            -3.227e+09   1.24e+10     -0.261      0.794   -2.75e+10     2.1e+10\n",
              "SECTOR_na            -2.114e+09   1.99e+10     -0.106      0.915    -4.1e+10    3.68e+10\n",
              "B_GPA_Y               2.843e+09    1.7e+09      1.670      0.095   -4.93e+08    6.18e+09\n",
              "PROCEDURE_COD        -1.604e+08   2.43e+10     -0.007      0.995   -4.77e+10    4.74e+10\n",
              "PROCEDURE_NIC          1.27e+09   6.64e+09      0.191      0.848   -1.17e+10    1.43e+10\n",
              "PROCEDURE_NOC         1.602e+09   6.14e+09      0.261      0.794   -1.04e+10    1.36e+10\n",
              "PROCEDURE_OPE         2.135e+09   4.26e+09      0.502      0.616   -6.21e+09    1.05e+10\n",
              "PROCEDURE_RES         8.488e+08   5.78e+09      0.147      0.883   -1.05e+10    1.22e+10\n",
              "CAE_TYPE_3            -1.75e+09   3.08e+09     -0.568      0.570   -7.79e+09    4.29e+09\n",
              "CAE_TYPE_4           -8.524e+08   4.11e+09     -0.207      0.836   -8.91e+09    7.21e+09\n",
              "CAE_TYPE_5           -1.688e+09   1.03e+10     -0.164      0.870   -2.19e+10    1.85e+10\n",
              "CAE_TYPE_5A           1.797e+09   5.15e+10      0.035      0.972   -9.92e+10    1.03e+11\n",
              "CAE_TYPE_6             6.19e+08   2.73e+09      0.226      0.821   -4.74e+09    5.98e+09\n",
              "CAE_TYPE_8             8.15e+08   2.79e+09      0.292      0.770   -4.66e+09    6.29e+09\n",
              "CAE_TYPE_N           -6.341e+08   5.62e+09     -0.113      0.910   -1.16e+10    1.04e+10\n",
              "CAE_TYPE_R           -3.005e+08   5.37e+09     -0.056      0.955   -1.08e+10    1.02e+10\n",
              "CAE_TYPE_Z            7.146e+10    7.6e+09      9.398      0.000    5.66e+10    8.64e+10\n",
              "================================================================================\n",
              "Omnibus:                  2153758.356   Durbin-Watson:                     1.999\n",
              "Prob(Omnibus):                  0.000   Jarque-Bera (JB):   1519998884378967.500\n",
              "Skew:                         575.605   Prob(JB):                           0.00\n",
              "Kurtosis:                  331521.121   Cond. No.                       2.17e+14\n",
              "================================================================================\n",
              "\n",
              "Warnings:\n",
              "[1] Standard Errors assume that the covariance matrix of the errors is correctly specified.\n",
              "[2] The condition number is large, 2.17e+14. This might indicate that there are\n",
              "strong multicollinearity or other numerical problems.\n",
              "\"\"\""
            ]
          },
          "metadata": {
            "tags": []
          },
          "execution_count": 103
        }
      ]
    }
  ]
}