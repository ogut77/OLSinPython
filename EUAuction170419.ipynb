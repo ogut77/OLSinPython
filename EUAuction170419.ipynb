{
  "nbformat": 4,
  "nbformat_minor": 0,
  "metadata": {
    "colab": {
      "name": "EUAuction170419.ipynb",
      "version": "0.3.2",
      "provenance": [],
      "collapsed_sections": [],
      "include_colab_link": true
    },
    "kernelspec": {
      "name": "python3",
      "display_name": "Python 3"
    }
  },
  "cells": [
    {
      "cell_type": "markdown",
      "metadata": {
        "id": "view-in-github",
        "colab_type": "text"
      },
      "source": [
        "<a href=\"https://colab.research.google.com/github/ogut77/OLSinPython/blob/master/EUAuction170419.ipynb\" target=\"_parent\"><img src=\"https://colab.research.google.com/assets/colab-badge.svg\" alt=\"Open In Colab\"/></a>"
      ]
    },
    {
      "metadata": {
        "id": "5Oy-FBOFe7K1",
        "colab_type": "code",
        "outputId": "7256e373-563f-4d6c-846a-96e9992b2de2",
        "colab": {
          "base_uri": "https://localhost:8080/",
          "height": 53
        }
      },
      "cell_type": "code",
      "source": [
        "import pandas as pd\n",
        "from google.colab import drive\n",
        "\n",
        "# This will prompt for authorization.\n",
        "drive.mount('/content/drive')\n",
        "   "
      ],
      "execution_count": 39,
      "outputs": [
        {
          "output_type": "stream",
          "text": [
            "Drive already mounted at /content/drive; to attempt to forcibly remount, call drive.mount(\"/content/drive\", force_remount=True).\n"
          ],
          "name": "stdout"
        }
      ]
    },
    {
      "metadata": {
        "id": "MSyUmxzm4vZW",
        "colab_type": "code",
        "outputId": "23abce97-a8fe-45cc-f532-7728198f44fe",
        "colab": {
          "base_uri": "https://localhost:8080/",
          "height": 84
        }
      },
      "cell_type": "code",
      "source": [
        "!ls '/content/drive/My Drive/'\n"
      ],
      "execution_count": 40,
      "outputs": [
        {
          "output_type": "stream",
          "text": [
            " 2009.csv   2013.csv   2017.csv\t\t  dt3.csv      ml-latest-smalla\n",
            " 2010.csv   2014.csv   Bulldozer\t  dta.csv      Santander\n",
            " 2011.csv   2015.csv  'Colab Notebooks'   dt.csv       shakespeare.txt\n",
            " 2012.csv   2016.csv   dt2.csv\t\t  ml-latesta\n"
          ],
          "name": "stdout"
        }
      ]
    },
    {
      "metadata": {
        "id": "2h6Qc1znLFkF",
        "colab_type": "code",
        "outputId": "8bdd08af-a2b4-4f3e-eb09-eb7aa1efc48b",
        "colab": {
          "base_uri": "https://localhost:8080/",
          "height": 271
        }
      },
      "cell_type": "code",
      "source": [
        "\n",
        "d2010=pd.read_csv('/content/drive/My Drive/2010.csv')\n",
        "d2011=pd.read_csv('/content/drive/My Drive/2011.csv')\n",
        "d2012=pd.read_csv('/content/drive/My Drive/2012.csv')\n",
        "d2013=pd.read_csv('/content/drive/My Drive/2013.csv')\n",
        "d2014=pd.read_csv('/content/drive/My Drive/2014.csv')\n",
        "d2015=pd.read_csv('/content/drive/My Drive/2015.csv')\n",
        "d2016=pd.read_csv('/content/drive/My Drive/2016.csv')\n",
        "d2017=pd.read_csv('/content/drive/My Drive/2017.csv')\n",
        "\n",
        "\n",
        "\n"
      ],
      "execution_count": 41,
      "outputs": [
        {
          "output_type": "stream",
          "text": [
            "/usr/local/lib/python3.6/dist-packages/IPython/core/interactiveshell.py:2718: DtypeWarning: Columns (27) have mixed types. Specify dtype option on import or set low_memory=False.\n",
            "  interactivity=interactivity, compiler=compiler, result=result)\n",
            "/usr/local/lib/python3.6/dist-packages/IPython/core/interactiveshell.py:2718: DtypeWarning: Columns (10,27) have mixed types. Specify dtype option on import or set low_memory=False.\n",
            "  interactivity=interactivity, compiler=compiler, result=result)\n",
            "/usr/local/lib/python3.6/dist-packages/IPython/core/interactiveshell.py:2718: DtypeWarning: Columns (18,28,39) have mixed types. Specify dtype option on import or set low_memory=False.\n",
            "  interactivity=interactivity, compiler=compiler, result=result)\n",
            "/usr/local/lib/python3.6/dist-packages/IPython/core/interactiveshell.py:2718: DtypeWarning: Columns (27,48) have mixed types. Specify dtype option on import or set low_memory=False.\n",
            "  interactivity=interactivity, compiler=compiler, result=result)\n",
            "/usr/local/lib/python3.6/dist-packages/IPython/core/interactiveshell.py:2718: DtypeWarning: Columns (8,15,21,22,27,30,42,49,51,53,58) have mixed types. Specify dtype option on import or set low_memory=False.\n",
            "  interactivity=interactivity, compiler=compiler, result=result)\n",
            "/usr/local/lib/python3.6/dist-packages/IPython/core/interactiveshell.py:2718: DtypeWarning: Columns (16) have mixed types. Specify dtype option on import or set low_memory=False.\n",
            "  interactivity=interactivity, compiler=compiler, result=result)\n",
            "/usr/local/lib/python3.6/dist-packages/IPython/core/interactiveshell.py:2718: DtypeWarning: Columns (16,18) have mixed types. Specify dtype option on import or set low_memory=False.\n",
            "  interactivity=interactivity, compiler=compiler, result=result)\n"
          ],
          "name": "stderr"
        }
      ]
    },
    {
      "metadata": {
        "id": "d7o194foA53x",
        "colab_type": "code",
        "outputId": "b92d39d2-c43f-441a-d110-0d01fb6e9b72",
        "colab": {
          "base_uri": "https://localhost:8080/",
          "height": 117
        }
      },
      "cell_type": "code",
      "source": [
        "print(len(d2013))\n",
        "print(len(d2014))\n",
        "print(len(d2015))\n",
        "print(len(d2016))\n",
        "print(len(d2017))\n",
        "frames = [d2010,d2011,d2012, d2013, d2014,d2015, d2016,d2017]\n",
        "\n",
        "dt = pd.concat(frames)\n",
        "print(len(dt))"
      ],
      "execution_count": 0,
      "outputs": [
        {
          "output_type": "stream",
          "text": [
            "500221\n",
            "522344\n",
            "542597\n",
            "538181\n",
            "708840\n",
            "4231957\n"
          ],
          "name": "stdout"
        }
      ]
    },
    {
      "metadata": {
        "id": "D4Vy9ahm6rlE",
        "colab_type": "code",
        "outputId": "13dfcac9-266d-4cad-ae66-ee9683644e3c",
        "colab": {
          "base_uri": "https://localhost:8080/",
          "height": 370
        }
      },
      "cell_type": "code",
      "source": [
        "dt.columns"
      ],
      "execution_count": 0,
      "outputs": [
        {
          "output_type": "execute_result",
          "data": {
            "text/plain": [
              "Index(['ID_NOTICE_CAN', 'TED_NOTICE_URL', 'YEAR', 'ID_TYPE', 'DT_DISPATCH',\n",
              "       'XSD_VERSION', 'CANCELLED', 'CORRECTIONS', 'B_MULTIPLE_CAE', 'CAE_NAME',\n",
              "       'CAE_NATIONALID', 'CAE_ADDRESS', 'CAE_TOWN', 'CAE_POSTAL_CODE',\n",
              "       'ISO_COUNTRY_CODE', 'B_MULTIPLE_COUNTRY', 'ISO_COUNTRY_CODE_ALL',\n",
              "       'CAE_TYPE', 'EU_INST_CODE', 'MAIN_ACTIVITY', 'B_ON_BEHALF',\n",
              "       'B_INVOLVES_JOINT_PROCUREMENT', 'B_AWARDED_BY_CENTRAL_BODY',\n",
              "       'TYPE_OF_CONTRACT', 'TAL_LOCATION_NUTS', 'B_FRA_AGREEMENT',\n",
              "       'FRA_ESTIMATED', 'B_FRA_CONTRACT', 'B_DYN_PURCH_SYST', 'CPV', 'ID_LOT',\n",
              "       'ADDITIONAL_CPVS', 'B_GPA', 'LOTS_NUMBER', 'VALUE_EURO',\n",
              "       'VALUE_EURO_FIN_1', 'VALUE_EURO_FIN_2', 'B_EU_FUNDS', 'TOP_TYPE',\n",
              "       'B_ACCELERATED', 'OUT_OF_DIRECTIVES', 'CRIT_CODE', 'CRIT_PRICE_WEIGHT',\n",
              "       'CRIT_CRITERIA', 'CRIT_WEIGHTS', 'B_ELECTRONIC_AUCTION',\n",
              "       'NUMBER_AWARDS', 'ID_AWARD', 'ID_LOT_AWARDED', 'INFO_ON_NON_AWARD',\n",
              "       'INFO_UNPUBLISHED', 'B_AWARDED_TO_A_GROUP', 'WIN_NAME',\n",
              "       'WIN_NATIONALID', 'WIN_ADDRESS', 'WIN_TOWN', 'WIN_POSTAL_CODE',\n",
              "       'WIN_COUNTRY_CODE', 'B_CONTRACTOR_SME', 'CONTRACT_NUMBER', 'TITLE',\n",
              "       'NUMBER_OFFERS', 'NUMBER_TENDERS_SME', 'NUMBER_TENDERS_OTHER_EU',\n",
              "       'NUMBER_TENDERS_NON_EU', 'NUMBER_OFFERS_ELECTR', 'AWARD_EST_VALUE_EURO',\n",
              "       'AWARD_VALUE_EURO', 'AWARD_VALUE_EURO_FIN_1', 'B_SUBCONTRACTED',\n",
              "       'DT_AWARD'],\n",
              "      dtype='object')"
            ]
          },
          "metadata": {
            "tags": []
          },
          "execution_count": 5
        }
      ]
    },
    {
      "metadata": {
        "id": "RpPGU8k96__T",
        "colab_type": "code",
        "colab": {}
      },
      "cell_type": "code",
      "source": [
        "dt.head().T"
      ],
      "execution_count": 0,
      "outputs": []
    },
    {
      "metadata": {
        "id": "F_3pyH6dLkzr",
        "colab_type": "code",
        "outputId": "c65c7d10-a848-4d5b-ae35-cc09f757ca78",
        "colab": {
          "base_uri": "https://localhost:8080/",
          "height": 351
        }
      },
      "cell_type": "code",
      "source": [
        "\n",
        "dt['WIN_COUNTRY_CODE'].unique()\n",
        "# new data frame with split value columns \n",
        "new = dt[\"WIN_COUNTRY_CODE\"].str.split(\"---\", n = 1, expand = True) \n",
        "dt[\"WIN_COUNTRY_CODE\"]= new[0]\n",
        "dt['WIN_COUNTRY_CODE'].unique()\n"
      ],
      "execution_count": 0,
      "outputs": [
        {
          "output_type": "execute_result",
          "data": {
            "text/plain": [
              "array(['FR', 'HU', 'DE', nan, 'SE', 'PL', 'ES', 'NL', 'FI', 'DK', 'AT',\n",
              "       'RO', 'PT', 'IT', 'IE', 'UK', 'GR', 'SI', 'LT', 'CZ', 'LV', 'BE',\n",
              "       'BG', 'CH', 'HR', 'CA', 'CY', 'NO', 'EE', 'SK', 'US', 'LU', 'MT',\n",
              "       'ZW', 'KR', 'LI', 'JP', 'NZ', 'RS', 'IN', 'ZA', 'AE', 'DZ', 'MA',\n",
              "       'IS', 'MK', 'BH', 'SM', 'BY', 'UA', 'BR', 'AL', 'AW', 'BJ', 'RU',\n",
              "       'EG', 'TR', 'CN', 'AN', 'MU', 'UZ', 'IL', 'AF', 'SG', 'UG', 'TH',\n",
              "       'LK', 'AD', 'ME', 'HK', 'NE', 'UM', 'AU', 'PK', 'VN', 'PA', 'VG',\n",
              "       'MZ', 'ZM', 'VA', 'SA', 'KE', 'MN', 'UY', 'TZ', 'TW', 'CR', 'MY',\n",
              "       'LA', 'SV', 'SZ', 'OM', 'GI', 'GE', 'VI', 'SL', 'NG', 'IQ', 'TN',\n",
              "       'MC', 'BA', 'TV', 'PE', 'VU', 'IR', 'AM', 'TC', 'SN', 'BF', 'BD',\n",
              "       'TK', 'GL', 'CI', 'KG', 'KZ', 'FK', 'MD', 'JO', 'TD', 'GA', 'DJ',\n",
              "       'AR', 'CL', 'CD', 'SB', 'GS', 'SR', 'IO', 'ID', 'MR', 'NC', 'AI',\n",
              "       'FM', 'RE', 'LB', 'GP', 'MQ', 'BI', 'AO', 'JE', 'TJ', 'AG', 'ET',\n",
              "       'GM', 'BW', 'BB', 'GF', 'KP', 'CX', 'AZ', 'SH', 'KN', 'FO', 'CU',\n",
              "       'CF', 'ML', 'PF', 'YT', 'MH', 'CO', 'DO', 'LY', 'EC', 'NR', 'AX',\n",
              "       'MX', 'FJ', 'PM', 'BS', 'SD', 'TL', '1A', 'JM', 'GH', 'SC', 'PR',\n",
              "       'KH', 'BM', 'LS', 'CV', 'PH', 'MM', 'QA', 'ER', 'GT', 'TM', 'WF',\n",
              "       'BQ', 'GU', 'SY', 'NP', 'IM', 'BO', 'LR', 'VE', 'NF', 'PS', 'DM',\n",
              "       'MF', 'TO', 'SO', 'RW', 'MW', 'CM', 'KW', 'BT', 'PG', 'WS', 'CW',\n",
              "       'BZ', 'TT', 'NA', 'HT', 'GG', 'AS'], dtype=object)"
            ]
          },
          "metadata": {
            "tags": []
          },
          "execution_count": 4
        }
      ]
    },
    {
      "metadata": {
        "id": "EyP4v9nvnAu5",
        "colab_type": "code",
        "outputId": "3cc8ea81-95eb-4c76-f4e4-95987732e34f",
        "colab": {
          "base_uri": "https://localhost:8080/",
          "height": 370
        }
      },
      "cell_type": "code",
      "source": [
        "dt.columns\n"
      ],
      "execution_count": 0,
      "outputs": [
        {
          "output_type": "execute_result",
          "data": {
            "text/plain": [
              "Index(['ID_NOTICE_CAN', 'TED_NOTICE_URL', 'YEAR', 'ID_TYPE', 'DT_DISPATCH',\n",
              "       'XSD_VERSION', 'CANCELLED', 'CORRECTIONS', 'B_MULTIPLE_CAE', 'CAE_NAME',\n",
              "       'CAE_NATIONALID', 'CAE_ADDRESS', 'CAE_TOWN', 'CAE_POSTAL_CODE',\n",
              "       'ISO_COUNTRY_CODE', 'B_MULTIPLE_COUNTRY', 'ISO_COUNTRY_CODE_ALL',\n",
              "       'CAE_TYPE', 'EU_INST_CODE', 'MAIN_ACTIVITY', 'B_ON_BEHALF',\n",
              "       'B_INVOLVES_JOINT_PROCUREMENT', 'B_AWARDED_BY_CENTRAL_BODY',\n",
              "       'TYPE_OF_CONTRACT', 'TAL_LOCATION_NUTS', 'B_FRA_AGREEMENT',\n",
              "       'FRA_ESTIMATED', 'B_FRA_CONTRACT', 'B_DYN_PURCH_SYST', 'CPV', 'ID_LOT',\n",
              "       'ADDITIONAL_CPVS', 'B_GPA', 'LOTS_NUMBER', 'VALUE_EURO',\n",
              "       'VALUE_EURO_FIN_1', 'VALUE_EURO_FIN_2', 'B_EU_FUNDS', 'TOP_TYPE',\n",
              "       'B_ACCELERATED', 'OUT_OF_DIRECTIVES', 'CRIT_CODE', 'CRIT_PRICE_WEIGHT',\n",
              "       'CRIT_CRITERIA', 'CRIT_WEIGHTS', 'B_ELECTRONIC_AUCTION',\n",
              "       'NUMBER_AWARDS', 'ID_AWARD', 'ID_LOT_AWARDED', 'INFO_ON_NON_AWARD',\n",
              "       'INFO_UNPUBLISHED', 'B_AWARDED_TO_A_GROUP', 'WIN_NAME',\n",
              "       'WIN_NATIONALID', 'WIN_ADDRESS', 'WIN_TOWN', 'WIN_POSTAL_CODE',\n",
              "       'WIN_COUNTRY_CODE', 'B_CONTRACTOR_SME', 'CONTRACT_NUMBER', 'TITLE',\n",
              "       'NUMBER_OFFERS', 'NUMBER_TENDERS_SME', 'NUMBER_TENDERS_OTHER_EU',\n",
              "       'NUMBER_TENDERS_NON_EU', 'NUMBER_OFFERS_ELECTR', 'AWARD_EST_VALUE_EURO',\n",
              "       'AWARD_VALUE_EURO', 'AWARD_VALUE_EURO_FIN_1', 'B_SUBCONTRACTED',\n",
              "       'DT_AWARD'],\n",
              "      dtype='object')"
            ]
          },
          "metadata": {
            "tags": []
          },
          "execution_count": 7
        }
      ]
    },
    {
      "metadata": {
        "id": "eJeoyeNYSMD6",
        "colab_type": "code",
        "colab": {}
      },
      "cell_type": "code",
      "source": [
        "dt=dt[['ID_NOTICE_CAN','YEAR','CANCELLED','CAE_TOWN','ISO_COUNTRY_CODE' ,'CAE_TYPE', 'TYPE_OF_CONTRACT'  ,'CPV', 'B_GPA',\n",
        "              'VALUE_EURO', 'VALUE_EURO_FIN_1', 'VALUE_EURO_FIN_2', 'B_EU_FUNDS', 'TOP_TYPE', 'B_ACCELERATED' ,'CRIT_CODE',\n",
        "              'B_ELECTRONIC_AUCTION', 'ID_AWARD', 'WIN_TOWN', 'WIN_COUNTRY_CODE' ,'NUMBER_OFFERS','AWARD_EST_VALUE_EURO', 'AWARD_VALUE_EURO',\n",
        "              'AWARD_VALUE_EURO_FIN_1', 'B_SUBCONTRACTED', 'DT_AWARD']]\n",
        "dt = dt.drop(columns=['CANCELLED','B_EU_FUNDS','B_ACCELERATED','CRIT_CODE'])"
      ],
      "execution_count": 0,
      "outputs": []
    },
    {
      "metadata": {
        "id": "1UT3h1CEXJBJ",
        "colab_type": "code",
        "outputId": "83c96d59-324a-497b-f555-53526cd09bb2",
        "colab": {
          "base_uri": "https://localhost:8080/",
          "height": 50
        }
      },
      "cell_type": "code",
      "source": [
        "dt.rename(columns={'TOP_TYPE': 'PROCEDURE'}, inplace=True)\n",
        "print(dt['PROCEDURE'].unique())\n",
        "import numpy as np\n",
        "\n",
        "dt['PROCEDURE']=np.where(dt['PROCEDURE']==\"NOP\",\"NOC\",dt['PROCEDURE'])\n",
        "dt['PROCEDURE']=np.where(dt['PROCEDURE']==\"NIP\",\"NIC\",dt['PROCEDURE'])\n",
        "print(dt['PROCEDURE'].unique())"
      ],
      "execution_count": 0,
      "outputs": [
        {
          "output_type": "stream",
          "text": [
            "['OPE' 'NIC' 'RES' 'NOC' 'AWP' 'COD' nan 'NOP' 'NIP' 'INP']\n",
            "['OPE' 'NIC' 'RES' 'NOC' 'AWP' 'COD' nan 'INP']\n"
          ],
          "name": "stdout"
        }
      ]
    },
    {
      "metadata": {
        "id": "Qr46PFSieePo",
        "colab_type": "code",
        "outputId": "e40a6405-3aea-4f24-b9c7-1f2e0357808e",
        "colab": {
          "base_uri": "https://localhost:8080/",
          "height": 100
        }
      },
      "cell_type": "code",
      "source": [
        "new=dt['CPV'].astype(str)\n",
        "# make the new columns using string indexing\n",
        "dt['CPV'] = new.str[0:2]\n",
        "dt['CPV'].unique()"
      ],
      "execution_count": 0,
      "outputs": [
        {
          "output_type": "execute_result",
          "data": {
            "text/plain": [
              "array(['15', '33', '34', '16', '22', '48', '30', '91', '31', '38', '50',\n",
              "       '77', '66', '79', '71', '90', '72', '70', '60', '80', '55', '45',\n",
              "       '75', '63', '92', '73', '32', '39', '51', '85', '93', '64', '65',\n",
              "       '42', '43', '41', '44', '18', '98', 'na', '37', '19', '24', '76',\n",
              "       '14', '35'], dtype=object)"
            ]
          },
          "metadata": {
            "tags": []
          },
          "execution_count": 7
        }
      ]
    },
    {
      "metadata": {
        "id": "DWUmKsy-X4Vt",
        "colab_type": "code",
        "outputId": "7f797a33-8b0d-421b-8b12-0014dbb50a10",
        "colab": {
          "base_uri": "https://localhost:8080/",
          "height": 251
        }
      },
      "cell_type": "code",
      "source": [
        "dt.rename(columns={'CPV': 'SECTOR'}, inplace=True)\n",
        "print(dt.columns)\n",
        "dt.rename(columns={'ISO_COUNTRY_CODE': 'AUTHORITY_COUNTRY', 'WIN_COUNTRY_CODE': 'WINNER_COUNTRY'}, inplace=True)\n",
        "dt['FOREIGN_WINNER']=np.where((dt['AUTHORITY_COUNTRY']!=dt['WINNER_COUNTRY']),1,0)\n",
        "print(dt.columns)"
      ],
      "execution_count": 0,
      "outputs": [
        {
          "output_type": "stream",
          "text": [
            "Index(['ID_NOTICE_CAN', 'YEAR', 'CAE_TOWN', 'ISO_COUNTRY_CODE', 'CAE_TYPE',\n",
            "       'TYPE_OF_CONTRACT', 'SECTOR', 'B_GPA', 'VALUE_EURO', 'VALUE_EURO_FIN_1',\n",
            "       'VALUE_EURO_FIN_2', 'PROCEDURE', 'B_ELECTRONIC_AUCTION', 'ID_AWARD',\n",
            "       'WIN_TOWN', 'WIN_COUNTRY_CODE', 'NUMBER_OFFERS', 'AWARD_EST_VALUE_EURO',\n",
            "       'AWARD_VALUE_EURO', 'AWARD_VALUE_EURO_FIN_1', 'B_SUBCONTRACTED',\n",
            "       'DT_AWARD'],\n",
            "      dtype='object')\n",
            "Index(['ID_NOTICE_CAN', 'YEAR', 'CAE_TOWN', 'AUTHORITY_COUNTRY', 'CAE_TYPE',\n",
            "       'TYPE_OF_CONTRACT', 'SECTOR', 'B_GPA', 'VALUE_EURO', 'VALUE_EURO_FIN_1',\n",
            "       'VALUE_EURO_FIN_2', 'PROCEDURE', 'B_ELECTRONIC_AUCTION', 'ID_AWARD',\n",
            "       'WIN_TOWN', 'WINNER_COUNTRY', 'NUMBER_OFFERS', 'AWARD_EST_VALUE_EURO',\n",
            "       'AWARD_VALUE_EURO', 'AWARD_VALUE_EURO_FIN_1', 'B_SUBCONTRACTED',\n",
            "       'DT_AWARD', 'FOREIGN_WINNER'],\n",
            "      dtype='object')\n"
          ],
          "name": "stdout"
        }
      ]
    },
    {
      "metadata": {
        "id": "sow1pRukvfIn",
        "colab_type": "code",
        "outputId": "25f1d953-3b0e-4922-fc59-730587f47e5e",
        "colab": {
          "base_uri": "https://localhost:8080/",
          "height": 117
        }
      },
      "cell_type": "code",
      "source": [
        "dt['EU_COUNTRY']=np.where(dt['WINNER_COUNTRY']=='AT',1,0)\n",
        "dt['EU_COUNTRY']=np.where(dt['WINNER_COUNTRY']=='BE',1,dt['EU_COUNTRY'])\n",
        "dt['EU_COUNTRY']=np.where(((dt['WINNER_COUNTRY']=='BG')&(dt['YEAR']>2007)) ,1,dt['EU_COUNTRY'])\n",
        "dt['EU_COUNTRY']=np.where(dt['WINNER_COUNTRY']=='HR',1,dt['EU_COUNTRY'])\n",
        "dt['EU_COUNTRY']=np.where(dt['WINNER_COUNTRY']=='CY',1,dt['EU_COUNTRY'])\n",
        "dt['EU_COUNTRY']=np.where(((dt['WINNER_COUNTRY']=='CZ')&(dt['YEAR']>2007)) ,1,dt['EU_COUNTRY'])\n",
        "dt['EU_COUNTRY']=np.where(dt['WINNER_COUNTRY']=='DK',1,dt['EU_COUNTRY'])\n",
        "dt['EU_COUNTRY']=np.where(dt['WINNER_COUNTRY']=='EE',1,dt['EU_COUNTRY'])\n",
        "dt['EU_COUNTRY']=np.where(dt['WINNER_COUNTRY']=='FI',1,dt['EU_COUNTRY'])\n",
        "dt['EU_COUNTRY']=np.where(dt['WINNER_COUNTRY']=='FR',1,dt['EU_COUNTRY'])\n",
        "dt['EU_COUNTRY']=np.where(dt['WINNER_COUNTRY']=='DE',1,dt['EU_COUNTRY'])\n",
        "dt['EU_COUNTRY']=np.where(dt['WINNER_COUNTRY']=='GR',1,dt['EU_COUNTRY'])\n",
        "dt['EU_COUNTRY']=np.where(dt['WINNER_COUNTRY']=='HU',1,dt['EU_COUNTRY'])\n",
        "dt['EU_COUNTRY']=np.where(dt['WINNER_COUNTRY']=='IE',1,dt['EU_COUNTRY'])\n",
        "dt['EU_COUNTRY']=np.where(dt['WINNER_COUNTRY']=='IT',1,dt['EU_COUNTRY'])\n",
        "dt['EU_COUNTRY']=np.where(dt['WINNER_COUNTRY']=='LV',1,dt['EU_COUNTRY'])\n",
        "dt['EU_COUNTRY']=np.where(dt['WINNER_COUNTRY']=='LT',1,dt['EU_COUNTRY'])\n",
        "dt['EU_COUNTRY']=np.where(dt['WINNER_COUNTRY']=='LU',1,dt['EU_COUNTRY'])\n",
        "dt['EU_COUNTRY']=np.where(dt['WINNER_COUNTRY']=='MT',1,dt['EU_COUNTRY'])\n",
        "dt['EU_COUNTRY']=np.where(dt['WINNER_COUNTRY']=='NL',1,dt['EU_COUNTRY'])\n",
        "dt['EU_COUNTRY']=np.where(dt['WINNER_COUNTRY']=='PL',1,dt['EU_COUNTRY'])\n",
        "dt['EU_COUNTRY']=np.where(dt['WINNER_COUNTRY']=='PT',1,dt['EU_COUNTRY'])\n",
        "dt['EU_COUNTRY']=np.where(((dt['WINNER_COUNTRY']=='RO')&(dt['YEAR']>2007)) ,1,dt['EU_COUNTRY'])\n",
        "dt['EU_COUNTRY']=np.where(dt['WINNER_COUNTRY']=='SK',1,dt['EU_COUNTRY'])\n",
        "dt['EU_COUNTRY']=np.where(dt['WINNER_COUNTRY']=='SI',1,dt['EU_COUNTRY'])\n",
        "dt['EU_COUNTRY']=np.where(dt['WINNER_COUNTRY']=='ES',1,dt['EU_COUNTRY'])\n",
        "dt['EU_COUNTRY']=np.where(dt['WINNER_COUNTRY']=='SE',1,dt['EU_COUNTRY'])\n",
        "dt['EU_COUNTRY']=np.where(dt['WINNER_COUNTRY']=='GB',1,dt['EU_COUNTRY'])\n",
        "dt['EU_COUNTRY'].head()"
      ],
      "execution_count": 0,
      "outputs": [
        {
          "output_type": "execute_result",
          "data": {
            "text/plain": [
              "0    1\n",
              "1    1\n",
              "2    1\n",
              "3    1\n",
              "4    1\n",
              "Name: EU_COUNTRY, dtype: int64"
            ]
          },
          "metadata": {
            "tags": []
          },
          "execution_count": 9
        }
      ]
    },
    {
      "metadata": {
        "id": "_efqPpGQRVoD",
        "colab_type": "code",
        "outputId": "be283e14-98c0-4c39-a90a-04c4c2ea2faa",
        "colab": {
          "base_uri": "https://localhost:8080/",
          "height": 84
        }
      },
      "cell_type": "code",
      "source": [
        "dt['TYPE_OF_CONTRACT'].value_counts()"
      ],
      "execution_count": 0,
      "outputs": [
        {
          "output_type": "execute_result",
          "data": {
            "text/plain": [
              "U    2315165\n",
              "S    1493309\n",
              "W     423483\n",
              "Name: TYPE_OF_CONTRACT, dtype: int64"
            ]
          },
          "metadata": {
            "tags": []
          },
          "execution_count": 10
        }
      ]
    },
    {
      "metadata": {
        "id": "nkU8cwNwvqIy",
        "colab_type": "code",
        "colab": {}
      },
      "cell_type": "code",
      "source": [
        "#g eu_foreign_winner = foreign_winner*eu_country\n",
        "#g non_eu_winner = (foreign_winner ==1 & eu_country ==0\n",
        "dt['EU_FOREIGN_WINNER']=dt['FOREIGN_WINNER']*dt['EU_COUNTRY']\n",
        "dt['NON_WINNER']=np.where((dt['FOREIGN_WINNER']==1)&(dt['EU_COUNTRY']==0),1,0)"
      ],
      "execution_count": 0,
      "outputs": []
    },
    {
      "metadata": {
        "id": "oNv8u6-WANAd",
        "colab_type": "code",
        "outputId": "19e2e759-90cc-4dd4-ce15-6411b41d160b",
        "colab": {
          "base_uri": "https://localhost:8080/",
          "height": 151
        }
      },
      "cell_type": "code",
      "source": [
        "dt.columns"
      ],
      "execution_count": 0,
      "outputs": [
        {
          "output_type": "execute_result",
          "data": {
            "text/plain": [
              "Index(['ID_NOTICE_CAN', 'YEAR', 'CAE_TOWN', 'AUTHORITY_COUNTRY', 'CAE_TYPE',\n",
              "       'TYPE_OF_CONTRACT', 'SECTOR', 'B_GPA', 'VALUE_EURO', 'VALUE_EURO_FIN_1',\n",
              "       'VALUE_EURO_FIN_2', 'PROCEDURE', 'B_ELECTRONIC_AUCTION', 'ID_AWARD',\n",
              "       'WIN_TOWN', 'WINNER_COUNTRY', 'NUMBER_OFFERS', 'AWARD_EST_VALUE_EURO',\n",
              "       'AWARD_VALUE_EURO', 'AWARD_VALUE_EURO_FIN_1', 'B_SUBCONTRACTED',\n",
              "       'DT_AWARD', 'FOREIGN_WINNER', 'EU_COUNTRY', 'EU_FOREIGN_WINNER',\n",
              "       'NON_WINNER'],\n",
              "      dtype='object')"
            ]
          },
          "metadata": {
            "tags": []
          },
          "execution_count": 17
        }
      ]
    },
    {
      "metadata": {
        "id": "9Y9ZC3u1AYIH",
        "colab_type": "code",
        "colab": {}
      },
      "cell_type": "code",
      "source": [
        "dt = dt.drop(columns=['EU_COUNTRY', 'ID_NOTICE_CAN','CAE_TOWN',  'VALUE_EURO',\n",
        "       'VALUE_EURO_FIN_1', 'VALUE_EURO_FIN_2',  'ID_AWARD', 'WIN_TOWN', 'WINNER_COUNTRY','AWARD_VALUE_EURO_FIN_1', 'B_SUBCONTRACTED',\n",
        "                      'DT_AWARD','FOREIGN_WINNER', 'EU_FOREIGN_WINNER', 'NON_WINNER'])"
      ],
      "execution_count": 0,
      "outputs": []
    },
    {
      "metadata": {
        "id": "0oWbB6B6CcS8",
        "colab_type": "code",
        "colab": {}
      },
      "cell_type": "code",
      "source": [
        ""
      ],
      "execution_count": 0,
      "outputs": []
    },
    {
      "metadata": {
        "id": "SGhGNMimCD94",
        "colab_type": "code",
        "outputId": "91309a83-783d-406a-b2a3-2edcb18ce2a2",
        "colab": {
          "base_uri": "https://localhost:8080/",
          "height": 268
        }
      },
      "cell_type": "code",
      "source": [
        "dt.dtypes"
      ],
      "execution_count": 0,
      "outputs": [
        {
          "output_type": "execute_result",
          "data": {
            "text/plain": [
              "YEAR                         int64\n",
              "AUTHORITY_COUNTRY            int64\n",
              "CAE_TYPE                     int64\n",
              "TYPE_OF_CONTRACT             int64\n",
              "SECTOR                       int64\n",
              "B_GPA                        int64\n",
              "PROCEDURE                    int64\n",
              "B_ELECTRONIC_AUCTION         int64\n",
              "NUMBER_OFFERS              float64\n",
              "AWARD_EST_VALUE_EURO       float64\n",
              "AWARD_VALUE_EURO           float64\n",
              "LNRATIO                    float64\n",
              "LN_AWARD_VALUE_EURO        float64\n",
              "LN_AWARD_EST_VALUE_EURO    float64\n",
              "dtype: object"
            ]
          },
          "metadata": {
            "tags": []
          },
          "execution_count": 68
        }
      ]
    },
    {
      "metadata": {
        "id": "WFQK-yFzCc88",
        "colab_type": "code",
        "colab": {}
      },
      "cell_type": "code",
      "source": [
        "dt.to_csv('/content/drive/My Drive/dta.csv',index=False)"
      ],
      "execution_count": 0,
      "outputs": []
    },
    {
      "metadata": {
        "id": "kY012XUPNRcz",
        "colab_type": "code",
        "outputId": "ced60a82-104b-4552-8c30-007b5a31038c",
        "colab": {
          "base_uri": "https://localhost:8080/",
          "height": 70
        }
      },
      "cell_type": "code",
      "source": [
        "dt=pd.read_csv('/content/drive/My Drive/dta.csv')"
      ],
      "execution_count": 2,
      "outputs": [
        {
          "output_type": "stream",
          "text": [
            "/usr/local/lib/python3.6/dist-packages/IPython/core/interactiveshell.py:2718: DtypeWarning: Columns (4) have mixed types. Specify dtype option on import or set low_memory=False.\n",
            "  interactivity=interactivity, compiler=compiler, result=result)\n"
          ],
          "name": "stderr"
        }
      ]
    },
    {
      "metadata": {
        "id": "rQqGXreC0R9h",
        "colab_type": "code",
        "colab": {}
      },
      "cell_type": "code",
      "source": [
        "dt2=dt"
      ],
      "execution_count": 0,
      "outputs": []
    },
    {
      "metadata": {
        "id": "G2RPlS6cDTno",
        "colab_type": "code",
        "colab": {}
      },
      "cell_type": "code",
      "source": [
        " dt=pd.get_dummies(dt)"
      ],
      "execution_count": 0,
      "outputs": []
    },
    {
      "metadata": {
        "id": "9dUrBuApFT1K",
        "colab_type": "code",
        "colab": {}
      },
      "cell_type": "code",
      "source": [
        "pd.set_option('display.max_rows', 2000)"
      ],
      "execution_count": 0,
      "outputs": []
    },
    {
      "metadata": {
        "id": "QydOQq-ZDvTQ",
        "colab_type": "code",
        "outputId": "be03be45-8b20-4a0f-a56d-54bbb6404055",
        "colab": {
          "base_uri": "https://localhost:8080/",
          "height": 217
        }
      },
      "cell_type": "code",
      "source": [
        "dt.dtypes"
      ],
      "execution_count": 3,
      "outputs": [
        {
          "output_type": "execute_result",
          "data": {
            "text/plain": [
              "YEAR                      int64\n",
              "AUTHORITY_COUNTRY        object\n",
              "CAE_TYPE                 object\n",
              "TYPE_OF_CONTRACT         object\n",
              "SECTOR                   object\n",
              "B_GPA                    object\n",
              "PROCEDURE                object\n",
              "B_ELECTRONIC_AUCTION     object\n",
              "NUMBER_OFFERS           float64\n",
              "AWARD_EST_VALUE_EURO    float64\n",
              "AWARD_VALUE_EURO        float64\n",
              "dtype: object"
            ]
          },
          "metadata": {
            "tags": []
          },
          "execution_count": 3
        }
      ]
    },
    {
      "metadata": {
        "id": "vL2kPolFERq2",
        "colab_type": "code",
        "colab": {}
      },
      "cell_type": "code",
      "source": [
        "dt=dt.drop(columns=['B_ELECTRONIC_AUCTION_N','PROCEDURE_RES','SECTOR_na','B_GPA_N','TYPE_OF_CONTRACT_W','CAE_TYPE_Z','AUTHORITY_COUNTRY_UK'] )"
      ],
      "execution_count": 0,
      "outputs": []
    },
    {
      "metadata": {
        "id": "qBCKCDd619e0",
        "colab_type": "code",
        "outputId": "a29526e3-74eb-4250-a523-56f14ff7aecd",
        "colab": {
          "base_uri": "https://localhost:8080/",
          "height": 117
        }
      },
      "cell_type": "code",
      "source": [
        "print(dt.columns)\n",
        "len(dt)"
      ],
      "execution_count": 0,
      "outputs": [
        {
          "output_type": "stream",
          "text": [
            "Index(['YEAR', 'AUTHORITY_COUNTRY', 'CAE_TYPE', 'TYPE_OF_CONTRACT', 'SECTOR',\n",
            "       'B_GPA', 'PROCEDURE', 'B_ELECTRONIC_AUCTION', 'NUMBER_OFFERS',\n",
            "       'AWARD_EST_VALUE_EURO', 'AWARD_VALUE_EURO', 'LNRATIO',\n",
            "       'LN_AWARD_VALUE_EURO', 'LN_AWARD_EST_VALUE_EURO'],\n",
            "      dtype='object')\n"
          ],
          "name": "stdout"
        },
        {
          "output_type": "execute_result",
          "data": {
            "text/plain": [
              "1399422"
            ]
          },
          "metadata": {
            "tags": []
          },
          "execution_count": 69
        }
      ]
    },
    {
      "metadata": {
        "id": "56FUVhiTaq4t",
        "colab_type": "code",
        "outputId": "2904028c-9dc2-44a6-a14b-cb5b695a631b",
        "colab": {
          "base_uri": "https://localhost:8080/",
          "height": 33
        }
      },
      "cell_type": "code",
      "source": [
        "dt = dt[pd.notnull(dt['AWARD_VALUE_EURO'])]\n",
        "dt = dt[dt['AWARD_VALUE_EURO'] != 0]\n",
        "len(dt)\n",
        "\n"
      ],
      "execution_count": 4,
      "outputs": [
        {
          "output_type": "execute_result",
          "data": {
            "text/plain": [
              "2875612"
            ]
          },
          "metadata": {
            "tags": []
          },
          "execution_count": 4
        }
      ]
    },
    {
      "metadata": {
        "id": "y983RQy_2OiQ",
        "colab_type": "code",
        "outputId": "04e976cf-4848-4f67-8883-1eacdcfabc32",
        "colab": {
          "base_uri": "https://localhost:8080/",
          "height": 33
        }
      },
      "cell_type": "code",
      "source": [
        "dt = dt[pd.notnull(dt['AWARD_EST_VALUE_EURO'])]\n",
        "dt = dt[dt['AWARD_EST_VALUE_EURO'] != 0]\n",
        "len(dt)\n",
        "\n"
      ],
      "execution_count": 5,
      "outputs": [
        {
          "output_type": "execute_result",
          "data": {
            "text/plain": [
              "1476395"
            ]
          },
          "metadata": {
            "tags": []
          },
          "execution_count": 5
        }
      ]
    },
    {
      "metadata": {
        "id": "tvW0BfKb2Wc6",
        "colab_type": "code",
        "outputId": "99a84029-1043-4e2e-8b67-244c83cc5048",
        "colab": {
          "base_uri": "https://localhost:8080/",
          "height": 33
        }
      },
      "cell_type": "code",
      "source": [
        "dt = dt[pd.notnull(dt['NUMBER_OFFERS'])]\n",
        "dt = dt[dt['NUMBER_OFFERS'] != 0]\n",
        "len(dt)"
      ],
      "execution_count": 6,
      "outputs": [
        {
          "output_type": "execute_result",
          "data": {
            "text/plain": [
              "1433056"
            ]
          },
          "metadata": {
            "tags": []
          },
          "execution_count": 6
        }
      ]
    },
    {
      "metadata": {
        "id": "URwhUOth2e0v",
        "colab_type": "code",
        "outputId": "e890c567-3bc8-47c7-b740-dc9967e9a232",
        "colab": {
          "base_uri": "https://localhost:8080/",
          "height": 33
        }
      },
      "cell_type": "code",
      "source": [
        "import numpy as np\n",
        "dt['LNRATIO']=(np.log(dt['AWARD_VALUE_EURO']/dt['AWARD_EST_VALUE_EURO']))\n",
        "len(dt)\n"
      ],
      "execution_count": 7,
      "outputs": [
        {
          "output_type": "execute_result",
          "data": {
            "text/plain": [
              "1433056"
            ]
          },
          "metadata": {
            "tags": []
          },
          "execution_count": 7
        }
      ]
    },
    {
      "metadata": {
        "id": "lWmCx0iO3xmt",
        "colab_type": "code",
        "colab": {}
      },
      "cell_type": "code",
      "source": [
        "#log of 'df_train['month'] = pd.to_datetime(df_train.Date).dt.month\n",
        "dt['LN_AWARD_VALUE_EURO'] = np.log(dt['AWARD_VALUE_EURO'])\n",
        "dt['LN_AWARD_EST_VALUE_EURO'] = np.log(dt['AWARD_EST_VALUE_EURO'])"
      ],
      "execution_count": 0,
      "outputs": []
    },
    {
      "metadata": {
        "id": "mRaJ1iJ7-XcD",
        "colab_type": "code",
        "outputId": "bb58634c-c487-4037-c1ae-7a035b978c72",
        "colab": {
          "base_uri": "https://localhost:8080/",
          "height": 286
        }
      },
      "cell_type": "code",
      "source": [
        "dt['LNRATIO'].hist(bins=100)"
      ],
      "execution_count": 0,
      "outputs": [
        {
          "output_type": "execute_result",
          "data": {
            "text/plain": [
              "<matplotlib.axes._subplots.AxesSubplot at 0x7f3ed17e3550>"
            ]
          },
          "metadata": {
            "tags": []
          },
          "execution_count": 14
        },
        {
          "output_type": "display_data",
          "data": {
            "image/png": "[encoded data removed]",
            "text/plain": [
              "<Figure size 432x288 with 1 Axes>"
            ]
          },
          "metadata": {
            "tags": []
          }
        }
      ]
    },
    {
      "metadata": {
        "id": "GtMm-QBmr4ro",
        "colab_type": "code",
        "outputId": "5ed8f9bf-68d6-4f9c-b207-c56136226269",
        "colab": {
          "base_uri": "https://localhost:8080/",
          "height": 167
        }
      },
      "cell_type": "code",
      "source": [
        "dt['LNRATIO'].describe()"
      ],
      "execution_count": 9,
      "outputs": [
        {
          "output_type": "execute_result",
          "data": {
            "text/plain": [
              "count    1.433056e+06\n",
              "mean    -3.077603e-01\n",
              "std      1.198092e+00\n",
              "min     -2.363040e+01\n",
              "25%     -2.835722e-01\n",
              "50%     -4.992595e-02\n",
              "75%      0.000000e+00\n",
              "max      3.545507e+01\n",
              "Name: LNRATIO, dtype: float64"
            ]
          },
          "metadata": {
            "tags": []
          },
          "execution_count": 9
        }
      ]
    },
    {
      "metadata": {
        "id": "PAo227hHrP6S",
        "colab_type": "code",
        "colab": {}
      },
      "cell_type": "code",
      "source": [
        "dt = dt[(dt.LNRATIO>-3) & (dt.LNRATIO<3)]\n"
      ],
      "execution_count": 0,
      "outputs": []
    },
    {
      "metadata": {
        "id": "ZE4D_FXGACpc",
        "colab_type": "code",
        "outputId": "ead11547-5108-47c8-80a6-dcf7c99d3758",
        "colab": {
          "base_uri": "https://localhost:8080/",
          "height": 167
        }
      },
      "cell_type": "code",
      "source": [
        "dt['LNRATIO'].describe()"
      ],
      "execution_count": 11,
      "outputs": [
        {
          "output_type": "execute_result",
          "data": {
            "text/plain": [
              "count    1.399422e+06\n",
              "mean    -1.755136e-01\n",
              "std      4.674824e-01\n",
              "min     -2.999740e+00\n",
              "25%     -2.565878e-01\n",
              "50%     -4.473601e-02\n",
              "75%      0.000000e+00\n",
              "max      2.999516e+00\n",
              "Name: LNRATIO, dtype: float64"
            ]
          },
          "metadata": {
            "tags": []
          },
          "execution_count": 11
        }
      ]
    },
    {
      "metadata": {
        "id": "qwZeshz3KVH-",
        "colab_type": "code",
        "outputId": "db52181e-8ade-4455-860f-0e8594ba9197",
        "colab": {
          "base_uri": "https://localhost:8080/",
          "height": 286
        }
      },
      "cell_type": "code",
      "source": [
        "dt['LN_AWARD_VALUE_EURO'].hist(bins=1000)"
      ],
      "execution_count": 0,
      "outputs": [
        {
          "output_type": "execute_result",
          "data": {
            "text/plain": [
              "<matplotlib.axes._subplots.AxesSubplot at 0x7fbae65e0ef0>"
            ]
          },
          "metadata": {
            "tags": []
          },
          "execution_count": 41
        },
        {
          "output_type": "display_data",
          "data": {
            "image/png": "[encoded data removed]",
            "text/plain": [
              "<Figure size 432x288 with 1 Axes>"
            ]
          },
          "metadata": {
            "tags": []
          }
        }
      ]
    },
    {
      "metadata": {
        "id": "2R9IzhXCr2Ja",
        "colab_type": "code",
        "outputId": "74206540-4f4b-4d71-b716-dbd6ea826194",
        "colab": {
          "base_uri": "https://localhost:8080/",
          "height": 286
        }
      },
      "cell_type": "code",
      "source": [
        "dt['LN_AWARD_EST_VALUE_EURO'].hist(bins=1000)"
      ],
      "execution_count": 0,
      "outputs": [
        {
          "output_type": "execute_result",
          "data": {
            "text/plain": [
              "<matplotlib.axes._subplots.AxesSubplot at 0x7fbae3bc1e80>"
            ]
          },
          "metadata": {
            "tags": []
          },
          "execution_count": 42
        },
        {
          "output_type": "display_data",
          "data": {
            "image/png": "[encoded data removed]",
            "text/plain": [
              "<Figure size 432x288 with 1 Axes>"
            ]
          },
          "metadata": {
            "tags": []
          }
        }
      ]
    },
    {
      "metadata": {
        "id": "Nnb5AfWgcZTF",
        "colab_type": "code",
        "outputId": "cb0f1cbd-7d5c-44fc-ec89-933d3eeb1db4",
        "colab": {
          "base_uri": "https://localhost:8080/",
          "height": 286
        }
      },
      "cell_type": "code",
      "source": [
        "import matplotlib.pyplot as plt\n",
        "plt.scatter( dt['LN_AWARD_VALUE_EURO'],dt['LN_AWARD_EST_VALUE_EURO'])"
      ],
      "execution_count": 0,
      "outputs": [
        {
          "output_type": "execute_result",
          "data": {
            "text/plain": [
              "<matplotlib.collections.PathCollection at 0x7fcab0830128>"
            ]
          },
          "metadata": {
            "tags": []
          },
          "execution_count": 26
        },
        {
          "output_type": "display_data",
          "data": {
            "image/png": "[encoded data removed]",
            "text/plain": [
              "<Figure size 432x288 with 1 Axes>"
            ]
          },
          "metadata": {
            "tags": []
          }
        }
      ]
    },
    {
      "metadata": {
        "id": "ng5ZYOH4UiQM",
        "colab_type": "code",
        "outputId": "bd89d945-039d-41af-b379-cbd1aaba45da",
        "colab": {
          "base_uri": "https://localhost:8080/",
          "height": 216
        }
      },
      "cell_type": "code",
      "source": [
        "dt.head()\n"
      ],
      "execution_count": 0,
      "outputs": [
        {
          "output_type": "execute_result",
          "data": {
            "text/html": [
              "<div>\n",
              "<style scoped>\n",
              "    .dataframe tbody tr th:only-of-type {\n",
              "        vertical-align: middle;\n",
              "    }\n",
              "\n",
              "    .dataframe tbody tr th {\n",
              "        vertical-align: top;\n",
              "    }\n",
              "\n",
              "    .dataframe thead th {\n",
              "        text-align: right;\n",
              "    }\n",
              "</style>\n",
              "<table border=\"1\" class=\"dataframe\">\n",
              "  <thead>\n",
              "    <tr style=\"text-align: right;\">\n",
              "      <th></th>\n",
              "      <th>YEAR</th>\n",
              "      <th>AUTHORITY_COUNTRY</th>\n",
              "      <th>CAE_TYPE</th>\n",
              "      <th>TYPE_OF_CONTRACT</th>\n",
              "      <th>SECTOR</th>\n",
              "      <th>B_GPA</th>\n",
              "      <th>PROCEDURE</th>\n",
              "      <th>B_ELECTRONIC_AUCTION</th>\n",
              "      <th>NUMBER_OFFERS</th>\n",
              "      <th>AWARD_EST_VALUE_EURO</th>\n",
              "      <th>AWARD_VALUE_EURO</th>\n",
              "      <th>LNRATIO</th>\n",
              "      <th>LN_AWARD_VALUE_EURO</th>\n",
              "      <th>LN_AWARD_EST_VALUE_EURO</th>\n",
              "    </tr>\n",
              "  </thead>\n",
              "  <tbody>\n",
              "    <tr>\n",
              "      <th>15</th>\n",
              "      <td>2010</td>\n",
              "      <td>14</td>\n",
              "      <td>6</td>\n",
              "      <td>1</td>\n",
              "      <td>2</td>\n",
              "      <td>1</td>\n",
              "      <td>6</td>\n",
              "      <td>0</td>\n",
              "      <td>1.0</td>\n",
              "      <td>1960214.90</td>\n",
              "      <td>1989618.01</td>\n",
              "      <td>0.014889</td>\n",
              "      <td>14.503453</td>\n",
              "      <td>14.488565</td>\n",
              "    </tr>\n",
              "    <tr>\n",
              "      <th>16</th>\n",
              "      <td>2010</td>\n",
              "      <td>14</td>\n",
              "      <td>6</td>\n",
              "      <td>1</td>\n",
              "      <td>2</td>\n",
              "      <td>1</td>\n",
              "      <td>6</td>\n",
              "      <td>0</td>\n",
              "      <td>1.0</td>\n",
              "      <td>217801.66</td>\n",
              "      <td>266520.26</td>\n",
              "      <td>0.201865</td>\n",
              "      <td>12.493206</td>\n",
              "      <td>12.291340</td>\n",
              "    </tr>\n",
              "    <tr>\n",
              "      <th>21</th>\n",
              "      <td>2010</td>\n",
              "      <td>14</td>\n",
              "      <td>6</td>\n",
              "      <td>1</td>\n",
              "      <td>41</td>\n",
              "      <td>0</td>\n",
              "      <td>3</td>\n",
              "      <td>0</td>\n",
              "      <td>2.0</td>\n",
              "      <td>2722520.69</td>\n",
              "      <td>2722520.69</td>\n",
              "      <td>0.000000</td>\n",
              "      <td>14.817069</td>\n",
              "      <td>14.817069</td>\n",
              "    </tr>\n",
              "    <tr>\n",
              "      <th>22</th>\n",
              "      <td>2010</td>\n",
              "      <td>14</td>\n",
              "      <td>8</td>\n",
              "      <td>1</td>\n",
              "      <td>7</td>\n",
              "      <td>0</td>\n",
              "      <td>5</td>\n",
              "      <td>0</td>\n",
              "      <td>7.0</td>\n",
              "      <td>72600.55</td>\n",
              "      <td>59057.74</td>\n",
              "      <td>-0.206457</td>\n",
              "      <td>10.986271</td>\n",
              "      <td>11.192728</td>\n",
              "    </tr>\n",
              "    <tr>\n",
              "      <th>43</th>\n",
              "      <td>2010</td>\n",
              "      <td>6</td>\n",
              "      <td>5</td>\n",
              "      <td>1</td>\n",
              "      <td>7</td>\n",
              "      <td>0</td>\n",
              "      <td>6</td>\n",
              "      <td>0</td>\n",
              "      <td>5.0</td>\n",
              "      <td>336134.45</td>\n",
              "      <td>336134.45</td>\n",
              "      <td>0.000000</td>\n",
              "      <td>12.725267</td>\n",
              "      <td>12.725267</td>\n",
              "    </tr>\n",
              "  </tbody>\n",
              "</table>\n",
              "</div>"
            ],
            "text/plain": [
              "    YEAR  AUTHORITY_COUNTRY  CAE_TYPE  TYPE_OF_CONTRACT  SECTOR  B_GPA  \\\n",
              "15  2010                 14         6                 1       2      1   \n",
              "16  2010                 14         6                 1       2      1   \n",
              "21  2010                 14         6                 1      41      0   \n",
              "22  2010                 14         8                 1       7      0   \n",
              "43  2010                  6         5                 1       7      0   \n",
              "\n",
              "    PROCEDURE  B_ELECTRONIC_AUCTION  NUMBER_OFFERS  AWARD_EST_VALUE_EURO  \\\n",
              "15          6                     0            1.0            1960214.90   \n",
              "16          6                     0            1.0             217801.66   \n",
              "21          3                     0            2.0            2722520.69   \n",
              "22          5                     0            7.0              72600.55   \n",
              "43          6                     0            5.0             336134.45   \n",
              "\n",
              "    AWARD_VALUE_EURO   LNRATIO  LN_AWARD_VALUE_EURO  LN_AWARD_EST_VALUE_EURO  \n",
              "15        1989618.01  0.014889            14.503453                14.488565  \n",
              "16         266520.26  0.201865            12.493206                12.291340  \n",
              "21        2722520.69  0.000000            14.817069                14.817069  \n",
              "22          59057.74 -0.206457            10.986271                11.192728  \n",
              "43         336134.45  0.000000            12.725267                12.725267  "
            ]
          },
          "metadata": {
            "tags": []
          },
          "execution_count": 71
        }
      ]
    },
    {
      "metadata": {
        "id": "Y7BBE0s6tQwC",
        "colab_type": "code",
        "outputId": "aba7f782-a897-471e-fb80-40aa6a569e69",
        "colab": {
          "base_uri": "https://localhost:8080/",
          "height": 33
        }
      },
      "cell_type": "code",
      "source": [
        "dt['SECTOR'].dtypes"
      ],
      "execution_count": 14,
      "outputs": [
        {
          "output_type": "execute_result",
          "data": {
            "text/plain": [
              "dtype('O')"
            ]
          },
          "metadata": {
            "tags": []
          },
          "execution_count": 14
        }
      ]
    },
    {
      "metadata": {
        "id": "wdxacwUGuEUF",
        "colab_type": "code",
        "colab": {}
      },
      "cell_type": "code",
      "source": [
        "dt['SECTOR']=np.where(dt['SECTOR']==41,41,dt['SECTOR'])"
      ],
      "execution_count": 0,
      "outputs": []
    },
    {
      "metadata": {
        "id": "ZfM_ddeXydnQ",
        "colab_type": "code",
        "outputId": "52bb4834-2fa4-4190-d442-3404d896879b",
        "colab": {
          "base_uri": "https://localhost:8080/",
          "height": 100
        }
      },
      "cell_type": "code",
      "source": [
        "new=dt['SECTOR'].astype(str)\n",
        "# make the new columns using string indexing\n",
        "dt['SECTOR'] = new.str[0:2]\n",
        "dt['SECTOR'].unique()"
      ],
      "execution_count": 13,
      "outputs": [
        {
          "output_type": "execute_result",
          "data": {
            "text/plain": [
              "array(['16', '91', '30', '77', '50', '71', '72', '70', '90', '79', '66',\n",
              "       '48', '45', '75', '63', '32', '33', '15', '93', '65', '43', '34',\n",
              "       '64', '60', '85', '92', '51', '31', '98', '38', 'na', '42', '44',\n",
              "       '39', '18', '35', '22', '19', '80', '73', '55', '76', '24', '14',\n",
              "       '37', '41'], dtype=object)"
            ]
          },
          "metadata": {
            "tags": []
          },
          "execution_count": 13
        }
      ]
    },
    {
      "metadata": {
        "id": "kyHOLXDaUmZx",
        "colab_type": "code",
        "colab": {}
      },
      "cell_type": "code",
      "source": [
        "import pandas as pd\n",
        "import numpy as np\n",
        "\n",
        "from sklearn.base import TransformerMixin\n",
        "\n",
        "class DataFrameImputer(TransformerMixin):\n",
        "\n",
        "    def __init__(self):\n",
        "        \"\"\"Impute missing values.\n",
        "\n",
        "        Columns of dtype object are imputed with the most frequent value \n",
        "        in column.\n",
        "\n",
        "        Columns of other types are imputed with mean of column.\n",
        "\n",
        "        \"\"\"\n",
        "    def fit(self, X, y=None):\n",
        "\n",
        "        self.fill = pd.Series([X[c].value_counts().index[0]\n",
        "            if X[c].dtype == np.dtype('O') else X[c].mean() for c in X],\n",
        "            index=X.columns)\n",
        "\n",
        "        return self\n",
        "\n",
        "    def transform(self, X, y=None):\n",
        "        return X.fillna(self.fill)"
      ],
      "execution_count": 0,
      "outputs": []
    },
    {
      "metadata": {
        "id": "GCPY9pVJrnn7",
        "colab_type": "code",
        "colab": {}
      },
      "cell_type": "code",
      "source": [
        "dt = DataFrameImputer().fit_transform(dt)"
      ],
      "execution_count": 0,
      "outputs": []
    },
    {
      "metadata": {
        "id": "ZvqfhJm6Y3rm",
        "colab_type": "code",
        "outputId": "54e63565-9841-4dd7-c021-e1d68bcb4f90",
        "colab": {
          "base_uri": "https://localhost:8080/",
          "height": 268
        }
      },
      "cell_type": "code",
      "source": [
        "print(dt.isnull().sum())"
      ],
      "execution_count": 17,
      "outputs": [
        {
          "output_type": "stream",
          "text": [
            "YEAR                       0\n",
            "AUTHORITY_COUNTRY          0\n",
            "CAE_TYPE                   0\n",
            "TYPE_OF_CONTRACT           0\n",
            "SECTOR                     0\n",
            "B_GPA                      0\n",
            "PROCEDURE                  0\n",
            "B_ELECTRONIC_AUCTION       0\n",
            "NUMBER_OFFERS              0\n",
            "AWARD_EST_VALUE_EURO       0\n",
            "AWARD_VALUE_EURO           0\n",
            "LNRATIO                    0\n",
            "LN_AWARD_VALUE_EURO        0\n",
            "LN_AWARD_EST_VALUE_EURO    0\n",
            "dtype: int64\n"
          ],
          "name": "stdout"
        }
      ]
    },
    {
      "metadata": {
        "id": "py12AQ6zsoeC",
        "colab_type": "code",
        "outputId": "b77caf1f-60c4-4f06-86fe-8fcfa9ee6c9d",
        "colab": {
          "base_uri": "https://localhost:8080/",
          "height": 268
        }
      },
      "cell_type": "code",
      "source": [
        "dt.dtypes"
      ],
      "execution_count": 22,
      "outputs": [
        {
          "output_type": "execute_result",
          "data": {
            "text/plain": [
              "YEAR                         int64\n",
              "AUTHORITY_COUNTRY            int64\n",
              "CAE_TYPE                     int64\n",
              "TYPE_OF_CONTRACT             int64\n",
              "SECTOR                       int64\n",
              "B_GPA                        int64\n",
              "PROCEDURE                    int64\n",
              "B_ELECTRONIC_AUCTION         int64\n",
              "NUMBER_OFFERS              float64\n",
              "AWARD_EST_VALUE_EURO       float64\n",
              "AWARD_VALUE_EURO           float64\n",
              "LNRATIO                    float64\n",
              "LN_AWARD_VALUE_EURO        float64\n",
              "LN_AWARD_EST_VALUE_EURO    float64\n",
              "dtype: object"
            ]
          },
          "metadata": {
            "tags": []
          },
          "execution_count": 22
        }
      ]
    },
    {
      "metadata": {
        "id": "kfJK22ijxdl_",
        "colab_type": "code",
        "outputId": "9aa16e40-1391-4023-8bb4-70ccf1b13ad8",
        "colab": {
          "base_uri": "https://localhost:8080/",
          "height": 100
        }
      },
      "cell_type": "code",
      "source": [
        "dt.columns"
      ],
      "execution_count": 34,
      "outputs": [
        {
          "output_type": "execute_result",
          "data": {
            "text/plain": [
              "Index(['YEAR', 'AUTHORITY_COUNTRY', 'CAE_TYPE', 'TYPE_OF_CONTRACT', 'SECTOR',\n",
              "       'B_GPA', 'PROCEDURE', 'B_ELECTRONIC_AUCTION', 'NUMBER_OFFERS',\n",
              "       'AWARD_EST_VALUE_EURO', 'AWARD_VALUE_EURO', 'LNRATIO',\n",
              "       'LN_AWARD_VALUE_EURO', 'LN_AWARD_EST_VALUE_EURO'],\n",
              "      dtype='object')"
            ]
          },
          "metadata": {
            "tags": []
          },
          "execution_count": 34
        }
      ]
    },
    {
      "metadata": {
        "id": "o0HL24YAwlmH",
        "colab_type": "code",
        "colab": {}
      },
      "cell_type": "code",
      "source": [
        "for col in ['AUTHORITY_COUNTRY', 'CAE_TYPE', 'TYPE_OF_CONTRACT', 'SECTOR',\n",
        "       'B_GPA', 'PROCEDURE', 'B_ELECTRONIC_AUCTION']:\n",
        "    dt[col] = dt[col].astype('category')"
      ],
      "execution_count": 0,
      "outputs": []
    },
    {
      "metadata": {
        "id": "zMe6euqLsrIx",
        "colab_type": "code",
        "colab": {}
      },
      "cell_type": "code",
      "source": [
        "from sklearn.preprocessing import LabelEncoder\n",
        "\n",
        "kategorik_sutunlar = ['AUTHORITY_COUNTRY', 'CAE_TYPE', 'TYPE_OF_CONTRACT', 'SECTOR',\n",
        "       'B_GPA', 'PROCEDURE', 'B_ELECTRONIC_AUCTION']\n",
        "for i in kategorik_sutunlar:\n",
        "    le = LabelEncoder()\n",
        "    dt[i] = le.fit_transform(dt[i])\n"
      ],
      "execution_count": 0,
      "outputs": []
    },
    {
      "metadata": {
        "id": "WY9ms_LuwkhU",
        "colab_type": "code",
        "colab": {}
      },
      "cell_type": "code",
      "source": [
        ""
      ],
      "execution_count": 0,
      "outputs": []
    },
    {
      "metadata": {
        "id": "i-GP06HGl_lG",
        "colab_type": "code",
        "colab": {}
      },
      "cell_type": "code",
      "source": [
        "train=dt[(dt.YEAR<2017)]\n",
        "test=dt[(dt.YEAR==2017)]"
      ],
      "execution_count": 0,
      "outputs": []
    },
    {
      "metadata": {
        "id": "4Bm9jfr_l_1N",
        "colab_type": "code",
        "colab": {}
      },
      "cell_type": "code",
      "source": [
        "y_train = train['LNRATIO']\n",
        "X_train = train.drop(['AWARD_VALUE_EURO', 'AWARD_EST_VALUE_EURO', 'LNRATIO', 'LN_AWARD_VALUE_EURO'], axis=1)\n",
        "y_test = test['LNRATIO']\n",
        "X_test = test.drop(['AWARD_VALUE_EURO', 'AWARD_EST_VALUE_EURO',  'LNRATIO' ,'LN_AWARD_VALUE_EURO'], axis=1)\n"
      ],
      "execution_count": 0,
      "outputs": []
    },
    {
      "metadata": {
        "id": "8Rqcg7Q6clku",
        "colab_type": "code",
        "outputId": "5f0a10f6-1dc0-4015-e844-a42b353a222e",
        "colab": {
          "base_uri": "https://localhost:8080/",
          "height": 84
        }
      },
      "cell_type": "code",
      "source": [
        "X_train.columns"
      ],
      "execution_count": 35,
      "outputs": [
        {
          "output_type": "execute_result",
          "data": {
            "text/plain": [
              "Index(['YEAR', 'AUTHORITY_COUNTRY', 'CAE_TYPE', 'TYPE_OF_CONTRACT', 'SECTOR',\n",
              "       'B_GPA', 'PROCEDURE', 'B_ELECTRONIC_AUCTION', 'NUMBER_OFFERS',\n",
              "       'LN_AWARD_EST_VALUE_EURO'],\n",
              "      dtype='object')"
            ]
          },
          "metadata": {
            "tags": []
          },
          "execution_count": 35
        }
      ]
    },
    {
      "metadata": {
        "id": "x2FKI7wmbauS",
        "colab_type": "code",
        "outputId": "2498267c-a06d-471e-8543-5620964f133e",
        "colab": {
          "base_uri": "https://localhost:8080/",
          "height": 602
        }
      },
      "cell_type": "code",
      "source": [
        "from sklearn import datasets, linear_model\n",
        "from sklearn.metrics import mean_squared_error, r2_score\n",
        "import statsmodels.api as sm\n",
        "mOLS = sm.OLS(y_train, X_train).fit()\n",
        "print(mOLS.summary())\n",
        "\n",
        "\n",
        "\n",
        "# Print out the statistics\n",
        "\n",
        "# Fit and make the predictions by the model\n"
      ],
      "execution_count": 36,
      "outputs": [
        {
          "output_type": "stream",
          "text": [
            "                            OLS Regression Results                            \n",
            "==============================================================================\n",
            "Dep. Variable:                LNRATIO   R-squared:                       0.139\n",
            "Model:                            OLS   Adj. R-squared:                  0.139\n",
            "Method:                 Least Squares   F-statistic:                 1.887e+04\n",
            "Date:                Fri, 19 Apr 2019   Prob (F-statistic):               0.00\n",
            "Time:                        13:15:50   Log-Likelihood:            -7.6766e+05\n",
            "No. Observations:             1171126   AIC:                         1.535e+06\n",
            "Df Residuals:                 1171116   BIC:                         1.535e+06\n",
            "Df Model:                          10                                         \n",
            "Covariance Type:            nonrobust                                         \n",
            "===========================================================================================\n",
            "                              coef    std err          t      P>|t|      [0.025      0.975]\n",
            "-------------------------------------------------------------------------------------------\n",
            "YEAR                     4.333e-05   2.01e-06     21.545      0.000    3.94e-05    4.73e-05\n",
            "AUTHORITY_COUNTRY          -0.0016   6.13e-05    -25.819      0.000      -0.002      -0.001\n",
            "CAE_TYPE                    0.0035      0.000     17.316      0.000       0.003       0.004\n",
            "TYPE_OF_CONTRACT            0.0359      0.001     31.548      0.000       0.034       0.038\n",
            "SECTOR                     -0.0002   5.45e-05     -3.294      0.001      -0.000   -7.27e-05\n",
            "B_GPA                       0.0103      0.001     10.488      0.000       0.008       0.012\n",
            "PROCEDURE                  -0.0283      0.001    -51.293      0.000      -0.029      -0.027\n",
            "B_ELECTRONIC_AUCTION       -0.0471      0.002    -23.179      0.000      -0.051      -0.043\n",
            "NUMBER_OFFERS               0.0001   6.65e-06     22.039      0.000       0.000       0.000\n",
            "LN_AWARD_EST_VALUE_EURO    -0.0133      0.000    -79.578      0.000      -0.014      -0.013\n",
            "==============================================================================\n",
            "Omnibus:                   403524.835   Durbin-Watson:                   1.401\n",
            "Prob(Omnibus):                  0.000   Jarque-Bera (JB):          4326037.307\n",
            "Skew:                          -1.350   Prob(JB):                         0.00\n",
            "Kurtosis:                      12.020   Cond. No.                     9.53e+03\n",
            "==============================================================================\n",
            "\n",
            "Warnings:\n",
            "[1] Standard Errors assume that the covariance matrix of the errors is correctly specified.\n",
            "[2] The condition number is large, 9.53e+03. This might indicate that there are\n",
            "strong multicollinearity or other numerical problems.\n"
          ],
          "name": "stdout"
        }
      ]
    },
    {
      "metadata": {
        "id": "rMTGWoqtS9YS",
        "colab_type": "code",
        "colab": {}
      },
      "cell_type": "code",
      "source": [
        "import math\n",
        "from scipy.stats import spearmanr\n",
        "def rmse(x,y): return math.sqrt(((x-y)**2).mean())\n",
        "def print_score(m):\n",
        "    print('Train rmse '+str(rmse(m.predict(X_train), y_train))) \n",
        "    print('Test  rmse '+str(rmse(m.predict(X_test), y_test)))\n",
        "    print('Train '+str(spearmanr(m.predict(X_train),y_train)))\n",
        "    print('Test  '+str(spearmanr(m.predict(X_test),y_test)))"
      ],
      "execution_count": 0,
      "outputs": []
    },
    {
      "metadata": {
        "id": "x5WozUtuM_GN",
        "colab_type": "code",
        "outputId": "9fcd8714-8269-48ac-9090-f609d96bf6c3",
        "colab": {
          "base_uri": "https://localhost:8080/",
          "height": 84
        }
      },
      "cell_type": "code",
      "source": [
        "print_score(mOLS)"
      ],
      "execution_count": 27,
      "outputs": [
        {
          "output_type": "stream",
          "text": [
            "Train rmse 0.4660543320363897\n",
            "Test  rmse 0.4591178495933747\n",
            "Train SpearmanrResult(correlation=0.09085332268634093, pvalue=0.0)\n",
            "Test  SpearmanrResult(correlation=0.04657832983233096, pvalue=7.678195986176704e-110)\n"
          ],
          "name": "stdout"
        }
      ]
    },
    {
      "metadata": {
        "id": "ZF_GPsHT3MGK",
        "colab_type": "code",
        "outputId": "56674661-6edb-46c9-e512-256592bdc31f",
        "colab": {
          "base_uri": "https://localhost:8080/",
          "height": 286
        }
      },
      "cell_type": "code",
      "source": [
        "plt.scatter(y_test, mOLS.predict(X_test))"
      ],
      "execution_count": 0,
      "outputs": [
        {
          "output_type": "execute_result",
          "data": {
            "text/plain": [
              "<matplotlib.collections.PathCollection at 0x7fb7b1fbd6d8>"
            ]
          },
          "metadata": {
            "tags": []
          },
          "execution_count": 38
        },
        {
          "output_type": "display_data",
          "data": {
            "image/png": "[encoded data removed]",
            "text/plain": [
              "<Figure size 432x288 with 1 Axes>"
            ]
          },
          "metadata": {
            "tags": []
          }
        }
      ]
    },
    {
      "metadata": {
        "id": "T1AEis7jE4Yp",
        "colab_type": "code",
        "colab": {}
      },
      "cell_type": "code",
      "source": [
        "params = {'learning_rate'    : 0.2,\n",
        "          'boosting'         : 'gbdt',\n",
        "          'metric'           : 'rmse',\n",
        "          'feature_fraction' : 1,\n",
        "          'bagging_fraction' : 1,\n",
        "          'max_depth': 10,\n",
        "          'num_leaves'       : 10,\n",
        "          'objective'        : 'regression',\n",
        "          'bagging_freq'     : 1,\n",
        "          \"verbose\": -1,\n",
        "          'min_data_per_leaf': 100}"
      ],
      "execution_count": 0,
      "outputs": []
    },
    {
      "metadata": {
        "id": "Onbg9Twq1rf2",
        "colab_type": "code",
        "outputId": "260bc447-1730-4645-dac3-a57b01daf10f",
        "colab": {
          "base_uri": "https://localhost:8080/",
          "height": 1092
        }
      },
      "cell_type": "code",
      "source": [
        "import math\n",
        "from scipy.stats import spearmanr\n",
        "from sklearn.model_selection import KFold\n",
        "from lightgbm import LGBMRegressor\n",
        "import gc\n",
        "def rmse(x,y): return math.sqrt(((x-y)**2).mean())\n",
        "folds = KFold(n_splits=4, shuffle=True, random_state=42)\n",
        "oof_reg_preds = np.zeros(X_train.shape[0])\n",
        "sub_reg_preds = np.zeros(X_test.shape[0])\n",
        "for n_fold, (trn_idx, val_idx) in enumerate(folds.split(X_train)):\n",
        "    trn_x, trn_y = X_train.iloc[trn_idx], y_train.iloc[trn_idx]\n",
        "    val_x, val_y = X_train.iloc[val_idx], y_train.iloc[val_idx]\n",
        "    \n",
        "    reg = LGBMRegressor(**params,n_estimators=2000)\n",
        "   \n",
        "    print(\"-\"* 20 + \"LightGBM Training\" + \"-\"* 20)\n",
        "    reg.fit(trn_x, trn_y, eval_set= [(trn_x, trn_y), (val_x, val_y)],early_stopping_rounds=100,verbose=200,eval_metric='rmse' )\n",
        "    # LightGBM\n",
        "    oof_reg_preds[val_idx] = reg.predict(val_x, num_iteration=reg.best_iteration_)\n",
        "    sub_reg_preds  += reg.predict(X_test, num_iteration=reg.best_iteration_)/ folds.n_splits\n",
        "    print('Fold %2d RMSE: %.6f' % (n_fold + 1, rmse(val_y, oof_reg_preds[val_idx])))\n",
        "    del reg, trn_x, trn_y, val_x, val_y\n",
        "    gc.collect()\n",
        "    \n",
        "print('Full Train RMSE score %.6f' % rmse(y_train, oof_reg_preds)) \n",
        "print('Full Test RMSE score %.6f' % rmse(y_test, sub_reg_preds))    \n",
        "print('Train '+str(spearmanr(oof_reg_preds,y_train)))\n",
        "print('Test  '+str(spearmanr(sub_reg_preds,y_test)))  \n",
        "\n"
      ],
      "execution_count": 0,
      "outputs": [
        {
          "output_type": "stream",
          "text": [
            "--------------------LightGBM Training--------------------\n",
            "Training until validation scores don't improve for 100 rounds.\n",
            "[200]\ttraining's rmse: 0.431656\tvalid_1's rmse: 0.432733\n",
            "[400]\ttraining's rmse: 0.427204\tvalid_1's rmse: 0.42909\n",
            "[600]\ttraining's rmse: 0.423632\tvalid_1's rmse: 0.426308\n",
            "[800]\ttraining's rmse: 0.42127\tvalid_1's rmse: 0.424713\n",
            "[1000]\ttraining's rmse: 0.419229\tvalid_1's rmse: 0.423362\n",
            "[1200]\ttraining's rmse: 0.417651\tvalid_1's rmse: 0.42246\n",
            "[1400]\ttraining's rmse: 0.416291\tvalid_1's rmse: 0.421688\n",
            "[1600]\ttraining's rmse: 0.414946\tvalid_1's rmse: 0.420937\n",
            "[1800]\ttraining's rmse: 0.413809\tvalid_1's rmse: 0.420337\n",
            "[2000]\ttraining's rmse: 0.412799\tvalid_1's rmse: 0.419863\n",
            "Did not meet early stopping. Best iteration is:\n",
            "[2000]\ttraining's rmse: 0.412799\tvalid_1's rmse: 0.419863\n",
            "Fold  1 RMSE: 0.419863\n",
            "--------------------LightGBM Training--------------------\n",
            "Training until validation scores don't improve for 100 rounds.\n",
            "[200]\ttraining's rmse: 0.431618\tvalid_1's rmse: 0.434341\n",
            "[400]\ttraining's rmse: 0.426877\tvalid_1's rmse: 0.430496\n",
            "[600]\ttraining's rmse: 0.423951\tvalid_1's rmse: 0.428243\n",
            "[800]\ttraining's rmse: 0.421324\tvalid_1's rmse: 0.426362\n",
            "[1000]\ttraining's rmse: 0.419316\tvalid_1's rmse: 0.425033\n",
            "[1200]\ttraining's rmse: 0.417513\tvalid_1's rmse: 0.423802\n",
            "[1400]\ttraining's rmse: 0.416151\tvalid_1's rmse: 0.423046\n",
            "[1600]\ttraining's rmse: 0.41485\tvalid_1's rmse: 0.422298\n",
            "[1800]\ttraining's rmse: 0.413714\tvalid_1's rmse: 0.421684\n",
            "[2000]\ttraining's rmse: 0.412693\tvalid_1's rmse: 0.421165\n",
            "Did not meet early stopping. Best iteration is:\n",
            "[2000]\ttraining's rmse: 0.412693\tvalid_1's rmse: 0.421165\n",
            "Fold  2 RMSE: 0.421165\n",
            "--------------------LightGBM Training--------------------\n",
            "Training until validation scores don't improve for 100 rounds.\n",
            "[200]\ttraining's rmse: 0.432595\tvalid_1's rmse: 0.430446\n",
            "[400]\ttraining's rmse: 0.4279\tvalid_1's rmse: 0.42658\n",
            "[600]\ttraining's rmse: 0.424622\tvalid_1's rmse: 0.424012\n",
            "[800]\ttraining's rmse: 0.422246\tvalid_1's rmse: 0.422208\n",
            "[1000]\ttraining's rmse: 0.420353\tvalid_1's rmse: 0.420992\n",
            "[1200]\ttraining's rmse: 0.418737\tvalid_1's rmse: 0.4199\n",
            "[1400]\ttraining's rmse: 0.417453\tvalid_1's rmse: 0.419211\n",
            "[1600]\ttraining's rmse: 0.416158\tvalid_1's rmse: 0.418448\n",
            "[1800]\ttraining's rmse: 0.415038\tvalid_1's rmse: 0.417809\n",
            "[2000]\ttraining's rmse: 0.414005\tvalid_1's rmse: 0.41727\n",
            "Did not meet early stopping. Best iteration is:\n",
            "[2000]\ttraining's rmse: 0.414005\tvalid_1's rmse: 0.41727\n",
            "Fold  3 RMSE: 0.417270\n",
            "--------------------LightGBM Training--------------------\n",
            "Training until validation scores don't improve for 100 rounds.\n",
            "[200]\ttraining's rmse: 0.431178\tvalid_1's rmse: 0.434161\n",
            "[400]\ttraining's rmse: 0.426799\tvalid_1's rmse: 0.430477\n",
            "[600]\ttraining's rmse: 0.42357\tvalid_1's rmse: 0.427906\n",
            "[800]\ttraining's rmse: 0.421096\tvalid_1's rmse: 0.426028\n",
            "[1000]\ttraining's rmse: 0.418996\tvalid_1's rmse: 0.424582\n",
            "[1200]\ttraining's rmse: 0.417561\tvalid_1's rmse: 0.423728\n",
            "[1400]\ttraining's rmse: 0.416147\tvalid_1's rmse: 0.422915\n",
            "[1600]\ttraining's rmse: 0.414933\tvalid_1's rmse: 0.422248\n",
            "[1800]\ttraining's rmse: 0.413766\tvalid_1's rmse: 0.421672\n",
            "[2000]\ttraining's rmse: 0.412764\tvalid_1's rmse: 0.421228\n",
            "Did not meet early stopping. Best iteration is:\n",
            "[2000]\ttraining's rmse: 0.412764\tvalid_1's rmse: 0.421228\n",
            "Fold  4 RMSE: 0.421228\n",
            "Full RMSE score 0.419885\n",
            "Full Test RMSE score 0.435017\n",
            "Train SpearmanrResult(correlation=0.428866061029481, pvalue=0.0)\n",
            "Test  SpearmanrResult(correlation=0.35889503710324794, pvalue=0.0)\n"
          ],
          "name": "stdout"
        }
      ]
    },
    {
      "metadata": {
        "id": "CCVTQfF4zIMe",
        "colab_type": "code",
        "colab": {}
      },
      "cell_type": "code",
      "source": [
        "kategorik_indeks = [1,2,3,4,5,6,7]"
      ],
      "execution_count": 0,
      "outputs": []
    },
    {
      "metadata": {
        "id": "PYd_afy0y3cV",
        "colab_type": "code",
        "outputId": "c1dae12e-3ea1-4485-9995-e9972b8954b4",
        "colab": {
          "base_uri": "https://localhost:8080/",
          "height": 1157
        }
      },
      "cell_type": "code",
      "source": [
        "import math\n",
        "from scipy.stats import spearmanr\n",
        "from sklearn.model_selection import KFold\n",
        "from lightgbm import LGBMRegressor\n",
        "import gc\n",
        "def rmse(x,y): return math.sqrt(((x-y)**2).mean())\n",
        "folds = KFold(n_splits=4, shuffle=True, random_state=42)\n",
        "oof_reg_preds = np.zeros(X_train.shape[0])\n",
        "sub_reg_preds = np.zeros(X_test.shape[0])\n",
        "for n_fold, (trn_idx, val_idx) in enumerate(folds.split(X_train)):\n",
        "    trn_x, trn_y = X_train.iloc[trn_idx], y_train.iloc[trn_idx]\n",
        "    val_x, val_y = X_train.iloc[val_idx], y_train.iloc[val_idx]\n",
        "    \n",
        "    reg = LGBMRegressor(**params,n_estimators=2000,categorical_feature = kategorik_indeks)\n",
        "   \n",
        "    print(\"-\"* 20 + \"LightGBM Training\" + \"-\"* 20)\n",
        "    reg.fit(trn_x, trn_y, eval_set= [(trn_x, trn_y), (val_x, val_y)],early_stopping_rounds=100,verbose=200,eval_metric='rmse' )\n",
        "    # LightGBM\n",
        "    oof_reg_preds[val_idx] = reg.predict(val_x, num_iteration=reg.best_iteration_)\n",
        "    sub_reg_preds  += reg.predict(X_test, num_iteration=reg.best_iteration_)/ folds.n_splits\n",
        "    print('Fold %2d RMSE: %.6f' % (n_fold + 1, rmse(val_y, oof_reg_preds[val_idx])))\n",
        "    del reg, trn_x, trn_y, val_x, val_y\n",
        "    gc.collect()\n",
        "    \n",
        "print('Full Train RMSE score %.6f' % rmse(y_train, oof_reg_preds)) \n",
        "print('Full Test RMSE score %.6f' % rmse(y_test, sub_reg_preds))    \n",
        "print('Train '+str(spearmanr(oof_reg_preds,y_train)))\n",
        "print('Test  '+str(spearmanr(sub_reg_preds,y_test)))  \n"
      ],
      "execution_count": 0,
      "outputs": [
        {
          "output_type": "stream",
          "text": [
            "--------------------LightGBM Training--------------------\n"
          ],
          "name": "stdout"
        },
        {
          "output_type": "stream",
          "text": [
            "/usr/local/lib/python3.6/dist-packages/lightgbm/basic.py:741: UserWarning: categorical_feature keyword has been found in `params` and will be ignored.\n",
            "Please use categorical_feature argument of the Dataset constructor to pass this parameter.\n",
            "  .format(key))\n"
          ],
          "name": "stderr"
        },
        {
          "output_type": "stream",
          "text": [
            "Training until validation scores don't improve for 100 rounds.\n",
            "[200]\ttraining's rmse: 0.429225\tvalid_1's rmse: 0.430949\n",
            "[400]\ttraining's rmse: 0.424092\tvalid_1's rmse: 0.42688\n",
            "[600]\ttraining's rmse: 0.420919\tvalid_1's rmse: 0.424678\n",
            "[800]\ttraining's rmse: 0.418539\tvalid_1's rmse: 0.423151\n",
            "[1000]\ttraining's rmse: 0.416634\tvalid_1's rmse: 0.422143\n",
            "[1200]\ttraining's rmse: 0.41506\tvalid_1's rmse: 0.42135\n",
            "[1400]\ttraining's rmse: 0.413634\tvalid_1's rmse: 0.420687\n",
            "[1600]\ttraining's rmse: 0.412374\tvalid_1's rmse: 0.420116\n",
            "[1800]\ttraining's rmse: 0.411165\tvalid_1's rmse: 0.419632\n",
            "[2000]\ttraining's rmse: 0.410094\tvalid_1's rmse: 0.419187\n",
            "Did not meet early stopping. Best iteration is:\n",
            "[2000]\ttraining's rmse: 0.410094\tvalid_1's rmse: 0.419187\n",
            "Fold  1 RMSE: 0.419187\n",
            "--------------------LightGBM Training--------------------\n",
            "Training until validation scores don't improve for 100 rounds.\n",
            "[200]\ttraining's rmse: 0.428622\tvalid_1's rmse: 0.431901\n",
            "[400]\ttraining's rmse: 0.424109\tvalid_1's rmse: 0.428351\n",
            "[600]\ttraining's rmse: 0.420849\tvalid_1's rmse: 0.426035\n",
            "[800]\ttraining's rmse: 0.418579\tvalid_1's rmse: 0.424497\n",
            "[1000]\ttraining's rmse: 0.416748\tvalid_1's rmse: 0.423406\n",
            "[1200]\ttraining's rmse: 0.415031\tvalid_1's rmse: 0.422449\n",
            "[1400]\ttraining's rmse: 0.413506\tvalid_1's rmse: 0.421697\n",
            "[1600]\ttraining's rmse: 0.412198\tvalid_1's rmse: 0.421102\n",
            "[1800]\ttraining's rmse: 0.410992\tvalid_1's rmse: 0.420496\n",
            "[2000]\ttraining's rmse: 0.409946\tvalid_1's rmse: 0.42003\n",
            "Did not meet early stopping. Best iteration is:\n",
            "[2000]\ttraining's rmse: 0.409946\tvalid_1's rmse: 0.42003\n",
            "Fold  2 RMSE: 0.420030\n",
            "--------------------LightGBM Training--------------------\n",
            "Training until validation scores don't improve for 100 rounds.\n",
            "[200]\ttraining's rmse: 0.4299\tvalid_1's rmse: 0.428289\n",
            "[400]\ttraining's rmse: 0.425172\tvalid_1's rmse: 0.424586\n",
            "[600]\ttraining's rmse: 0.42195\tvalid_1's rmse: 0.422304\n",
            "[800]\ttraining's rmse: 0.419713\tvalid_1's rmse: 0.420815\n",
            "[1000]\ttraining's rmse: 0.417891\tvalid_1's rmse: 0.419769\n",
            "[1200]\ttraining's rmse: 0.416259\tvalid_1's rmse: 0.418845\n",
            "[1400]\ttraining's rmse: 0.4148\tvalid_1's rmse: 0.418099\n",
            "[1600]\ttraining's rmse: 0.413527\tvalid_1's rmse: 0.417487\n",
            "[1800]\ttraining's rmse: 0.412357\tvalid_1's rmse: 0.416962\n",
            "[2000]\ttraining's rmse: 0.411166\tvalid_1's rmse: 0.416347\n",
            "Did not meet early stopping. Best iteration is:\n",
            "[2000]\ttraining's rmse: 0.411166\tvalid_1's rmse: 0.416347\n",
            "Fold  3 RMSE: 0.416347\n",
            "--------------------LightGBM Training--------------------\n",
            "Training until validation scores don't improve for 100 rounds.\n",
            "[200]\ttraining's rmse: 0.428951\tvalid_1's rmse: 0.43237\n",
            "[400]\ttraining's rmse: 0.424126\tvalid_1's rmse: 0.428679\n",
            "[600]\ttraining's rmse: 0.420758\tvalid_1's rmse: 0.426307\n",
            "[800]\ttraining's rmse: 0.418387\tvalid_1's rmse: 0.424862\n",
            "[1000]\ttraining's rmse: 0.416341\tvalid_1's rmse: 0.423684\n",
            "[1200]\ttraining's rmse: 0.414703\tvalid_1's rmse: 0.422756\n",
            "[1400]\ttraining's rmse: 0.41334\tvalid_1's rmse: 0.422117\n",
            "[1600]\ttraining's rmse: 0.412084\tvalid_1's rmse: 0.421608\n",
            "[1800]\ttraining's rmse: 0.410911\tvalid_1's rmse: 0.42104\n",
            "[2000]\ttraining's rmse: 0.409777\tvalid_1's rmse: 0.420569\n",
            "Did not meet early stopping. Best iteration is:\n",
            "[2000]\ttraining's rmse: 0.409777\tvalid_1's rmse: 0.420569\n",
            "Fold  4 RMSE: 0.420569\n",
            "Full Train RMSE score 0.419036\n",
            "Full Test RMSE score 0.436423\n",
            "Train SpearmanrResult(correlation=0.4300478784810825, pvalue=0.0)\n",
            "Test  SpearmanrResult(correlation=0.34861411060429703, pvalue=0.0)\n"
          ],
          "name": "stdout"
        }
      ]
    },
    {
      "metadata": {
        "id": "XoXHdXBjQOYG",
        "colab_type": "code",
        "colab": {}
      },
      "cell_type": "code",
      "source": [
        ""
      ],
      "execution_count": 0,
      "outputs": []
    },
    {
      "metadata": {
        "id": "Q_bNur2gGLxi",
        "colab_type": "code",
        "outputId": "14e43e59-911b-4778-8ce6-85803aaba936",
        "colab": {
          "base_uri": "https://localhost:8080/",
          "height": 84
        }
      },
      "cell_type": "code",
      "source": [
        "\n",
        "import lightgbm as lgb\n",
        "params = {}\n",
        "params['learning_rate'] = 0.05 # 0.004 # shrinkage_rate\n",
        "params['sub_feature'] = 0.35    # feature_fraction (small values => use very different submodels)\n",
        "params['min_data'] = 2        # min_data_in_leaf\n",
        "params['max_depth'] = 12\n",
        "d_train = lgb.Dataset(X_train, label=y_train)\n",
        "\n",
        "nboost=130\n",
        "\n",
        "reg = lgb.train(params, d_train,nboost)\n",
        "pred = reg.predict(X_test)\n",
        "\n",
        "n_minus = 30\n",
        "params['max_depth'] = 12\n",
        "reg = lgb.train(params, d_train, nboost-n_minus)\n",
        "alpha = 0.5\n",
        "pred = alpha*pred + (1-alpha)*reg.predict(X_test)\n",
        "\n",
        "n_plus = 40\n",
        "params['max_depth'] = 12\n",
        "params['bagging_freq'] = 5\n",
        "params['bagging_fraction'] = 1\n",
        "params['learning_rate'] = 0.05\n",
        "reg = lgb.train(params, d_train, nboost+n_plus)\n",
        "\n",
        "alpha = 0.78\n",
        "y_predLGB2 = alpha*pred + (1-alpha)*reg.predict(X_test)\n",
        "print('Train rmse '+str(rmse(reg.predict(X_train), y_train))) \n",
        "print('Test  rmse '+str(rmse(y_predLGB2, y_test)))\n",
        "print('Train '+str(spearmanr(reg.predict(X_train),y_train)))\n",
        "print('Test  '+str(spearmanr(y_predLGB2,y_test)))\n"
      ],
      "execution_count": 0,
      "outputs": [
        {
          "output_type": "stream",
          "text": [
            "Train rmse 0.4359256573494266\n",
            "Test  rmse 0.43960357925100585\n",
            "Train SpearmanrResult(correlation=0.3836319453117998, pvalue=0.0)\n",
            "Test  SpearmanrResult(correlation=0.3356860934500249, pvalue=0.0)\n"
          ],
          "name": "stdout"
        }
      ]
    },
    {
      "metadata": {
        "id": "SzIz2NJnG7JT",
        "colab_type": "code",
        "outputId": "4e2e25be-9fa5-456a-d057-792dbd84d443",
        "colab": {
          "base_uri": "https://localhost:8080/",
          "height": 84
        }
      },
      "cell_type": "code",
      "source": [
        "import math\n",
        "import re\n",
        "\n",
        "from sklearn import metrics\n",
        "from sklearn.ensemble import RandomForestRegressor\n",
        "from pandas.api.types import is_numeric_dtype\n",
        "\n",
        "import matplotlib.pyplot as plt\n",
        "m = RandomForestRegressor(n_estimators=1, max_depth=3, bootstrap=False, n_jobs=-1)\n",
        "m.fit(X_train, y_train)\n",
        "print_score(m)\n",
        "\n"
      ],
      "execution_count": 0,
      "outputs": [
        {
          "output_type": "stream",
          "text": [
            "Train rmse 0.4584617255265714\n",
            "Test  rmse 0.45493320421862793\n",
            "Train SpearmanrResult(correlation=0.2707215579903774, pvalue=0.0)\n",
            "Test  SpearmanrResult(correlation=0.19679482795345785, pvalue=0.0)\n"
          ],
          "name": "stdout"
        }
      ]
    },
    {
      "metadata": {
        "id": "LfJFTWoyuB5f",
        "colab_type": "code",
        "outputId": "643de4ec-c452-4f50-d03e-0e60e25897cc",
        "colab": {
          "base_uri": "https://localhost:8080/",
          "height": 84
        }
      },
      "cell_type": "code",
      "source": [
        "m = RandomForestRegressor(n_estimators=1, max_depth=12, bootstrap=False, n_jobs=-1)\n",
        "m.fit(X_train, y_train)\n",
        "print_score(m)\n",
        "\n"
      ],
      "execution_count": 0,
      "outputs": [
        {
          "output_type": "stream",
          "text": [
            "Train rmse 0.4281226239680668\n",
            "Test  rmse 0.44316128348607664\n",
            "Train SpearmanrResult(correlation=0.38268843162893595, pvalue=0.0)\n",
            "Test  SpearmanrResult(correlation=0.3110739261578664, pvalue=0.0)\n"
          ],
          "name": "stdout"
        }
      ]
    },
    {
      "metadata": {
        "id": "Arxk4JStuNTx",
        "colab_type": "code",
        "outputId": "736efb77-cd4e-4d5c-c17f-d8f24b7f6bc1",
        "colab": {
          "base_uri": "https://localhost:8080/",
          "height": 84
        }
      },
      "cell_type": "code",
      "source": [
        "m = RandomForestRegressor(n_estimators=1, max_depth=13, bootstrap=False, n_jobs=-1)\n",
        "m.fit(X_train, y_train)\n",
        "print_score(m)\n",
        "\n"
      ],
      "execution_count": 0,
      "outputs": [
        {
          "output_type": "stream",
          "text": [
            "Train rmse 0.4239640943625293\n",
            "Test  rmse 0.44474382945896707\n",
            "Train SpearmanrResult(correlation=0.39239761242622206, pvalue=0.0)\n",
            "Test  SpearmanrResult(correlation=0.31367756470944713, pvalue=0.0)\n"
          ],
          "name": "stdout"
        }
      ]
    },
    {
      "metadata": {
        "id": "mtYkerWmrUym",
        "colab_type": "code",
        "outputId": "624ca4a2-a75f-4cde-f0bf-0ddf035fda83",
        "colab": {
          "base_uri": "https://localhost:8080/",
          "height": 81
        }
      },
      "cell_type": "code",
      "source": [
        "from xgboost import XGBRegressor\n",
        "from xgboost import plot_importance\n",
        "mXGB = XGBRegressor(\n",
        "    max_depth=8,\n",
        "    n_estimators=1000,\n",
        "    min_child_weight=300, \n",
        "    colsample_bytree=0.8, \n",
        "    subsample=0.8, \n",
        "    eta=0.3,    \n",
        "    seed=42)\n",
        "\n",
        "mXGB.fit(\n",
        "    X_train, \n",
        "    y_train, \n",
        "    eval_metric=\"rmse\", \n",
        "    eval_set=[(X_train, y_train), (X_test, y_test)], \n",
        "    verbose=10, \n",
        "    early_stopping_rounds = 10)"
      ],
      "execution_count": 0,
      "outputs": [
        {
          "output_type": "stream",
          "text": [
            "/usr/local/lib/python3.6/dist-packages/xgboost/core.py:587: FutureWarning: Series.base is deprecated and will be removed in a future version\n",
            "  if getattr(data, 'base', None) is not None and \\\n",
            "/usr/local/lib/python3.6/dist-packages/xgboost/core.py:588: FutureWarning: Series.base is deprecated and will be removed in a future version\n",
            "  data.base is not None and isinstance(data, np.ndarray) \\\n"
          ],
          "name": "stderr"
        }
      ]
    },
    {
      "metadata": {
        "id": "evkS1Du5QQ26",
        "colab_type": "code",
        "outputId": "0313e432-0ca0-44b3-a199-bffb66a167a2",
        "colab": {
          "base_uri": "https://localhost:8080/",
          "height": 675
        }
      },
      "cell_type": "code",
      "source": [
        "xgb_params = {\n",
        "    \n",
        "   \n",
        "        'objective': 'reg:linear',\n",
        "        'booster': 'gbtree',\n",
        "        'learning_rate': 0.1,\n",
        "        'max_depth': 12,\n",
        "        'min_child_weight': 300,\n",
        "        'gamma' : 1.45,\n",
        "        'alpha': 0.0,\n",
        "        'lambda': 1.0,\n",
        "        'subsample': 0.8,\n",
        "        'colsample_bytree': 0.8,\n",
        "        'colsample_bylevel': 1,\n",
        "        'n_jobs': 1,\n",
        "        'random_state': 456 \n",
        "    }\n",
        "from sklearn.model_selection import KFold\n",
        "from xgboost import XGBRegressor\n",
        "from xgboost import plot_importance\n",
        "import gc\n",
        "def rmse(x,y): return math.sqrt(((x-y)**2).mean())\n",
        "folds = KFold(n_splits=4, shuffle=True, random_state=42)\n",
        "oof_reg_preds1 = np.zeros(X_train.shape[0])\n",
        "xgb_preds= np.zeros(X_test.shape[0])\n",
        "for n_fold, (trn_idx, val_idx) in enumerate(folds.split(X_train)):\n",
        "    trn_x, trn_y = X_train.iloc[trn_idx], y_train.iloc[trn_idx]\n",
        "    val_x, val_y = X_train.iloc[val_idx], y_train.iloc[val_idx]\n",
        "    \n",
        "    xgb = XGBRegressor(**xgb_params, n_estimators=200)\n",
        "   \n",
        "    print(\"-\"* 20 + \"XGboost Training\" + \"-\"* 20)\n",
        "    xgb.fit(trn_x, trn_y,eval_set= [(trn_x, trn_y), (val_x, val_y)],early_stopping_rounds=10,eval_metric='rmse',verbose=100)\n",
        "   \n",
        "    \n",
        "    # Xgboost\n",
        "    oof_reg_preds1[val_idx] = xgb.predict(val_x)\n",
        "    xgb_preds += xgb.predict(X_test)/ folds.n_splits\n",
        "    \n",
        "    \n",
        "    \n",
        "   \n",
        "    print('Fold %2d RMSE: %.6f' % (n_fold + 1, rmse(val_y, oof_reg_preds1[val_idx])))\n",
        "    del  trn_x, trn_y, val_x, val_y\n",
        "    gc.collect()\n",
        "    \n",
        "print('Full RMSE score %.6f' % rmse(y_train, oof_reg_preds1)) \n",
        "print('Full Test RMSE score %.6f' % rmse(y_test, xgb_preds))    \n",
        "print('Train '+str(spearmanr(oof_reg_preds1,y_train)))\n",
        "print('Test  '+str(spearmanr(xgb_preds,y_test)))  \n"
      ],
      "execution_count": 0,
      "outputs": [
        {
          "output_type": "stream",
          "text": [
            "--------------------XGboost Training--------------------\n"
          ],
          "name": "stdout"
        },
        {
          "output_type": "stream",
          "text": [
            "/usr/local/lib/python3.6/dist-packages/xgboost/core.py:587: FutureWarning: Series.base is deprecated and will be removed in a future version\n",
            "  if getattr(data, 'base', None) is not None and \\\n"
          ],
          "name": "stderr"
        },
        {
          "output_type": "stream",
          "text": [
            "[0]\tvalidation_0-rmse:0.768851\tvalidation_1-rmse:0.77011\n",
            "Multiple eval metrics have been passed: 'validation_1-rmse' will be used for early stopping.\n",
            "\n",
            "Will train until validation_1-rmse hasn't improved in 50 rounds.\n",
            "[100]\tvalidation_0-rmse:0.427423\tvalidation_1-rmse:0.430087\n",
            "[199]\tvalidation_0-rmse:0.42495\tvalidation_1-rmse:0.428211\n",
            "Fold  1 RMSE: 0.428251\n",
            "--------------------XGboost Training--------------------\n",
            "[0]\tvalidation_0-rmse:0.768981\tvalidation_1-rmse:0.769828\n",
            "Multiple eval metrics have been passed: 'validation_1-rmse' will be used for early stopping.\n",
            "\n",
            "Will train until validation_1-rmse hasn't improved in 50 rounds.\n",
            "[100]\tvalidation_0-rmse:0.427086\tvalidation_1-rmse:0.430948\n",
            "[199]\tvalidation_0-rmse:0.424629\tvalidation_1-rmse:0.429151\n",
            "Fold  2 RMSE: 0.429190\n",
            "--------------------XGboost Training--------------------\n",
            "[0]\tvalidation_0-rmse:0.769293\tvalidation_1-rmse:0.766926\n",
            "Multiple eval metrics have been passed: 'validation_1-rmse' will be used for early stopping.\n",
            "\n",
            "Will train until validation_1-rmse hasn't improved in 50 rounds.\n",
            "[100]\tvalidation_0-rmse:0.428365\tvalidation_1-rmse:0.427354\n",
            "[199]\tvalidation_0-rmse:0.426037\tvalidation_1-rmse:0.42567\n",
            "Fold  3 RMSE: 0.425706\n",
            "--------------------XGboost Training--------------------\n",
            "[0]\tvalidation_0-rmse:0.768395\tvalidation_1-rmse:0.769759\n",
            "Multiple eval metrics have been passed: 'validation_1-rmse' will be used for early stopping.\n",
            "\n",
            "Will train until validation_1-rmse hasn't improved in 50 rounds.\n",
            "[100]\tvalidation_0-rmse:0.426976\tvalidation_1-rmse:0.431267\n",
            "[199]\tvalidation_0-rmse:0.42467\tvalidation_1-rmse:0.429621\n",
            "Fold  4 RMSE: 0.429658\n",
            "Full RMSE score 0.428204\n",
            "Full Test RMSE score 0.436353\n",
            "Train SpearmanrResult(correlation=0.41143777083073646, pvalue=0.0)\n",
            "Test  SpearmanrResult(correlation=0.3493734303157858, pvalue=0.0)\n"
          ],
          "name": "stdout"
        }
      ]
    },
    {
      "metadata": {
        "id": "5PG28D8Oz5nq",
        "colab_type": "code",
        "outputId": "7794c333-77f9-45be-9031-f1f2e2d573ae",
        "colab": {
          "base_uri": "https://localhost:8080/",
          "height": 170
        }
      },
      "cell_type": "code",
      "source": [
        "!pip install catboost"
      ],
      "execution_count": 37,
      "outputs": [
        {
          "output_type": "stream",
          "text": [
            "Requirement already satisfied: catboost in /usr/local/lib/python3.6/dist-packages (0.14.2)\n",
            "Requirement already satisfied: numpy>=1.11.1 in /usr/local/lib/python3.6/dist-packages (from catboost) (1.16.2)\n",
            "Requirement already satisfied: graphviz in /usr/local/lib/python3.6/dist-packages (from catboost) (0.10.1)\n",
            "Requirement already satisfied: six in /usr/local/lib/python3.6/dist-packages (from catboost) (1.11.0)\n",
            "Requirement already satisfied: pandas>=0.19.1 in /usr/local/lib/python3.6/dist-packages (from catboost) (0.23.4)\n",
            "Requirement already satisfied: enum34 in /usr/local/lib/python3.6/dist-packages (from catboost) (1.1.6)\n",
            "Requirement already satisfied: pytz>=2011k in /usr/local/lib/python3.6/dist-packages (from pandas>=0.19.1->catboost) (2018.9)\n",
            "Requirement already satisfied: python-dateutil>=2.5.0 in /usr/local/lib/python3.6/dist-packages (from pandas>=0.19.1->catboost) (2.5.3)\n"
          ],
          "name": "stdout"
        }
      ]
    },
    {
      "metadata": {
        "id": "VPJkd9ll_S9K",
        "colab_type": "code",
        "colab": {
          "base_uri": "https://localhost:8080/",
          "height": 973
        },
        "outputId": "74535db7-8b51-4ec9-915c-c0373826f6d0"
      },
      "cell_type": "code",
      "source": [
        "from catboost import CatBoostRegressor\n",
        "cat_param = {\n",
        "    'learning_rate' :0.03,\n",
        "    'depth' :10,\n",
        "    'eval_metric' :'RMSE',\n",
        "    'od_type' :'Iter',\n",
        "    'metric_period ' : 50,\n",
        "    'od_wait' : 20,\n",
        "    'seed' : 42\n",
        "    \n",
        "}\n",
        "from sklearn.model_selection import KFold\n",
        "from xgboost import XGBRegressor\n",
        "from xgboost import plot_importance\n",
        "import gc\n",
        "def rmse(x,y): return math.sqrt(((x-y)**2).mean())\n",
        "folds = KFold(n_splits=4, shuffle=True, random_state=42)\n",
        "oof_reg_preds2 = np.zeros(X_train.shape[0])\n",
        "cat_preds= np.zeros(X_test.shape[0])\n",
        "for n_fold, (trn_idx, val_idx) in enumerate(folds.split(X_train)):\n",
        "    trn_x, trn_y = X_train.iloc[trn_idx], y_train.iloc[trn_idx]\n",
        "    val_x, val_y = X_train.iloc[val_idx], y_train.iloc[val_idx]\n",
        "    \n",
        "    cat = CatBoostRegressor(iterations=500,learning_rate=0.1,\n",
        "                            depth=10,\n",
        "                            eval_metric='RMSE',\n",
        "                            random_seed = 42,\n",
        "                            bagging_temperature = 0.2,\n",
        "                            od_type='Iter',\n",
        "                            metric_period = 50,\n",
        "                            od_wait=20)\n",
        "   \n",
        "    print(\"-\"* 20 + \"Catboost Training\" + \"-\"* 20)\n",
        "    cat.fit(trn_x, trn_y,eval_set= [ (val_x, val_y)],early_stopping_rounds=50,use_best_model=True,verbose=100)\n",
        "    \n",
        "    \n",
        "    # catboost\n",
        "    oof_reg_preds2[val_idx] = cat.predict(val_x)\n",
        "    cat_preds +=cat.predict(X_test)/ folds.n_splits\n",
        "    \n",
        "    \n",
        "    \n",
        "   \n",
        "    print('Fold %2d RMSE: %.6f' % (n_fold + 1, rmse(val_y, oof_reg_preds2[val_idx])))\n",
        "    del  trn_x, trn_y, val_x, val_y\n",
        "    gc.collect()\n",
        "    \n",
        "print('Full Train RMSE score %.6f' % rmse(y_train, oof_reg_preds2)) \n",
        "print('Full Test RMSE score %.6f' % rmse(y_test, cat_preds))    \n",
        "print('Train '+str(spearmanr(oof_reg_preds2,y_train)))\n",
        "print('Test  '+str(spearmanr(cat_preds,y_test)))  \n"
      ],
      "execution_count": 38,
      "outputs": [
        {
          "output_type": "stream",
          "text": [
            "--------------------Catboost Training--------------------\n"
          ],
          "name": "stdout"
        },
        {
          "output_type": "stream",
          "text": [
            "Warning: Overfitting detector is active, thus evaluation metric is calculated on every iteration. 'metric_period' is ignored for evaluation metric.\n"
          ],
          "name": "stderr"
        },
        {
          "output_type": "stream",
          "text": [
            "0:\tlearn: 0.4926833\ttest: 0.4936946\tbest: 0.4936946 (0)\ttotal: 410ms\tremaining: 3m 24s\n",
            "100:\tlearn: 0.4323729\ttest: 0.4341325\tbest: 0.4341325 (100)\ttotal: 40.1s\tremaining: 2m 38s\n",
            "200:\tlearn: 0.4261964\ttest: 0.4291475\tbest: 0.4291475 (200)\ttotal: 1m 19s\tremaining: 1m 58s\n",
            "300:\tlearn: 0.4221174\ttest: 0.4260828\tbest: 0.4260828 (300)\ttotal: 2m\tremaining: 1m 19s\n",
            "400:\tlearn: 0.4190516\ttest: 0.4240858\tbest: 0.4240858 (400)\ttotal: 2m 39s\tremaining: 39.5s\n",
            "499:\tlearn: 0.4166516\ttest: 0.4227841\tbest: 0.4227841 (499)\ttotal: 3m 18s\tremaining: 0us\n",
            "\n",
            "bestTest = 0.4227840557\n",
            "bestIteration = 499\n",
            "\n",
            "Fold  1 RMSE: 0.422784\n",
            "--------------------Catboost Training--------------------\n"
          ],
          "name": "stdout"
        },
        {
          "output_type": "stream",
          "text": [
            "Warning: Overfitting detector is active, thus evaluation metric is calculated on every iteration. 'metric_period' is ignored for evaluation metric.\n"
          ],
          "name": "stderr"
        },
        {
          "output_type": "stream",
          "text": [
            "0:\tlearn: 0.4927065\ttest: 0.4936078\tbest: 0.4936078 (0)\ttotal: 396ms\tremaining: 3m 17s\n",
            "100:\tlearn: 0.4318646\ttest: 0.4347527\tbest: 0.4347527 (100)\ttotal: 40.1s\tremaining: 2m 38s\n",
            "200:\tlearn: 0.4257660\ttest: 0.4299950\tbest: 0.4299950 (200)\ttotal: 1m 20s\tremaining: 1m 59s\n",
            "300:\tlearn: 0.4217042\ttest: 0.4271683\tbest: 0.4271683 (300)\ttotal: 2m\tremaining: 1m 19s\n",
            "400:\tlearn: 0.4187665\ttest: 0.4252305\tbest: 0.4252305 (400)\ttotal: 2m 40s\tremaining: 39.5s\n",
            "499:\tlearn: 0.4164254\ttest: 0.4238995\tbest: 0.4238995 (499)\ttotal: 3m 19s\tremaining: 0us\n",
            "\n",
            "bestTest = 0.4238995396\n",
            "bestIteration = 499\n",
            "\n",
            "Fold  2 RMSE: 0.423900\n",
            "--------------------Catboost Training--------------------\n"
          ],
          "name": "stdout"
        },
        {
          "output_type": "stream",
          "text": [
            "Warning: Overfitting detector is active, thus evaluation metric is calculated on every iteration. 'metric_period' is ignored for evaluation metric.\n"
          ],
          "name": "stderr"
        },
        {
          "output_type": "stream",
          "text": [
            "0:\tlearn: 0.4939209\ttest: 0.4901540\tbest: 0.4901540 (0)\ttotal: 405ms\tremaining: 3m 22s\n",
            "100:\tlearn: 0.4331525\ttest: 0.4314514\tbest: 0.4314514 (100)\ttotal: 41.1s\tremaining: 2m 42s\n",
            "200:\tlearn: 0.4268793\ttest: 0.4264572\tbest: 0.4264572 (200)\ttotal: 1m 21s\tremaining: 2m\n",
            "300:\tlearn: 0.4228596\ttest: 0.4236488\tbest: 0.4236488 (300)\ttotal: 2m 1s\tremaining: 1m 20s\n",
            "400:\tlearn: 0.4198209\ttest: 0.4216910\tbest: 0.4216910 (400)\ttotal: 2m 41s\tremaining: 39.8s\n",
            "499:\tlearn: 0.4174255\ttest: 0.4202745\tbest: 0.4202745 (499)\ttotal: 3m 21s\tremaining: 0us\n",
            "\n",
            "bestTest = 0.4202745145\n",
            "bestIteration = 499\n",
            "\n",
            "Fold  3 RMSE: 0.420275\n",
            "--------------------Catboost Training--------------------\n"
          ],
          "name": "stdout"
        },
        {
          "output_type": "stream",
          "text": [
            "Warning: Overfitting detector is active, thus evaluation metric is calculated on every iteration. 'metric_period' is ignored for evaluation metric.\n"
          ],
          "name": "stderr"
        },
        {
          "output_type": "stream",
          "text": [
            "0:\tlearn: 0.4925112\ttest: 0.4944108\tbest: 0.4944108 (0)\ttotal: 399ms\tremaining: 3m 19s\n",
            "100:\tlearn: 0.4318276\ttest: 0.4348456\tbest: 0.4348456 (100)\ttotal: 40.7s\tremaining: 2m 40s\n",
            "200:\tlearn: 0.4255417\ttest: 0.4298447\tbest: 0.4298447 (200)\ttotal: 1m 20s\tremaining: 2m\n",
            "300:\tlearn: 0.4216109\ttest: 0.4270190\tbest: 0.4270190 (300)\ttotal: 2m 1s\tremaining: 1m 20s\n",
            "400:\tlearn: 0.4184761\ttest: 0.4249768\tbest: 0.4249768 (400)\ttotal: 2m 41s\tremaining: 39.8s\n",
            "499:\tlearn: 0.4160384\ttest: 0.4235622\tbest: 0.4235622 (499)\ttotal: 3m 21s\tremaining: 0us\n",
            "\n",
            "bestTest = 0.4235622278\n",
            "bestIteration = 499\n",
            "\n",
            "Fold  4 RMSE: 0.423562\n",
            "Full Train RMSE score 0.422632\n",
            "Full Test RMSE score 0.435937\n",
            "Train SpearmanrResult(correlation=0.42230013422635765, pvalue=0.0)\n",
            "Test  SpearmanrResult(correlation=0.34671598575371193, pvalue=0.0)\n"
          ],
          "name": "stdout"
        }
      ]
    }
  ]
}